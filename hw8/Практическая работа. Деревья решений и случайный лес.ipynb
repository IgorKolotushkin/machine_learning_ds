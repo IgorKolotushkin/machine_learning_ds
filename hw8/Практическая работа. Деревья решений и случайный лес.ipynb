{
 "cells": [
  {
   "cell_type": "markdown",
   "metadata": {
    "id": "wGUh9-kKDVk_"
   },
   "source": [
    "# Случайный лес\n",
    "\n",
    "В этом практическом задании вы решите задачу регрессии на реальных данных при помощи линейной модели и случайного леса. "
   ]
  },
  {
   "cell_type": "markdown",
   "metadata": {
    "id": "RS-i_3wQqtxS"
   },
   "source": [
    "## Цели практической работы\n",
    "\n",
    "* Научиться применять случайный лес в задаче регрессии.\n",
    "* Научиться сравнивать качество случайного леса с качеством линейной модели.\n",
    "* Научиться настраивать гиперпараметры леса."
   ]
  },
  {
   "cell_type": "markdown",
   "metadata": {
    "id": "4Uo9gVtsqbJX"
   },
   "source": [
    "## Что входит в работу\n",
    "\n",
    "* Выполнить предобработку данных.\n",
    "* Обучить линейную регрессию на данных задачи.\n",
    "* Обучить случайный лес на данных задачи.\n",
    "* Подобрать гиперпараметры для леса.\n",
    "* Визуализировать важность признаков у леса."
   ]
  },
  {
   "cell_type": "markdown",
   "metadata": {
    "id": "9WSnh3hKrFZX"
   },
   "source": [
    "## Что оценивается\n",
    "\n",
    "*  Все ячейки заполнены; при запуске ячеек  Python не выдаёт информацию об ошибках.\n",
    "*  Качество итоговой модели $R^2$ превышает 0,95.\n"
   ]
  },
  {
   "cell_type": "markdown",
   "metadata": {
    "id": "Tb-5iUrybT-m"
   },
   "source": [
    "## Что нужно сделать\n",
    "\n",
    "Постройте модели, предсказывающие стоимость автомобилей по характеристикам.\n",
    "\n",
    "Признаков у машин много, но в этой работе обойдёмся только числовыми признаками:\n",
    "*  year — год производства автомобиля;\n",
    "*  km_driven — пробег;\n",
    "*  seats — количество посадочных мест;\n",
    "*  mileage — другая характеристика пробега;\n",
    "*  engine — мощность двигателя;\n",
    "*  max_power — мощность автомобиля.\n",
    "\n",
    "Целевая переменная — selling_price."
   ]
  },
  {
   "cell_type": "code",
   "execution_count": 39,
   "metadata": {
    "id": "0smCupJnhCRx"
   },
   "outputs": [],
   "source": [
    "import pandas as pd\n",
    "import numpy as np\n",
    "\n",
    "train = pd.read_csv(\"cars_train.csv\")\n",
    "test = pd.read_csv(\"cars_test.csv\")"
   ]
  },
  {
   "cell_type": "code",
   "execution_count": 2,
   "metadata": {},
   "outputs": [
    {
     "data": {
      "text/plain": "                                                   name    year  \\\n0                                Maruti Swift Dzire VDI  2014.0   \n1                          Skoda Rapid 1.5 TDI Ambition  2014.0   \n2                             Hyundai i20 Sportz Diesel  2010.0   \n3     Maruti Swift VXI BSIII,2007,130000,120000,Petr...     NaN   \n4                         Hyundai Xcent 1.2 VTVT E Plus  2017.0   \n...                                                 ...     ...   \n6993                                  Hyundai i20 Magna  2013.0   \n6994  Hyundai Verna CRDi SX,2007,135000,119000,Diese...     NaN   \n6995                             Maruti Swift Dzire ZDi  2009.0   \n6996                                    Tata Indigo CR4  2013.0   \n6997                                    Tata Indigo CR4  2013.0   \n\n      selling_price  km_driven    fuel seller_type transmission         owner  \\\n0          450000.0   145500.0  Diesel  Individual       Manual   First Owner   \n1          370000.0   120000.0  Diesel  Individual       Manual  Second Owner   \n2          225000.0   127000.0  Diesel  Individual       Manual   First Owner   \n3               NaN        NaN     NaN         NaN          NaN           NaN   \n4          440000.0    45000.0  Petrol  Individual       Manual   First Owner   \n...             ...        ...     ...         ...          ...           ...   \n6993       320000.0   110000.0  Petrol  Individual       Manual   First Owner   \n6994            NaN        NaN     NaN         NaN          NaN           NaN   \n6995       382000.0   120000.0  Diesel  Individual       Manual   First Owner   \n6996       290000.0    25000.0  Diesel  Individual       Manual   First Owner   \n6997       290000.0    25000.0  Diesel  Individual       Manual   First Owner   \n\n         mileage   engine   max_power                    torque  seats  \n0      23.4 kmpl  1248 CC      74 bhp            190Nm@ 2000rpm    5.0  \n1     21.14 kmpl  1498 CC  103.52 bhp       250Nm@ 1500-2500rpm    5.0  \n2      23.0 kmpl  1396 CC      90 bhp  22.4 kgm at 1750-2750rpm    5.0  \n3            NaN      NaN         NaN                       NaN    NaN  \n4     20.14 kmpl  1197 CC   81.86 bhp         113.75nm@ 4000rpm    5.0  \n...          ...      ...         ...                       ...    ...  \n6993   18.5 kmpl  1197 CC   82.85 bhp          113.7Nm@ 4000rpm    5.0  \n6994         NaN      NaN         NaN                       NaN    NaN  \n6995   19.3 kmpl  1248 CC    73.9 bhp            190Nm@ 2000rpm    5.0  \n6996  23.57 kmpl  1396 CC      70 bhp       140Nm@ 1800-3000rpm    5.0  \n6997  23.57 kmpl  1396 CC      70 bhp       140Nm@ 1800-3000rpm    5.0  \n\n[6998 rows x 13 columns]",
      "text/html": "<div>\n<style scoped>\n    .dataframe tbody tr th:only-of-type {\n        vertical-align: middle;\n    }\n\n    .dataframe tbody tr th {\n        vertical-align: top;\n    }\n\n    .dataframe thead th {\n        text-align: right;\n    }\n</style>\n<table border=\"1\" class=\"dataframe\">\n  <thead>\n    <tr style=\"text-align: right;\">\n      <th></th>\n      <th>name</th>\n      <th>year</th>\n      <th>selling_price</th>\n      <th>km_driven</th>\n      <th>fuel</th>\n      <th>seller_type</th>\n      <th>transmission</th>\n      <th>owner</th>\n      <th>mileage</th>\n      <th>engine</th>\n      <th>max_power</th>\n      <th>torque</th>\n      <th>seats</th>\n    </tr>\n  </thead>\n  <tbody>\n    <tr>\n      <th>0</th>\n      <td>Maruti Swift Dzire VDI</td>\n      <td>2014.0</td>\n      <td>450000.0</td>\n      <td>145500.0</td>\n      <td>Diesel</td>\n      <td>Individual</td>\n      <td>Manual</td>\n      <td>First Owner</td>\n      <td>23.4 kmpl</td>\n      <td>1248 CC</td>\n      <td>74 bhp</td>\n      <td>190Nm@ 2000rpm</td>\n      <td>5.0</td>\n    </tr>\n    <tr>\n      <th>1</th>\n      <td>Skoda Rapid 1.5 TDI Ambition</td>\n      <td>2014.0</td>\n      <td>370000.0</td>\n      <td>120000.0</td>\n      <td>Diesel</td>\n      <td>Individual</td>\n      <td>Manual</td>\n      <td>Second Owner</td>\n      <td>21.14 kmpl</td>\n      <td>1498 CC</td>\n      <td>103.52 bhp</td>\n      <td>250Nm@ 1500-2500rpm</td>\n      <td>5.0</td>\n    </tr>\n    <tr>\n      <th>2</th>\n      <td>Hyundai i20 Sportz Diesel</td>\n      <td>2010.0</td>\n      <td>225000.0</td>\n      <td>127000.0</td>\n      <td>Diesel</td>\n      <td>Individual</td>\n      <td>Manual</td>\n      <td>First Owner</td>\n      <td>23.0 kmpl</td>\n      <td>1396 CC</td>\n      <td>90 bhp</td>\n      <td>22.4 kgm at 1750-2750rpm</td>\n      <td>5.0</td>\n    </tr>\n    <tr>\n      <th>3</th>\n      <td>Maruti Swift VXI BSIII,2007,130000,120000,Petr...</td>\n      <td>NaN</td>\n      <td>NaN</td>\n      <td>NaN</td>\n      <td>NaN</td>\n      <td>NaN</td>\n      <td>NaN</td>\n      <td>NaN</td>\n      <td>NaN</td>\n      <td>NaN</td>\n      <td>NaN</td>\n      <td>NaN</td>\n      <td>NaN</td>\n    </tr>\n    <tr>\n      <th>4</th>\n      <td>Hyundai Xcent 1.2 VTVT E Plus</td>\n      <td>2017.0</td>\n      <td>440000.0</td>\n      <td>45000.0</td>\n      <td>Petrol</td>\n      <td>Individual</td>\n      <td>Manual</td>\n      <td>First Owner</td>\n      <td>20.14 kmpl</td>\n      <td>1197 CC</td>\n      <td>81.86 bhp</td>\n      <td>113.75nm@ 4000rpm</td>\n      <td>5.0</td>\n    </tr>\n    <tr>\n      <th>...</th>\n      <td>...</td>\n      <td>...</td>\n      <td>...</td>\n      <td>...</td>\n      <td>...</td>\n      <td>...</td>\n      <td>...</td>\n      <td>...</td>\n      <td>...</td>\n      <td>...</td>\n      <td>...</td>\n      <td>...</td>\n      <td>...</td>\n    </tr>\n    <tr>\n      <th>6993</th>\n      <td>Hyundai i20 Magna</td>\n      <td>2013.0</td>\n      <td>320000.0</td>\n      <td>110000.0</td>\n      <td>Petrol</td>\n      <td>Individual</td>\n      <td>Manual</td>\n      <td>First Owner</td>\n      <td>18.5 kmpl</td>\n      <td>1197 CC</td>\n      <td>82.85 bhp</td>\n      <td>113.7Nm@ 4000rpm</td>\n      <td>5.0</td>\n    </tr>\n    <tr>\n      <th>6994</th>\n      <td>Hyundai Verna CRDi SX,2007,135000,119000,Diese...</td>\n      <td>NaN</td>\n      <td>NaN</td>\n      <td>NaN</td>\n      <td>NaN</td>\n      <td>NaN</td>\n      <td>NaN</td>\n      <td>NaN</td>\n      <td>NaN</td>\n      <td>NaN</td>\n      <td>NaN</td>\n      <td>NaN</td>\n      <td>NaN</td>\n    </tr>\n    <tr>\n      <th>6995</th>\n      <td>Maruti Swift Dzire ZDi</td>\n      <td>2009.0</td>\n      <td>382000.0</td>\n      <td>120000.0</td>\n      <td>Diesel</td>\n      <td>Individual</td>\n      <td>Manual</td>\n      <td>First Owner</td>\n      <td>19.3 kmpl</td>\n      <td>1248 CC</td>\n      <td>73.9 bhp</td>\n      <td>190Nm@ 2000rpm</td>\n      <td>5.0</td>\n    </tr>\n    <tr>\n      <th>6996</th>\n      <td>Tata Indigo CR4</td>\n      <td>2013.0</td>\n      <td>290000.0</td>\n      <td>25000.0</td>\n      <td>Diesel</td>\n      <td>Individual</td>\n      <td>Manual</td>\n      <td>First Owner</td>\n      <td>23.57 kmpl</td>\n      <td>1396 CC</td>\n      <td>70 bhp</td>\n      <td>140Nm@ 1800-3000rpm</td>\n      <td>5.0</td>\n    </tr>\n    <tr>\n      <th>6997</th>\n      <td>Tata Indigo CR4</td>\n      <td>2013.0</td>\n      <td>290000.0</td>\n      <td>25000.0</td>\n      <td>Diesel</td>\n      <td>Individual</td>\n      <td>Manual</td>\n      <td>First Owner</td>\n      <td>23.57 kmpl</td>\n      <td>1396 CC</td>\n      <td>70 bhp</td>\n      <td>140Nm@ 1800-3000rpm</td>\n      <td>5.0</td>\n    </tr>\n  </tbody>\n</table>\n<p>6998 rows × 13 columns</p>\n</div>"
     },
     "execution_count": 2,
     "metadata": {},
     "output_type": "execute_result"
    }
   ],
   "source": [
    "train"
   ]
  },
  {
   "cell_type": "markdown",
   "metadata": {},
   "source": [
    "В тренировочных данных есть автомобили, для которых неизвестна стоимость. Удалите эти автомобили из трейна."
   ]
  },
  {
   "cell_type": "code",
   "execution_count": 40,
   "metadata": {},
   "outputs": [
    {
     "data": {
      "text/plain": "                                   name    year  selling_price  km_driven  \\\n0                Maruti Swift Dzire VDI  2014.0       450000.0   145500.0   \n1          Skoda Rapid 1.5 TDI Ambition  2014.0       370000.0   120000.0   \n2             Hyundai i20 Sportz Diesel  2010.0       225000.0   127000.0   \n4         Hyundai Xcent 1.2 VTVT E Plus  2017.0       440000.0    45000.0   \n6                    Maruti 800 DX BSII  2001.0        45000.0     5000.0   \n...                                 ...     ...            ...        ...   \n6992  Maruti Wagon R VXI BS IV with ABS  2013.0       260000.0    50000.0   \n6993                  Hyundai i20 Magna  2013.0       320000.0   110000.0   \n6995             Maruti Swift Dzire ZDi  2009.0       382000.0   120000.0   \n6996                    Tata Indigo CR4  2013.0       290000.0    25000.0   \n6997                    Tata Indigo CR4  2013.0       290000.0    25000.0   \n\n        fuel seller_type transmission         owner     mileage   engine  \\\n0     Diesel  Individual       Manual   First Owner   23.4 kmpl  1248 CC   \n1     Diesel  Individual       Manual  Second Owner  21.14 kmpl  1498 CC   \n2     Diesel  Individual       Manual   First Owner   23.0 kmpl  1396 CC   \n4     Petrol  Individual       Manual   First Owner  20.14 kmpl  1197 CC   \n6     Petrol  Individual       Manual  Second Owner   16.1 kmpl   796 CC   \n...      ...         ...          ...           ...         ...      ...   \n6992  Petrol  Individual       Manual  Second Owner   18.9 kmpl   998 CC   \n6993  Petrol  Individual       Manual   First Owner   18.5 kmpl  1197 CC   \n6995  Diesel  Individual       Manual   First Owner   19.3 kmpl  1248 CC   \n6996  Diesel  Individual       Manual   First Owner  23.57 kmpl  1396 CC   \n6997  Diesel  Individual       Manual   First Owner  23.57 kmpl  1396 CC   \n\n       max_power                    torque  seats  \n0         74 bhp            190Nm@ 2000rpm    5.0  \n1     103.52 bhp       250Nm@ 1500-2500rpm    5.0  \n2         90 bhp  22.4 kgm at 1750-2750rpm    5.0  \n4      81.86 bhp         113.75nm@ 4000rpm    5.0  \n6         37 bhp             59Nm@ 2500rpm    4.0  \n...          ...                       ...    ...  \n6992    67.1 bhp             90Nm@ 3500rpm    5.0  \n6993   82.85 bhp          113.7Nm@ 4000rpm    5.0  \n6995    73.9 bhp            190Nm@ 2000rpm    5.0  \n6996      70 bhp       140Nm@ 1800-3000rpm    5.0  \n6997      70 bhp       140Nm@ 1800-3000rpm    5.0  \n\n[6699 rows x 13 columns]",
      "text/html": "<div>\n<style scoped>\n    .dataframe tbody tr th:only-of-type {\n        vertical-align: middle;\n    }\n\n    .dataframe tbody tr th {\n        vertical-align: top;\n    }\n\n    .dataframe thead th {\n        text-align: right;\n    }\n</style>\n<table border=\"1\" class=\"dataframe\">\n  <thead>\n    <tr style=\"text-align: right;\">\n      <th></th>\n      <th>name</th>\n      <th>year</th>\n      <th>selling_price</th>\n      <th>km_driven</th>\n      <th>fuel</th>\n      <th>seller_type</th>\n      <th>transmission</th>\n      <th>owner</th>\n      <th>mileage</th>\n      <th>engine</th>\n      <th>max_power</th>\n      <th>torque</th>\n      <th>seats</th>\n    </tr>\n  </thead>\n  <tbody>\n    <tr>\n      <th>0</th>\n      <td>Maruti Swift Dzire VDI</td>\n      <td>2014.0</td>\n      <td>450000.0</td>\n      <td>145500.0</td>\n      <td>Diesel</td>\n      <td>Individual</td>\n      <td>Manual</td>\n      <td>First Owner</td>\n      <td>23.4 kmpl</td>\n      <td>1248 CC</td>\n      <td>74 bhp</td>\n      <td>190Nm@ 2000rpm</td>\n      <td>5.0</td>\n    </tr>\n    <tr>\n      <th>1</th>\n      <td>Skoda Rapid 1.5 TDI Ambition</td>\n      <td>2014.0</td>\n      <td>370000.0</td>\n      <td>120000.0</td>\n      <td>Diesel</td>\n      <td>Individual</td>\n      <td>Manual</td>\n      <td>Second Owner</td>\n      <td>21.14 kmpl</td>\n      <td>1498 CC</td>\n      <td>103.52 bhp</td>\n      <td>250Nm@ 1500-2500rpm</td>\n      <td>5.0</td>\n    </tr>\n    <tr>\n      <th>2</th>\n      <td>Hyundai i20 Sportz Diesel</td>\n      <td>2010.0</td>\n      <td>225000.0</td>\n      <td>127000.0</td>\n      <td>Diesel</td>\n      <td>Individual</td>\n      <td>Manual</td>\n      <td>First Owner</td>\n      <td>23.0 kmpl</td>\n      <td>1396 CC</td>\n      <td>90 bhp</td>\n      <td>22.4 kgm at 1750-2750rpm</td>\n      <td>5.0</td>\n    </tr>\n    <tr>\n      <th>4</th>\n      <td>Hyundai Xcent 1.2 VTVT E Plus</td>\n      <td>2017.0</td>\n      <td>440000.0</td>\n      <td>45000.0</td>\n      <td>Petrol</td>\n      <td>Individual</td>\n      <td>Manual</td>\n      <td>First Owner</td>\n      <td>20.14 kmpl</td>\n      <td>1197 CC</td>\n      <td>81.86 bhp</td>\n      <td>113.75nm@ 4000rpm</td>\n      <td>5.0</td>\n    </tr>\n    <tr>\n      <th>6</th>\n      <td>Maruti 800 DX BSII</td>\n      <td>2001.0</td>\n      <td>45000.0</td>\n      <td>5000.0</td>\n      <td>Petrol</td>\n      <td>Individual</td>\n      <td>Manual</td>\n      <td>Second Owner</td>\n      <td>16.1 kmpl</td>\n      <td>796 CC</td>\n      <td>37 bhp</td>\n      <td>59Nm@ 2500rpm</td>\n      <td>4.0</td>\n    </tr>\n    <tr>\n      <th>...</th>\n      <td>...</td>\n      <td>...</td>\n      <td>...</td>\n      <td>...</td>\n      <td>...</td>\n      <td>...</td>\n      <td>...</td>\n      <td>...</td>\n      <td>...</td>\n      <td>...</td>\n      <td>...</td>\n      <td>...</td>\n      <td>...</td>\n    </tr>\n    <tr>\n      <th>6992</th>\n      <td>Maruti Wagon R VXI BS IV with ABS</td>\n      <td>2013.0</td>\n      <td>260000.0</td>\n      <td>50000.0</td>\n      <td>Petrol</td>\n      <td>Individual</td>\n      <td>Manual</td>\n      <td>Second Owner</td>\n      <td>18.9 kmpl</td>\n      <td>998 CC</td>\n      <td>67.1 bhp</td>\n      <td>90Nm@ 3500rpm</td>\n      <td>5.0</td>\n    </tr>\n    <tr>\n      <th>6993</th>\n      <td>Hyundai i20 Magna</td>\n      <td>2013.0</td>\n      <td>320000.0</td>\n      <td>110000.0</td>\n      <td>Petrol</td>\n      <td>Individual</td>\n      <td>Manual</td>\n      <td>First Owner</td>\n      <td>18.5 kmpl</td>\n      <td>1197 CC</td>\n      <td>82.85 bhp</td>\n      <td>113.7Nm@ 4000rpm</td>\n      <td>5.0</td>\n    </tr>\n    <tr>\n      <th>6995</th>\n      <td>Maruti Swift Dzire ZDi</td>\n      <td>2009.0</td>\n      <td>382000.0</td>\n      <td>120000.0</td>\n      <td>Diesel</td>\n      <td>Individual</td>\n      <td>Manual</td>\n      <td>First Owner</td>\n      <td>19.3 kmpl</td>\n      <td>1248 CC</td>\n      <td>73.9 bhp</td>\n      <td>190Nm@ 2000rpm</td>\n      <td>5.0</td>\n    </tr>\n    <tr>\n      <th>6996</th>\n      <td>Tata Indigo CR4</td>\n      <td>2013.0</td>\n      <td>290000.0</td>\n      <td>25000.0</td>\n      <td>Diesel</td>\n      <td>Individual</td>\n      <td>Manual</td>\n      <td>First Owner</td>\n      <td>23.57 kmpl</td>\n      <td>1396 CC</td>\n      <td>70 bhp</td>\n      <td>140Nm@ 1800-3000rpm</td>\n      <td>5.0</td>\n    </tr>\n    <tr>\n      <th>6997</th>\n      <td>Tata Indigo CR4</td>\n      <td>2013.0</td>\n      <td>290000.0</td>\n      <td>25000.0</td>\n      <td>Diesel</td>\n      <td>Individual</td>\n      <td>Manual</td>\n      <td>First Owner</td>\n      <td>23.57 kmpl</td>\n      <td>1396 CC</td>\n      <td>70 bhp</td>\n      <td>140Nm@ 1800-3000rpm</td>\n      <td>5.0</td>\n    </tr>\n  </tbody>\n</table>\n<p>6699 rows × 13 columns</p>\n</div>"
     },
     "execution_count": 40,
     "metadata": {},
     "output_type": "execute_result"
    }
   ],
   "source": [
    "train = train.drop(index=train.loc[train['selling_price'].isna()].index)\n",
    "train"
   ]
  },
  {
   "cell_type": "markdown",
   "metadata": {},
   "source": [
    "Создайте объекты Xtrain, ytrain, Xtest, ytest. Запишите в них матрицы «объект — признак» и векторы целевой переменной для тренировочного и тестового датасетов."
   ]
  },
  {
   "cell_type": "code",
   "execution_count": 61,
   "metadata": {
    "id": "2tLR6TQAiuXf"
   },
   "outputs": [],
   "source": [
    "Xtrain = train.drop(columns=['selling_price'])\n",
    "ytrain = train['selling_price']\n",
    "\n",
    "Xtest = test.drop(columns=['selling_price'])\n",
    "ytest = test['selling_price']"
   ]
  },
  {
   "cell_type": "markdown",
   "metadata": {
    "id": "3HbVvXLSlVK-"
   },
   "source": [
    "Перед обучением моделей обработайте данные.\n",
    "\n",
    "Обратите внимание, что столбцы mileage, engine и max_power по смыслу числовые. Чтобы превратить их в числовые столбцы, отбросьте единицы измерения и оставьте только числа. В столбцах есть пропущенные значения, их при обработке трогать не нужно."
   ]
  },
  {
   "cell_type": "code",
   "execution_count": 5,
   "metadata": {},
   "outputs": [
    {
     "name": "stdout",
     "output_type": "stream",
     "text": [
      "<class 'pandas.core.series.Series'>\n",
      "Index: 6699 entries, 0 to 6997\n",
      "Series name: mileage\n",
      "Non-Null Count  Dtype \n",
      "--------------  ----- \n",
      "6497 non-null   object\n",
      "dtypes: object(1)\n",
      "memory usage: 104.7+ KB\n"
     ]
    }
   ],
   "source": [
    "Xtrain['mileage'].info()"
   ]
  },
  {
   "cell_type": "code",
   "execution_count": 6,
   "metadata": {},
   "outputs": [
    {
     "name": "stdout",
     "output_type": "stream",
     "text": [
      "<class 'pandas.core.series.Series'>\n",
      "Index: 6699 entries, 0 to 6997\n",
      "Series name: engine\n",
      "Non-Null Count  Dtype \n",
      "--------------  ----- \n",
      "6497 non-null   object\n",
      "dtypes: object(1)\n",
      "memory usage: 104.7+ KB\n"
     ]
    }
   ],
   "source": [
    "Xtrain['engine'].info()"
   ]
  },
  {
   "cell_type": "code",
   "execution_count": 7,
   "metadata": {},
   "outputs": [
    {
     "name": "stdout",
     "output_type": "stream",
     "text": [
      "<class 'pandas.core.series.Series'>\n",
      "Index: 6699 entries, 0 to 6997\n",
      "Series name: max_power\n",
      "Non-Null Count  Dtype \n",
      "--------------  ----- \n",
      "6503 non-null   object\n",
      "dtypes: object(1)\n",
      "memory usage: 104.7+ KB\n"
     ]
    }
   ],
   "source": [
    "Xtrain['max_power'].info()"
   ]
  },
  {
   "cell_type": "code",
   "execution_count": 8,
   "metadata": {},
   "outputs": [
    {
     "data": {
      "text/plain": "202"
     },
     "execution_count": 8,
     "metadata": {},
     "output_type": "execute_result"
    }
   ],
   "source": [
    "sum(Xtrain['mileage'].isna())"
   ]
  },
  {
   "cell_type": "code",
   "execution_count": 9,
   "metadata": {},
   "outputs": [
    {
     "data": {
      "text/plain": "202"
     },
     "execution_count": 9,
     "metadata": {},
     "output_type": "execute_result"
    }
   ],
   "source": [
    "sum(Xtrain['engine'].isna())"
   ]
  },
  {
   "cell_type": "code",
   "execution_count": 10,
   "metadata": {},
   "outputs": [
    {
     "data": {
      "text/plain": "0       1248 CC\n1       1498 CC\n2       1396 CC\n4       1197 CC\n6        796 CC\n         ...   \n6992     998 CC\n6993    1197 CC\n6995    1248 CC\n6996    1396 CC\n6997    1396 CC\nName: engine, Length: 6699, dtype: object"
     },
     "execution_count": 10,
     "metadata": {},
     "output_type": "execute_result"
    }
   ],
   "source": [
    "Xtrain['engine']"
   ]
  },
  {
   "cell_type": "code",
   "execution_count": 22,
   "metadata": {},
   "outputs": [
    {
     "data": {
      "text/plain": [
       "196"
      ]
     },
     "execution_count": 22,
     "metadata": {},
     "output_type": "execute_result"
    }
   ],
   "source": [
    "sum(Xtrain['max_power'].isna())"
   ]
  },
  {
   "cell_type": "code",
   "execution_count": 31,
   "metadata": {},
   "outputs": [
    {
     "data": {
      "text/plain": [
       "0           74 bhp\n",
       "1       103.52 bhp\n",
       "2           90 bhp\n",
       "4        81.86 bhp\n",
       "6           37 bhp\n",
       "           ...    \n",
       "6992      67.1 bhp\n",
       "6993     82.85 bhp\n",
       "6995      73.9 bhp\n",
       "6996        70 bhp\n",
       "6997        70 bhp\n",
       "Name: max_power, Length: 6699, dtype: object"
      ]
     },
     "execution_count": 31,
     "metadata": {},
     "output_type": "execute_result"
    }
   ],
   "source": [
    "Xtrain['max_power']"
   ]
  },
  {
   "cell_type": "code",
   "execution_count": 25,
   "metadata": {},
   "outputs": [
    {
     "data": {
      "text/plain": [
       "0        23.4 kmpl\n",
       "1       21.14 kmpl\n",
       "2        23.0 kmpl\n",
       "4       20.14 kmpl\n",
       "6        16.1 kmpl\n",
       "           ...    \n",
       "6992     18.9 kmpl\n",
       "6993     18.5 kmpl\n",
       "6995     19.3 kmpl\n",
       "6996    23.57 kmpl\n",
       "6997    23.57 kmpl\n",
       "Name: mileage, Length: 6699, dtype: object"
      ]
     },
     "execution_count": 25,
     "metadata": {},
     "output_type": "execute_result"
    }
   ],
   "source": [
    "Xtrain['mileage']"
   ]
  },
  {
   "cell_type": "code",
   "execution_count": 15,
   "outputs": [
    {
     "data": {
      "text/plain": "                                      name    year  km_driven    fuel  \\\n12                    Maruti Swift 1.3 VXi  2007.0    80000.0  Petrol   \n28                      Fiat Palio 1.2 ELX  2003.0    50000.0  Petrol   \n69                         Tata Indica DLS  2003.0    70000.0  Diesel   \n78             Maruti Swift VDI BSIV W ABS  2015.0    78000.0  Diesel   \n107                  Maruti Swift VDI BSIV  2010.0   120000.0  Diesel   \n...                                    ...     ...        ...     ...   \n6763                Toyota Qualis Fleet A3  2000.0   100000.0  Diesel   \n6888             Hyundai Santro LS zipPlus  2000.0    50000.0  Petrol   \n6900  Hyundai Santro Xing XS eRLX Euro III  2006.0    80000.0  Petrol   \n6948             Ford Figo Aspire Facelift  2017.0   165000.0  Diesel   \n6975                  Maruti Swift 1.3 VXi  2006.0   100000.0  Petrol   \n\n     seller_type transmission         owner  mileage engine max_power torque  \\\n12    Individual       Manual  Second Owner      NaN    NaN       NaN    NaN   \n28    Individual       Manual  Second Owner      NaN    NaN       NaN    NaN   \n69    Individual       Manual   First Owner      NaN    NaN       NaN    NaN   \n78        Dealer       Manual   First Owner      NaN    NaN       NaN    NaN   \n107   Individual       Manual  Second Owner      NaN    NaN       NaN    NaN   \n...          ...          ...           ...      ...    ...       ...    ...   \n6763  Individual       Manual   First Owner      NaN    NaN       NaN    NaN   \n6888  Individual       Manual  Second Owner      NaN    NaN       NaN    NaN   \n6900  Individual       Manual  Second Owner      NaN    NaN       NaN    NaN   \n6948  Individual       Manual   First Owner      NaN    NaN       NaN    NaN   \n6975  Individual       Manual  Second Owner      NaN    NaN       NaN    NaN   \n\n      seats  \n12      NaN  \n28      NaN  \n69      NaN  \n78      NaN  \n107     NaN  \n...     ...  \n6763    NaN  \n6888    NaN  \n6900    NaN  \n6948    NaN  \n6975    NaN  \n\n[202 rows x 12 columns]",
      "text/html": "<div>\n<style scoped>\n    .dataframe tbody tr th:only-of-type {\n        vertical-align: middle;\n    }\n\n    .dataframe tbody tr th {\n        vertical-align: top;\n    }\n\n    .dataframe thead th {\n        text-align: right;\n    }\n</style>\n<table border=\"1\" class=\"dataframe\">\n  <thead>\n    <tr style=\"text-align: right;\">\n      <th></th>\n      <th>name</th>\n      <th>year</th>\n      <th>km_driven</th>\n      <th>fuel</th>\n      <th>seller_type</th>\n      <th>transmission</th>\n      <th>owner</th>\n      <th>mileage</th>\n      <th>engine</th>\n      <th>max_power</th>\n      <th>torque</th>\n      <th>seats</th>\n    </tr>\n  </thead>\n  <tbody>\n    <tr>\n      <th>12</th>\n      <td>Maruti Swift 1.3 VXi</td>\n      <td>2007.0</td>\n      <td>80000.0</td>\n      <td>Petrol</td>\n      <td>Individual</td>\n      <td>Manual</td>\n      <td>Second Owner</td>\n      <td>NaN</td>\n      <td>NaN</td>\n      <td>NaN</td>\n      <td>NaN</td>\n      <td>NaN</td>\n    </tr>\n    <tr>\n      <th>28</th>\n      <td>Fiat Palio 1.2 ELX</td>\n      <td>2003.0</td>\n      <td>50000.0</td>\n      <td>Petrol</td>\n      <td>Individual</td>\n      <td>Manual</td>\n      <td>Second Owner</td>\n      <td>NaN</td>\n      <td>NaN</td>\n      <td>NaN</td>\n      <td>NaN</td>\n      <td>NaN</td>\n    </tr>\n    <tr>\n      <th>69</th>\n      <td>Tata Indica DLS</td>\n      <td>2003.0</td>\n      <td>70000.0</td>\n      <td>Diesel</td>\n      <td>Individual</td>\n      <td>Manual</td>\n      <td>First Owner</td>\n      <td>NaN</td>\n      <td>NaN</td>\n      <td>NaN</td>\n      <td>NaN</td>\n      <td>NaN</td>\n    </tr>\n    <tr>\n      <th>78</th>\n      <td>Maruti Swift VDI BSIV W ABS</td>\n      <td>2015.0</td>\n      <td>78000.0</td>\n      <td>Diesel</td>\n      <td>Dealer</td>\n      <td>Manual</td>\n      <td>First Owner</td>\n      <td>NaN</td>\n      <td>NaN</td>\n      <td>NaN</td>\n      <td>NaN</td>\n      <td>NaN</td>\n    </tr>\n    <tr>\n      <th>107</th>\n      <td>Maruti Swift VDI BSIV</td>\n      <td>2010.0</td>\n      <td>120000.0</td>\n      <td>Diesel</td>\n      <td>Individual</td>\n      <td>Manual</td>\n      <td>Second Owner</td>\n      <td>NaN</td>\n      <td>NaN</td>\n      <td>NaN</td>\n      <td>NaN</td>\n      <td>NaN</td>\n    </tr>\n    <tr>\n      <th>...</th>\n      <td>...</td>\n      <td>...</td>\n      <td>...</td>\n      <td>...</td>\n      <td>...</td>\n      <td>...</td>\n      <td>...</td>\n      <td>...</td>\n      <td>...</td>\n      <td>...</td>\n      <td>...</td>\n      <td>...</td>\n    </tr>\n    <tr>\n      <th>6763</th>\n      <td>Toyota Qualis Fleet A3</td>\n      <td>2000.0</td>\n      <td>100000.0</td>\n      <td>Diesel</td>\n      <td>Individual</td>\n      <td>Manual</td>\n      <td>First Owner</td>\n      <td>NaN</td>\n      <td>NaN</td>\n      <td>NaN</td>\n      <td>NaN</td>\n      <td>NaN</td>\n    </tr>\n    <tr>\n      <th>6888</th>\n      <td>Hyundai Santro LS zipPlus</td>\n      <td>2000.0</td>\n      <td>50000.0</td>\n      <td>Petrol</td>\n      <td>Individual</td>\n      <td>Manual</td>\n      <td>Second Owner</td>\n      <td>NaN</td>\n      <td>NaN</td>\n      <td>NaN</td>\n      <td>NaN</td>\n      <td>NaN</td>\n    </tr>\n    <tr>\n      <th>6900</th>\n      <td>Hyundai Santro Xing XS eRLX Euro III</td>\n      <td>2006.0</td>\n      <td>80000.0</td>\n      <td>Petrol</td>\n      <td>Individual</td>\n      <td>Manual</td>\n      <td>Second Owner</td>\n      <td>NaN</td>\n      <td>NaN</td>\n      <td>NaN</td>\n      <td>NaN</td>\n      <td>NaN</td>\n    </tr>\n    <tr>\n      <th>6948</th>\n      <td>Ford Figo Aspire Facelift</td>\n      <td>2017.0</td>\n      <td>165000.0</td>\n      <td>Diesel</td>\n      <td>Individual</td>\n      <td>Manual</td>\n      <td>First Owner</td>\n      <td>NaN</td>\n      <td>NaN</td>\n      <td>NaN</td>\n      <td>NaN</td>\n      <td>NaN</td>\n    </tr>\n    <tr>\n      <th>6975</th>\n      <td>Maruti Swift 1.3 VXi</td>\n      <td>2006.0</td>\n      <td>100000.0</td>\n      <td>Petrol</td>\n      <td>Individual</td>\n      <td>Manual</td>\n      <td>Second Owner</td>\n      <td>NaN</td>\n      <td>NaN</td>\n      <td>NaN</td>\n      <td>NaN</td>\n      <td>NaN</td>\n    </tr>\n  </tbody>\n</table>\n<p>202 rows × 12 columns</p>\n</div>"
     },
     "execution_count": 15,
     "metadata": {},
     "output_type": "execute_result"
    }
   ],
   "source": [
    "Xtrain[Xtrain['engine'].isna()]"
   ],
   "metadata": {
    "collapsed": false
   }
  },
  {
   "cell_type": "code",
   "execution_count": 62,
   "metadata": {
    "id": "OdvsVN9Blg7r"
   },
   "outputs": [
    {
     "data": {
      "text/plain": "      mileage  engine  max_power\n0       23.40  1248.0      74.00\n1       21.14  1498.0     103.52\n2       23.00  1396.0      90.00\n4       20.14  1197.0      81.86\n6       16.10   796.0      37.00\n...       ...     ...        ...\n6992    18.90   998.0      67.10\n6993    18.50  1197.0      82.85\n6995    19.30  1248.0      73.90\n6996    23.57  1396.0      70.00\n6997    23.57  1396.0      70.00\n\n[6699 rows x 3 columns]",
      "text/html": "<div>\n<style scoped>\n    .dataframe tbody tr th:only-of-type {\n        vertical-align: middle;\n    }\n\n    .dataframe tbody tr th {\n        vertical-align: top;\n    }\n\n    .dataframe thead th {\n        text-align: right;\n    }\n</style>\n<table border=\"1\" class=\"dataframe\">\n  <thead>\n    <tr style=\"text-align: right;\">\n      <th></th>\n      <th>mileage</th>\n      <th>engine</th>\n      <th>max_power</th>\n    </tr>\n  </thead>\n  <tbody>\n    <tr>\n      <th>0</th>\n      <td>23.40</td>\n      <td>1248.0</td>\n      <td>74.00</td>\n    </tr>\n    <tr>\n      <th>1</th>\n      <td>21.14</td>\n      <td>1498.0</td>\n      <td>103.52</td>\n    </tr>\n    <tr>\n      <th>2</th>\n      <td>23.00</td>\n      <td>1396.0</td>\n      <td>90.00</td>\n    </tr>\n    <tr>\n      <th>4</th>\n      <td>20.14</td>\n      <td>1197.0</td>\n      <td>81.86</td>\n    </tr>\n    <tr>\n      <th>6</th>\n      <td>16.10</td>\n      <td>796.0</td>\n      <td>37.00</td>\n    </tr>\n    <tr>\n      <th>...</th>\n      <td>...</td>\n      <td>...</td>\n      <td>...</td>\n    </tr>\n    <tr>\n      <th>6992</th>\n      <td>18.90</td>\n      <td>998.0</td>\n      <td>67.10</td>\n    </tr>\n    <tr>\n      <th>6993</th>\n      <td>18.50</td>\n      <td>1197.0</td>\n      <td>82.85</td>\n    </tr>\n    <tr>\n      <th>6995</th>\n      <td>19.30</td>\n      <td>1248.0</td>\n      <td>73.90</td>\n    </tr>\n    <tr>\n      <th>6996</th>\n      <td>23.57</td>\n      <td>1396.0</td>\n      <td>70.00</td>\n    </tr>\n    <tr>\n      <th>6997</th>\n      <td>23.57</td>\n      <td>1396.0</td>\n      <td>70.00</td>\n    </tr>\n  </tbody>\n</table>\n<p>6699 rows × 3 columns</p>\n</div>"
     },
     "execution_count": 62,
     "metadata": {},
     "output_type": "execute_result"
    }
   ],
   "source": [
    "Xtrain['mileage'] = Xtrain['mileage'].apply(lambda x: float(str(x).split(' ')[0]))\n",
    "Xtrain['engine'] = Xtrain['engine'].apply(lambda x: float(str(x).split(' ')[0]))\n",
    "Xtrain['max_power'] = Xtrain['max_power'].apply(lambda x: float(str(x).split(' ')[0]))\n",
    "\n",
    "Xtrain[['mileage', 'engine', 'max_power']]"
   ]
  },
  {
   "cell_type": "code",
   "execution_count": 63,
   "outputs": [
    {
     "data": {
      "text/plain": "     mileage  engine  max_power\n0      14.00  2498.0     112.00\n1      21.50  1497.0     108.50\n2      12.90  1799.0     130.00\n3      25.10  1498.0      98.60\n4      16.50  1172.0      65.00\n..       ...     ...        ...\n995    19.81  1086.0      68.05\n996    18.60  1197.0      81.83\n997    23.00  1396.0      90.00\n998    20.36  1197.0      78.90\n999    26.00  1498.0      98.60\n\n[1000 rows x 3 columns]",
      "text/html": "<div>\n<style scoped>\n    .dataframe tbody tr th:only-of-type {\n        vertical-align: middle;\n    }\n\n    .dataframe tbody tr th {\n        vertical-align: top;\n    }\n\n    .dataframe thead th {\n        text-align: right;\n    }\n</style>\n<table border=\"1\" class=\"dataframe\">\n  <thead>\n    <tr style=\"text-align: right;\">\n      <th></th>\n      <th>mileage</th>\n      <th>engine</th>\n      <th>max_power</th>\n    </tr>\n  </thead>\n  <tbody>\n    <tr>\n      <th>0</th>\n      <td>14.00</td>\n      <td>2498.0</td>\n      <td>112.00</td>\n    </tr>\n    <tr>\n      <th>1</th>\n      <td>21.50</td>\n      <td>1497.0</td>\n      <td>108.50</td>\n    </tr>\n    <tr>\n      <th>2</th>\n      <td>12.90</td>\n      <td>1799.0</td>\n      <td>130.00</td>\n    </tr>\n    <tr>\n      <th>3</th>\n      <td>25.10</td>\n      <td>1498.0</td>\n      <td>98.60</td>\n    </tr>\n    <tr>\n      <th>4</th>\n      <td>16.50</td>\n      <td>1172.0</td>\n      <td>65.00</td>\n    </tr>\n    <tr>\n      <th>...</th>\n      <td>...</td>\n      <td>...</td>\n      <td>...</td>\n    </tr>\n    <tr>\n      <th>995</th>\n      <td>19.81</td>\n      <td>1086.0</td>\n      <td>68.05</td>\n    </tr>\n    <tr>\n      <th>996</th>\n      <td>18.60</td>\n      <td>1197.0</td>\n      <td>81.83</td>\n    </tr>\n    <tr>\n      <th>997</th>\n      <td>23.00</td>\n      <td>1396.0</td>\n      <td>90.00</td>\n    </tr>\n    <tr>\n      <th>998</th>\n      <td>20.36</td>\n      <td>1197.0</td>\n      <td>78.90</td>\n    </tr>\n    <tr>\n      <th>999</th>\n      <td>26.00</td>\n      <td>1498.0</td>\n      <td>98.60</td>\n    </tr>\n  </tbody>\n</table>\n<p>1000 rows × 3 columns</p>\n</div>"
     },
     "execution_count": 63,
     "metadata": {},
     "output_type": "execute_result"
    }
   ],
   "source": [
    "Xtest['mileage'] = Xtest['mileage'].apply(lambda x: float(str(x).split(' ')[0]))\n",
    "Xtest['engine'] = Xtest['engine'].apply(lambda x: float(str(x).split(' ')[0]))\n",
    "Xtest['max_power'] = Xtest['max_power'].apply(lambda x: float(str(x).split(' ')[0]))\n",
    "\n",
    "Xtest[['mileage', 'engine', 'max_power']]"
   ],
   "metadata": {
    "collapsed": false
   }
  },
  {
   "cell_type": "markdown",
   "metadata": {
    "id": "p43qUhHg-_-e"
   },
   "source": [
    "Оставьте в данных только шесть числовых столбцов:\n",
    "\n",
    "year, km_driven, seats, engine, mileage, max_power"
   ]
  },
  {
   "cell_type": "code",
   "execution_count": 64,
   "metadata": {
    "id": "vP0FYosyix7_"
   },
   "outputs": [],
   "source": [
    "num_cols = ['year', 'km_driven', 'seats', 'engine', 'mileage', 'max_power']\n",
    "Xtrain = Xtrain[num_cols]\n",
    "Xtest = Xtest[num_cols]\n"
   ]
  },
  {
   "cell_type": "markdown",
   "metadata": {
    "id": "Q0AsRR_69ZFH"
   },
   "source": [
    "Теперь заполните пропуски следующим образом:\n",
    "\n",
    "*    вычислите средние значения по столбцам тренировочной выборки;\n",
    "\n",
    "*    добавьте в пропуски в тренировочных и тестовых данных вычисленные средние."
   ]
  },
  {
   "cell_type": "code",
   "execution_count": 65,
   "metadata": {
    "id": "yk0P1b6X9qqh"
   },
   "outputs": [
    {
     "data": {
      "text/plain": "0"
     },
     "execution_count": 65,
     "metadata": {},
     "output_type": "execute_result"
    }
   ],
   "source": [
    "col_with_nan = ['mileage', 'engine', 'max_power']\n",
    "for col in col_with_nan:\n",
    "    mean = Xtrain[col].mean()\n",
    "    Xtrain.loc[Xtrain[col].isna(), col] = mean\n",
    "    Xtest.loc[Xtest[col].isna(), col] = mean\n",
    "\n",
    "sum(Xtrain['mileage'].isna())"
   ]
  },
  {
   "cell_type": "code",
   "execution_count": 46,
   "outputs": [
    {
     "data": {
      "text/plain": "0"
     },
     "execution_count": 46,
     "metadata": {},
     "output_type": "execute_result"
    }
   ],
   "source": [
    "sum(Xtrain['engine'].isna())"
   ],
   "metadata": {
    "collapsed": false
   }
  },
  {
   "cell_type": "code",
   "execution_count": 47,
   "outputs": [
    {
     "data": {
      "text/plain": "0"
     },
     "execution_count": 47,
     "metadata": {},
     "output_type": "execute_result"
    }
   ],
   "source": [
    "sum(Xtrain['max_power'].isna())"
   ],
   "metadata": {
    "collapsed": false
   }
  },
  {
   "cell_type": "code",
   "execution_count": 48,
   "outputs": [
    {
     "data": {
      "text/plain": "0"
     },
     "execution_count": 48,
     "metadata": {},
     "output_type": "execute_result"
    }
   ],
   "source": [
    "sum(Xtrain['year'].isna())"
   ],
   "metadata": {
    "collapsed": false
   }
  },
  {
   "cell_type": "code",
   "execution_count": 49,
   "outputs": [
    {
     "data": {
      "text/plain": "0"
     },
     "execution_count": 49,
     "metadata": {},
     "output_type": "execute_result"
    }
   ],
   "source": [
    "sum(Xtrain['km_driven'].isna())"
   ],
   "metadata": {
    "collapsed": false
   }
  },
  {
   "cell_type": "code",
   "execution_count": 30,
   "outputs": [
    {
     "data": {
      "text/plain": "202"
     },
     "execution_count": 30,
     "metadata": {},
     "output_type": "execute_result"
    }
   ],
   "source": [
    "sum(Xtrain['seats'].isna())"
   ],
   "metadata": {
    "collapsed": false
   }
  },
  {
   "cell_type": "code",
   "execution_count": 50,
   "outputs": [
    {
     "data": {
      "text/plain": "seats\n5.0     5122\n7.0      937\nNaN      202\n8.0      201\n4.0      103\n9.0       67\n6.0       54\n10.0      10\n2.0        2\n14.0       1\nName: count, dtype: int64"
     },
     "execution_count": 50,
     "metadata": {},
     "output_type": "execute_result"
    }
   ],
   "source": [
    "Xtrain['seats'].value_counts(dropna=False)"
   ],
   "metadata": {
    "collapsed": false
   }
  },
  {
   "cell_type": "code",
   "execution_count": 66,
   "outputs": [
    {
     "data": {
      "text/plain": "0"
     },
     "execution_count": 66,
     "metadata": {},
     "output_type": "execute_result"
    }
   ],
   "source": [
    "median = Xtrain['seats'].median()\n",
    "Xtrain.loc[Xtrain['seats'].isna(), 'seats'] = median\n",
    "sum(Xtrain['seats'].isna())"
   ],
   "metadata": {
    "collapsed": false
   }
  },
  {
   "cell_type": "code",
   "execution_count": 67,
   "outputs": [],
   "source": [
    "Xtest.loc[Xtest['seats'].isna(), 'seats'] = median"
   ],
   "metadata": {
    "collapsed": false
   }
  },
  {
   "cell_type": "markdown",
   "metadata": {
    "id": "BUatWsDGi_rj"
   },
   "source": [
    "Теперь на обработанных тренировочных данных обучите:\n",
    "\n",
    "*  линейную регрессию,\n",
    "*  случайный лес с параметрами по умолчанию.\n",
    "\n",
    "На обработанных тестовых данных сделайте предсказание и вычислите метрику $R^2$. "
   ]
  },
  {
   "cell_type": "code",
   "execution_count": 70,
   "metadata": {
    "id": "cQ7iS1eu-s_8"
   },
   "outputs": [
    {
     "name": "stdout",
     "output_type": "stream",
     "text": [
      "r2 score=0.6481957240589246\n"
     ]
    }
   ],
   "source": [
    "from sklearn.linear_model import LinearRegression\n",
    "from sklearn.metrics import r2_score\n",
    "\n",
    "lr = LinearRegression()\n",
    "lr.fit(Xtrain, ytrain)\n",
    "\n",
    "pred = lr.predict(Xtest)\n",
    "print(f'r2 score={r2_score(ytest, pred)}')"
   ]
  },
  {
   "cell_type": "code",
   "execution_count": 71,
   "outputs": [
    {
     "name": "stdout",
     "output_type": "stream",
     "text": [
      "r2 score rf=0.9619955602139162\n"
     ]
    }
   ],
   "source": [
    "from sklearn.ensemble import RandomForestRegressor\n",
    "\n",
    "rf = RandomForestRegressor()\n",
    "rf.fit(Xtrain, ytrain)\n",
    "\n",
    "pred_rf = rf.predict(Xtest)\n",
    "\n",
    "print(f'r2 score rf={r2_score(ytest, pred_rf)}')"
   ],
   "metadata": {
    "collapsed": false
   }
  },
  {
   "cell_type": "markdown",
   "metadata": {
    "id": "LbbD1-qC76HW"
   },
   "source": [
    "Какая модель получилась лучше?"
   ]
  },
  {
   "cell_type": "code",
   "execution_count": null,
   "metadata": {
    "id": "j3N-kazm767P"
   },
   "outputs": [],
   "source": [
    "# Лучше получилась модель RandomForestRegressor r2 = 0.96, у логистической регрессии 0.65"
   ]
  },
  {
   "cell_type": "markdown",
   "metadata": {
    "id": "J36iRaNoBEkT"
   },
   "source": [
    "Улучшите качество предсказания случайного леса путём подбора гиперпараметров:\n",
    "\n",
    "*   n_estimators,\n",
    "*   max_depth,\n",
    "*   max_features,\n",
    "*   min_samples_leaf,\n",
    "*   min_samples_split.\n",
    "\n",
    "Для подбора гиперпараметров используйте GridSearchCV. Обучайте GridSearchCV по тренировочным данным с разбивкой на три фолда и метрикой $R^2$."
   ]
  },
  {
   "cell_type": "code",
   "execution_count": null,
   "metadata": {
    "id": "3IWEulMqBXlv",
    "pycharm": {
     "is_executing": true
    }
   },
   "outputs": [],
   "source": [
    "from sklearn.model_selection import GridSearchCV\n",
    "\n",
    "param_grid = {\n",
    "    'n_estimators': list(range(100, 1100, 100)),\n",
    "    'max_depth': list(range(2, 15, 1)),\n",
    "    'max_features': list(range(1, 11, 1)),\n",
    "    'min_samples_leaf': list(range(1, 11, 1)),\n",
    "    'min_samples_split': list(range(1, 11, 1)),\n",
    "}\n",
    "rf_g = RandomForestRegressor(random_state=42)\n",
    "\n",
    "grid_search_rf = GridSearchCV(\n",
    "   estimator=rf_g,\n",
    "   param_grid=param_grid,\n",
    "   scoring='r2',\n",
    "   cv=3,\n",
    "   n_jobs=-1,\n",
    ")\n",
    "\n",
    "grid_search_rf.fit(Xtrain, ytrain)\n",
    "\n",
    "print(grid_search_rf.best_params_)\n",
    "\n",
    "print(grid_search_rf.best_score_)"
   ]
  },
  {
   "cell_type": "markdown",
   "metadata": {
    "id": "TPNNp6cPDsjD"
   },
   "source": [
    "Теперь обучите на тренировочных данных случайный лес с найденными гиперпараметрами. Сделайте предсказание на тестовых данных и оцените его качество ($R^2$)."
   ]
  },
  {
   "cell_type": "code",
   "execution_count": null,
   "metadata": {
    "id": "MPdZ9qCxDrkF"
   },
   "outputs": [],
   "source": [
    "# Ваш код здесь"
   ]
  },
  {
   "cell_type": "markdown",
   "metadata": {
    "id": "dpWSQeD4ENby"
   },
   "source": [
    "Модель готова. Осталось её проинтерпретировать.\n",
    "\n",
    "При помощи метода model.feature_importances_ визуализируйте гистограмму важности признаков у случайного леса с настроенными гиперпараметрами."
   ]
  },
  {
   "cell_type": "code",
   "execution_count": null,
   "metadata": {
    "id": "7uZzKbUnD54w"
   },
   "outputs": [],
   "source": [
    "# Ваш код здесь"
   ]
  }
 ],
 "metadata": {
  "colab": {
   "provenance": []
  },
  "kernelspec": {
   "display_name": "Python 3",
   "name": "python3"
  },
  "language_info": {
   "codemirror_mode": {
    "name": "ipython",
    "version": 3
   },
   "file_extension": ".py",
   "mimetype": "text/x-python",
   "name": "python",
   "nbconvert_exporter": "python",
   "pygments_lexer": "ipython3",
   "version": "3.11.2"
  }
 },
 "nbformat": 4,
 "nbformat_minor": 0
}
