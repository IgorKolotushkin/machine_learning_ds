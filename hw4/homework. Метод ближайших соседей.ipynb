{
 "nbformat": 4,
 "nbformat_minor": 0,
 "metadata": {
  "colab": {
   "name": "homework.ipynb",
   "provenance": [],
   "collapsed_sections": []
  },
  "kernelspec": {
   "name": "python3",
   "display_name": "Python 3"
  },
  "language_info": {
   "name": "python"
  }
 },
 "cells": [
  {
   "cell_type": "markdown",
   "source": [
    "# Метрическая классификация. Метод ближайших соседей и его развитие\n",
    "# Практическая работа"
   ],
   "metadata": {
    "id": "m9QWlN-lq0qw"
   }
  },
  {
   "cell_type": "markdown",
   "source": [
    "## Цели практической работы\n",
    "Научиться:\n",
    "- строить модель методом ближайших соседей на реальных данных;\n",
    "- правильно определять качество работы модели.\n"
   ],
   "metadata": {
    "id": "mbvb7kgYlESw"
   }
  },
  {
   "cell_type": "markdown",
   "source": [],
   "metadata": {
    "collapsed": false
   }
  },
  {
   "cell_type": "code",
   "source": [],
   "metadata": {
    "id": "w19qxLEuY5Vf"
   },
   "execution_count": null,
   "outputs": []
  },
  {
   "cell_type": "markdown",
   "source": [
    "## Что входит в практическую работу\n",
    "\n",
    "\n",
    "- Загрузить данные и ознакомиться с ними.\n",
    "- Изучить данные и провести анализ.\n",
    "- Разделить данные на обучающую и тестовую выборки.\n",
    "- Реализовать построение модели с помощью  библиотеки Scikit-learn.\n",
    "- Подобрать оптимальное число ближайших соседей методом leave-one-out.\n",
    "- Получить качество модели с помощью F-меры и матрицы сопряжённости."
   ],
   "metadata": {
    "id": "voCLRWvvllfQ"
   }
  },
  {
   "cell_type": "markdown",
   "source": [
    "## Что оценивается\n",
    "\n",
    "1. Выполнение всех этапов работы.\n",
    "2. Наличие вывода по результатам.\n",
    "3. Непереобученность модели.\n",
    "4. Качество модели.\n"
   ],
   "metadata": {
    "id": "pN4yp9hEVYQ5"
   }
  },
  {
   "cell_type": "markdown",
   "source": [
    "**Как отправить работу на проверку?**\n",
    "\n",
    "1. Скачайте файл с заданием в материалах, откройте его через Jupyter Notebook и выполните задачу. \n",
    "2. Сохраните изменения при помощи опции Save and Checkpoint из вкладки File или кнопки Save and Checkpoint на панели инструментов. \n",
    "3. Отправьте через форму ниже итоговый файл Jupyter Notebook (в формате .ipynb) или ссылку на него.\n",
    "\n",
    "\n"
   ],
   "metadata": {
    "id": "Pt1uE6B-VbVZ"
   }
  },
  {
   "cell_type": "markdown",
   "source": [
    "# Задача"
   ],
   "metadata": {
    "id": "4Nb7eTxYWWUe"
   }
  },
  {
   "cell_type": "markdown",
   "source": [
    "Один из способов повысить эффективность взаимодействия банка с клиентами — отправлять предложение о новой услуге не всем клиентам, а только некоторым, которые выбираются по принципу наибольшей склонности к отклику на это предложение.\n",
    "\n",
    "Задача заключается в том, чтобы предложить алгоритм, который будет выдавать склонность клиента к положительному или отрицательному отклику на предложение банка. Предполагается, что, получив такие оценки для некоторого множества клиентов, банк обратится с предложением только к тем, от кого ожидается положительный отклик.\n"
   ],
   "metadata": {
    "id": "ug5TQChn6KiJ"
   }
  },
  {
   "cell_type": "markdown",
   "source": [
    "Для решения этой задачи загрузите дамп базы в Postgres. \n",
    "Эта БД хранит информацию о клиентах банка и их персональные данные, такие как пол, количество детей и другие.\n",
    "\n",
    "Описание таблиц с данными представлено ниже.\n"
   ],
   "metadata": {
    "id": "5k52FwP156I6"
   }
  },
  {
   "cell_type": "markdown",
   "source": [
    "**D_work**\n",
    "\n",
    "Описание статусов относительно работы:\n",
    "- ID — идентификатор социального статуса клиента относительно работы;\n",
    "- COMMENT — расшифровка статуса.\n",
    "\n",
    "\n",
    "**D_pens**\n",
    "\n",
    "Описание статусов относительно пенсии:\n",
    "- ID — идентификатор социального статуса;\n",
    "- COMMENT — расшифровка статуса.\n",
    "\n",
    "\n",
    "**D_clients**\n",
    "\n",
    "Описание данных клиентов:\n",
    "- ID — идентификатор записи;\n",
    "- AGE\t— возраст клиента;\n",
    "- GENDER — пол клиента (1 — мужчина, 0 — женщина);\n",
    "- EDUCATION — образование;\n",
    "- MARITAL_STATUS — семейное положение;\n",
    "- CHILD_TOTAL\t— количество детей клиента;\n",
    "- DEPENDANTS — количество иждивенцев клиента;\n",
    "- SOCSTATUS_WORK_FL\t— социальный статус клиента относительно работы (1 — работает, 0 — не работает);\n",
    "- SOCSTATUS_PENS_FL\t— социальный статус клиента относительно пенсии (1 — пенсионер, 0 — не пенсионер);\n",
    "- REG_ADDRESS_PROVINCE — область регистрации клиента;\n",
    "- FACT_ADDRESS_PROVINCE — область фактического пребывания клиента;\n",
    "- POSTAL_ADDRESS_PROVINCE — почтовый адрес области;\n",
    "- FL_PRESENCE_FL — наличие в собственности квартиры (1 — есть, 0 — нет);\n",
    "- OWN_AUTO — количество автомобилей в собственности. \n",
    "\n",
    "\n",
    "**D_agreement**\n",
    "\n",
    "Таблица с зафиксированными откликами клиентов на предложения банка:\n",
    "- AGREEMENT_RK — уникальный идентификатор объекта в выборке;\n",
    "- ID_CLIENT — идентификатор клиента;\n",
    "- TARGET — целевая переменная: отклик на маркетинговую кампанию (1 — отклик был зарегистрирован, 0 — отклика не было).\n",
    "    \n",
    "    \n",
    "**D_job**\n",
    "\n",
    "Описание информации о работе клиентов:\n",
    "- GEN_INDUSTRY — отрасль работы клиента;\n",
    "- GEN_TITLE — должность;\n",
    "- JOB_DIR — направление деятельности внутри компании;\n",
    "- WORK_TIME — время работы на текущем месте (в месяцах);\n",
    "- ID_CLIENT — идентификатор клиента.\n",
    "\n",
    "\n",
    "**D_salary**\n",
    "\n",
    "Описание информации о заработной плате клиентов:\n",
    "- ID_CLIENT — идентификатор клиента;\n",
    "- FAMILY_INCOME — семейный доход (несколько категорий);\n",
    "- PERSONAL_INCOME — личный доход клиента (в рублях).\n",
    "\n",
    "\n",
    "**D_last_credit**\n",
    "\n",
    "Информация о последнем займе клиента:\n",
    "- ID_CLIENT — идентификатор клиента;\n",
    "- CREDIT — сумма последнего кредита клиента (в рублях);\n",
    "- TERM — срок кредита;\n",
    "- FST_PAYMENT — первоначальный взнос (в рублях).\n",
    "\n",
    "\n",
    "**D_loan**\n",
    "\n",
    "Информация о кредитной истории клиента:\n",
    "- ID_CLIENT — идентификатор клиента;\n",
    "- ID_LOAN — идентификатор кредита.\n",
    "\n",
    "**D_close_loan**\n",
    "\n",
    "Информация о статусах кредита (ссуд):\n",
    "- ID_LOAN — идентификатор кредита;\n",
    "- CLOSED_FL — текущий статус кредита (1 — закрыт, 0 — не закрыт)."
   ],
   "metadata": {
    "id": "3HYLpuwA6dAw"
   }
  },
  {
   "cell_type": "markdown",
   "source": [
    "1. Изучите состав БД с помощью инструмента отрисовки ERD-диаграмм (Entity Relationship diagram отображает все сущности БД, а также визуализирует связность таблиц). Соберите датасет следующей структуры из данных, имеющихся в базе:"
   ],
   "metadata": {
    "id": "eTXp2LYR6dCm"
   }
  },
  {
   "cell_type": "markdown",
   "source": [
    "    - AGREEMENT_RK — уникальный идентификатор объекта в выборке;\n",
    "    - TARGET — целевая переменная: отклик на маркетинговую кампанию (1 — отклик был зарегистрирован, 0 — отклика не было);\n",
    "    - AGE — возраст клиента;\n",
    "    - SOCSTATUS_WORK_FL — социальный статус клиента относительно работы (1 — работает, 0 — не работает);\n",
    "    - SOCSTATUS_PENS_FL — социальный статус клиента относительно пенсии (1 — пенсионер, 0 — не пенсионер);\n",
    "    - GENDER — пол клиента (1 — мужчина, 0 — женщина);\n",
    "    - CHILD_TOTAL — количество детей клиента;\n",
    "    - DEPENDANTS — количество иждивенцев клиента;\n",
    "    - PERSONAL_INCOME — личный доход клиента (в рублях);\n",
    "    - LOAN_NUM_TOTAL — количество ссуд клиента;\n",
    "    - LOAN_NUM_CLOSED — количество погашенных ссуд клиента.\n"
   ],
   "metadata": {
    "id": "xDZKZYCtmbwi"
   }
  },
  {
   "cell_type": "markdown",
   "source": [
    "Будьте внимательны при сборке датасета: это реальные банковские данные, в которых могут наблюдаться дубли, некорректно заполненные значения или значения, противоречащие друг другу. Для получения качественной модели необходимо предварительно очистить датасет от такой информации."
   ],
   "metadata": {
    "id": "EDpojLFeAw2Y"
   }
  },
  {
   "cell_type": "markdown",
   "source": [
    "2. Постройте модель зависимости TARGET от остальных параметров получившейся таблицы методом ближайших соседей."
   ],
   "metadata": {
    "id": "b6goKA2-mrnv"
   }
  },
  {
   "cell_type": "markdown",
   "source": [
    "3. Получите качество модели с помощью F-меры и матрицы сопряжённости."
   ],
   "metadata": {
    "id": "gJCAiMPemxqH"
   }
  },
  {
   "cell_type": "markdown",
   "source": [
    "Что нужно сделать после сбора таблицы:"
   ],
   "metadata": {
    "id": "GERgJvyYmQEZ"
   }
  },
  {
   "cell_type": "code",
   "execution_count": 37,
   "metadata": {
    "id": "bQvgKoWyid7b"
   },
   "outputs": [],
   "source": [
    "import pandas as pd\n",
    "import seaborn as sns\n",
    "import numpy as np\n",
    "from sklearn.preprocessing import normalize\n",
    "from sklearn.model_selection import train_test_split"
   ]
  },
  {
   "cell_type": "code",
   "source": [
    "df = pd.read_csv(\"client.csv\", index_col=0)\n",
    "df.head()"
   ],
   "metadata": {
    "id": "bKtwCaVgm-g2"
   },
   "execution_count": 29,
   "outputs": [
    {
     "data": {
      "text/plain": "    age  gender  child_total  dependants socstatus_work_fl socstatus_pens_fl  \\\n0  21.0     0.0          0.0         0.0       не работает         пенсионер   \n1  21.0     0.0          0.0         0.0       не работает         пенсионер   \n2  21.0     0.0          0.0         0.0       не работает         пенсионер   \n3  21.0     0.0          0.0         0.0       не работает         пенсионер   \n4  21.0     0.0          0.0         0.0       не работает         пенсионер   \n\n   personal_income  agreement_rk  target  loan_num_total  loan_num_closed  \n0          10000.0    63596287.0     0.0               1              0.0  \n1          10000.0    64345856.0     0.0               1              0.0  \n2          12000.0    62941277.0     0.0               2              1.0  \n3          12000.0    64374643.0     0.0               1              1.0  \n4          25000.0    64420984.0     0.0               1              0.0  ",
      "text/html": "<div>\n<style scoped>\n    .dataframe tbody tr th:only-of-type {\n        vertical-align: middle;\n    }\n\n    .dataframe tbody tr th {\n        vertical-align: top;\n    }\n\n    .dataframe thead th {\n        text-align: right;\n    }\n</style>\n<table border=\"1\" class=\"dataframe\">\n  <thead>\n    <tr style=\"text-align: right;\">\n      <th></th>\n      <th>age</th>\n      <th>gender</th>\n      <th>child_total</th>\n      <th>dependants</th>\n      <th>socstatus_work_fl</th>\n      <th>socstatus_pens_fl</th>\n      <th>personal_income</th>\n      <th>agreement_rk</th>\n      <th>target</th>\n      <th>loan_num_total</th>\n      <th>loan_num_closed</th>\n    </tr>\n  </thead>\n  <tbody>\n    <tr>\n      <th>0</th>\n      <td>21.0</td>\n      <td>0.0</td>\n      <td>0.0</td>\n      <td>0.0</td>\n      <td>не работает</td>\n      <td>пенсионер</td>\n      <td>10000.0</td>\n      <td>63596287.0</td>\n      <td>0.0</td>\n      <td>1</td>\n      <td>0.0</td>\n    </tr>\n    <tr>\n      <th>1</th>\n      <td>21.0</td>\n      <td>0.0</td>\n      <td>0.0</td>\n      <td>0.0</td>\n      <td>не работает</td>\n      <td>пенсионер</td>\n      <td>10000.0</td>\n      <td>64345856.0</td>\n      <td>0.0</td>\n      <td>1</td>\n      <td>0.0</td>\n    </tr>\n    <tr>\n      <th>2</th>\n      <td>21.0</td>\n      <td>0.0</td>\n      <td>0.0</td>\n      <td>0.0</td>\n      <td>не работает</td>\n      <td>пенсионер</td>\n      <td>12000.0</td>\n      <td>62941277.0</td>\n      <td>0.0</td>\n      <td>2</td>\n      <td>1.0</td>\n    </tr>\n    <tr>\n      <th>3</th>\n      <td>21.0</td>\n      <td>0.0</td>\n      <td>0.0</td>\n      <td>0.0</td>\n      <td>не работает</td>\n      <td>пенсионер</td>\n      <td>12000.0</td>\n      <td>64374643.0</td>\n      <td>0.0</td>\n      <td>1</td>\n      <td>1.0</td>\n    </tr>\n    <tr>\n      <th>4</th>\n      <td>21.0</td>\n      <td>0.0</td>\n      <td>0.0</td>\n      <td>0.0</td>\n      <td>не работает</td>\n      <td>пенсионер</td>\n      <td>25000.0</td>\n      <td>64420984.0</td>\n      <td>0.0</td>\n      <td>1</td>\n      <td>0.0</td>\n    </tr>\n  </tbody>\n</table>\n</div>"
     },
     "execution_count": 29,
     "metadata": {},
     "output_type": "execute_result"
    }
   ]
  },
  {
   "cell_type": "code",
   "execution_count": 8,
   "outputs": [
    {
     "data": {
      "text/plain": "target\n0.0    13411\n1.0     1812\nName: count, dtype: int64"
     },
     "execution_count": 8,
     "metadata": {},
     "output_type": "execute_result"
    }
   ],
   "source": [
    "df.target.value_counts()"
   ],
   "metadata": {
    "collapsed": false
   }
  },
  {
   "cell_type": "code",
   "execution_count": 9,
   "outputs": [
    {
     "data": {
      "text/plain": "Index(['Unnamed: 0', 'age', 'gender', 'child_total', 'dependants',\n       'socstatus_work_fl', 'socstatus_pens_fl', 'personal_income',\n       'agreement_rk', 'target', 'loan_num_total', 'loan_num_closed'],\n      dtype='object')"
     },
     "execution_count": 9,
     "metadata": {},
     "output_type": "execute_result"
    }
   ],
   "source": [
    "df.columns"
   ],
   "metadata": {
    "collapsed": false
   }
  },
  {
   "cell_type": "code",
   "execution_count": 30,
   "outputs": [],
   "source": [
    "num_columns = [\n",
    "    'age',\n",
    "    'gender',\n",
    "    'child_total',\n",
    "    'dependants',\n",
    "    'personal_income',\n",
    "    'agreement_rk',\n",
    "    'target',\n",
    "    'loan_num_total',\n",
    "    'loan_num_closed',\n",
    "]"
   ],
   "metadata": {
    "collapsed": false
   }
  },
  {
   "cell_type": "code",
   "execution_count": 31,
   "outputs": [],
   "source": [
    "df[num_columns] = df[num_columns].astype('int64')"
   ],
   "metadata": {
    "collapsed": false
   }
  },
  {
   "cell_type": "code",
   "execution_count": 32,
   "outputs": [
    {
     "name": "stdout",
     "output_type": "stream",
     "text": [
      "<class 'pandas.core.frame.DataFrame'>\n",
      "Index: 15223 entries, 0 to 15222\n",
      "Data columns (total 11 columns):\n",
      " #   Column             Non-Null Count  Dtype \n",
      "---  ------             --------------  ----- \n",
      " 0   age                15223 non-null  int64 \n",
      " 1   gender             15223 non-null  int64 \n",
      " 2   child_total        15223 non-null  int64 \n",
      " 3   dependants         15223 non-null  int64 \n",
      " 4   socstatus_work_fl  15223 non-null  object\n",
      " 5   socstatus_pens_fl  15223 non-null  object\n",
      " 6   personal_income    15223 non-null  int64 \n",
      " 7   agreement_rk       15223 non-null  int64 \n",
      " 8   target             15223 non-null  int64 \n",
      " 9   loan_num_total     15223 non-null  int64 \n",
      " 10  loan_num_closed    15223 non-null  int64 \n",
      "dtypes: int64(9), object(2)\n",
      "memory usage: 1.4+ MB\n"
     ]
    }
   ],
   "source": [
    "df.info()"
   ],
   "metadata": {
    "collapsed": false
   }
  },
  {
   "cell_type": "code",
   "execution_count": 33,
   "outputs": [
    {
     "data": {
      "text/plain": "      age  gender  child_total  dependants socstatus_work_fl  \\\n0      21       0            0           0       не работает   \n1      21       0            0           0       не работает   \n2      21       0            0           0       не работает   \n3      21       0            0           0       не работает   \n4      21       0            0           0       не работает   \n...   ...     ...          ...         ...               ...   \n9547   44       1            3           3       не работает   \n9548   44       1            3           3       не работает   \n9549   44       1            4           0       не работает   \n9550   44       1            4           1       не работает   \n9551   44       1            4           4       не работает   \n\n     socstatus_pens_fl  personal_income  agreement_rk  target  loan_num_total  \\\n0            пенсионер            10000      63596287       0               1   \n1            пенсионер            10000      64345856       0               1   \n2            пенсионер            12000      62941277       0               2   \n3            пенсионер            12000      64374643       0               1   \n4            пенсионер            25000      64420984       0               1   \n...                ...              ...           ...     ...             ...   \n9547         пенсионер            11000      67028635       0               2   \n9548         пенсионер            20000      60454822       1               1   \n9549         пенсионер             9000      67078500       0               4   \n9550         пенсионер             5000      63998529       0               1   \n9551         пенсионер            18000      64340264       0               1   \n\n      loan_num_closed  \n0                   0  \n1                   0  \n2                   1  \n3                   1  \n4                   0  \n...               ...  \n9547                2  \n9548                0  \n9549                2  \n9550                1  \n9551                0  \n\n[9457 rows x 11 columns]",
      "text/html": "<div>\n<style scoped>\n    .dataframe tbody tr th:only-of-type {\n        vertical-align: middle;\n    }\n\n    .dataframe tbody tr th {\n        vertical-align: top;\n    }\n\n    .dataframe thead th {\n        text-align: right;\n    }\n</style>\n<table border=\"1\" class=\"dataframe\">\n  <thead>\n    <tr style=\"text-align: right;\">\n      <th></th>\n      <th>age</th>\n      <th>gender</th>\n      <th>child_total</th>\n      <th>dependants</th>\n      <th>socstatus_work_fl</th>\n      <th>socstatus_pens_fl</th>\n      <th>personal_income</th>\n      <th>agreement_rk</th>\n      <th>target</th>\n      <th>loan_num_total</th>\n      <th>loan_num_closed</th>\n    </tr>\n  </thead>\n  <tbody>\n    <tr>\n      <th>0</th>\n      <td>21</td>\n      <td>0</td>\n      <td>0</td>\n      <td>0</td>\n      <td>не работает</td>\n      <td>пенсионер</td>\n      <td>10000</td>\n      <td>63596287</td>\n      <td>0</td>\n      <td>1</td>\n      <td>0</td>\n    </tr>\n    <tr>\n      <th>1</th>\n      <td>21</td>\n      <td>0</td>\n      <td>0</td>\n      <td>0</td>\n      <td>не работает</td>\n      <td>пенсионер</td>\n      <td>10000</td>\n      <td>64345856</td>\n      <td>0</td>\n      <td>1</td>\n      <td>0</td>\n    </tr>\n    <tr>\n      <th>2</th>\n      <td>21</td>\n      <td>0</td>\n      <td>0</td>\n      <td>0</td>\n      <td>не работает</td>\n      <td>пенсионер</td>\n      <td>12000</td>\n      <td>62941277</td>\n      <td>0</td>\n      <td>2</td>\n      <td>1</td>\n    </tr>\n    <tr>\n      <th>3</th>\n      <td>21</td>\n      <td>0</td>\n      <td>0</td>\n      <td>0</td>\n      <td>не работает</td>\n      <td>пенсионер</td>\n      <td>12000</td>\n      <td>64374643</td>\n      <td>0</td>\n      <td>1</td>\n      <td>1</td>\n    </tr>\n    <tr>\n      <th>4</th>\n      <td>21</td>\n      <td>0</td>\n      <td>0</td>\n      <td>0</td>\n      <td>не работает</td>\n      <td>пенсионер</td>\n      <td>25000</td>\n      <td>64420984</td>\n      <td>0</td>\n      <td>1</td>\n      <td>0</td>\n    </tr>\n    <tr>\n      <th>...</th>\n      <td>...</td>\n      <td>...</td>\n      <td>...</td>\n      <td>...</td>\n      <td>...</td>\n      <td>...</td>\n      <td>...</td>\n      <td>...</td>\n      <td>...</td>\n      <td>...</td>\n      <td>...</td>\n    </tr>\n    <tr>\n      <th>9547</th>\n      <td>44</td>\n      <td>1</td>\n      <td>3</td>\n      <td>3</td>\n      <td>не работает</td>\n      <td>пенсионер</td>\n      <td>11000</td>\n      <td>67028635</td>\n      <td>0</td>\n      <td>2</td>\n      <td>2</td>\n    </tr>\n    <tr>\n      <th>9548</th>\n      <td>44</td>\n      <td>1</td>\n      <td>3</td>\n      <td>3</td>\n      <td>не работает</td>\n      <td>пенсионер</td>\n      <td>20000</td>\n      <td>60454822</td>\n      <td>1</td>\n      <td>1</td>\n      <td>0</td>\n    </tr>\n    <tr>\n      <th>9549</th>\n      <td>44</td>\n      <td>1</td>\n      <td>4</td>\n      <td>0</td>\n      <td>не работает</td>\n      <td>пенсионер</td>\n      <td>9000</td>\n      <td>67078500</td>\n      <td>0</td>\n      <td>4</td>\n      <td>2</td>\n    </tr>\n    <tr>\n      <th>9550</th>\n      <td>44</td>\n      <td>1</td>\n      <td>4</td>\n      <td>1</td>\n      <td>не работает</td>\n      <td>пенсионер</td>\n      <td>5000</td>\n      <td>63998529</td>\n      <td>0</td>\n      <td>1</td>\n      <td>1</td>\n    </tr>\n    <tr>\n      <th>9551</th>\n      <td>44</td>\n      <td>1</td>\n      <td>4</td>\n      <td>4</td>\n      <td>не работает</td>\n      <td>пенсионер</td>\n      <td>18000</td>\n      <td>64340264</td>\n      <td>0</td>\n      <td>1</td>\n      <td>0</td>\n    </tr>\n  </tbody>\n</table>\n<p>9457 rows × 11 columns</p>\n</div>"
     },
     "execution_count": 33,
     "metadata": {},
     "output_type": "execute_result"
    }
   ],
   "source": [
    "new_df = df[\n",
    "    (df['socstatus_pens_fl']  == 'пенсионер') &\n",
    "    (df['socstatus_work_fl']  == 'не работает') &\n",
    "    (df['age'] < 45)\n",
    "]\n",
    "\n",
    "new_df"
   ],
   "metadata": {
    "collapsed": false
   }
  },
  {
   "cell_type": "code",
   "execution_count": 34,
   "outputs": [
    {
     "data": {
      "text/plain": "       age  gender  child_total  dependants socstatus_work_fl  \\\n0       21       0            0           0       не работает   \n1       21       0            0           0       не работает   \n2       21       0            0           0       не работает   \n3       21       0            0           0       не работает   \n4       21       0            0           0       не работает   \n...    ...     ...          ...         ...               ...   \n15218   66       1            1           0       не работает   \n15219   66       1            1           0          работает   \n15220   66       1            2           0       не работает   \n15221   66       1            3           0       не работает   \n15222   67       1            2           0       не работает   \n\n      socstatus_pens_fl  personal_income  agreement_rk  target  \\\n0          не пенсионер            10000      63596287       0   \n1          не пенсионер            10000      64345856       0   \n2          не пенсионер            12000      62941277       0   \n3          не пенсионер            12000      64374643       0   \n4          не пенсионер            25000      64420984       0   \n...                 ...              ...           ...     ...   \n15218      не пенсионер             9300      59929855       0   \n15219      не пенсионер             8000      62095178       0   \n15220      не пенсионер            12000      61040426       0   \n15221      не пенсионер            17404      60444898       0   \n15222         пенсионер            12000      63813472       0   \n\n       loan_num_total  loan_num_closed  \n0                   1                0  \n1                   1                0  \n2                   2                1  \n3                   1                1  \n4                   1                0  \n...               ...              ...  \n15218               1                1  \n15219               1                0  \n15220               1                1  \n15221               1                0  \n15222               2                1  \n\n[15223 rows x 11 columns]",
      "text/html": "<div>\n<style scoped>\n    .dataframe tbody tr th:only-of-type {\n        vertical-align: middle;\n    }\n\n    .dataframe tbody tr th {\n        vertical-align: top;\n    }\n\n    .dataframe thead th {\n        text-align: right;\n    }\n</style>\n<table border=\"1\" class=\"dataframe\">\n  <thead>\n    <tr style=\"text-align: right;\">\n      <th></th>\n      <th>age</th>\n      <th>gender</th>\n      <th>child_total</th>\n      <th>dependants</th>\n      <th>socstatus_work_fl</th>\n      <th>socstatus_pens_fl</th>\n      <th>personal_income</th>\n      <th>agreement_rk</th>\n      <th>target</th>\n      <th>loan_num_total</th>\n      <th>loan_num_closed</th>\n    </tr>\n  </thead>\n  <tbody>\n    <tr>\n      <th>0</th>\n      <td>21</td>\n      <td>0</td>\n      <td>0</td>\n      <td>0</td>\n      <td>не работает</td>\n      <td>не пенсионер</td>\n      <td>10000</td>\n      <td>63596287</td>\n      <td>0</td>\n      <td>1</td>\n      <td>0</td>\n    </tr>\n    <tr>\n      <th>1</th>\n      <td>21</td>\n      <td>0</td>\n      <td>0</td>\n      <td>0</td>\n      <td>не работает</td>\n      <td>не пенсионер</td>\n      <td>10000</td>\n      <td>64345856</td>\n      <td>0</td>\n      <td>1</td>\n      <td>0</td>\n    </tr>\n    <tr>\n      <th>2</th>\n      <td>21</td>\n      <td>0</td>\n      <td>0</td>\n      <td>0</td>\n      <td>не работает</td>\n      <td>не пенсионер</td>\n      <td>12000</td>\n      <td>62941277</td>\n      <td>0</td>\n      <td>2</td>\n      <td>1</td>\n    </tr>\n    <tr>\n      <th>3</th>\n      <td>21</td>\n      <td>0</td>\n      <td>0</td>\n      <td>0</td>\n      <td>не работает</td>\n      <td>не пенсионер</td>\n      <td>12000</td>\n      <td>64374643</td>\n      <td>0</td>\n      <td>1</td>\n      <td>1</td>\n    </tr>\n    <tr>\n      <th>4</th>\n      <td>21</td>\n      <td>0</td>\n      <td>0</td>\n      <td>0</td>\n      <td>не работает</td>\n      <td>не пенсионер</td>\n      <td>25000</td>\n      <td>64420984</td>\n      <td>0</td>\n      <td>1</td>\n      <td>0</td>\n    </tr>\n    <tr>\n      <th>...</th>\n      <td>...</td>\n      <td>...</td>\n      <td>...</td>\n      <td>...</td>\n      <td>...</td>\n      <td>...</td>\n      <td>...</td>\n      <td>...</td>\n      <td>...</td>\n      <td>...</td>\n      <td>...</td>\n    </tr>\n    <tr>\n      <th>15218</th>\n      <td>66</td>\n      <td>1</td>\n      <td>1</td>\n      <td>0</td>\n      <td>не работает</td>\n      <td>не пенсионер</td>\n      <td>9300</td>\n      <td>59929855</td>\n      <td>0</td>\n      <td>1</td>\n      <td>1</td>\n    </tr>\n    <tr>\n      <th>15219</th>\n      <td>66</td>\n      <td>1</td>\n      <td>1</td>\n      <td>0</td>\n      <td>работает</td>\n      <td>не пенсионер</td>\n      <td>8000</td>\n      <td>62095178</td>\n      <td>0</td>\n      <td>1</td>\n      <td>0</td>\n    </tr>\n    <tr>\n      <th>15220</th>\n      <td>66</td>\n      <td>1</td>\n      <td>2</td>\n      <td>0</td>\n      <td>не работает</td>\n      <td>не пенсионер</td>\n      <td>12000</td>\n      <td>61040426</td>\n      <td>0</td>\n      <td>1</td>\n      <td>1</td>\n    </tr>\n    <tr>\n      <th>15221</th>\n      <td>66</td>\n      <td>1</td>\n      <td>3</td>\n      <td>0</td>\n      <td>не работает</td>\n      <td>не пенсионер</td>\n      <td>17404</td>\n      <td>60444898</td>\n      <td>0</td>\n      <td>1</td>\n      <td>0</td>\n    </tr>\n    <tr>\n      <th>15222</th>\n      <td>67</td>\n      <td>1</td>\n      <td>2</td>\n      <td>0</td>\n      <td>не работает</td>\n      <td>пенсионер</td>\n      <td>12000</td>\n      <td>63813472</td>\n      <td>0</td>\n      <td>2</td>\n      <td>1</td>\n    </tr>\n  </tbody>\n</table>\n<p>15223 rows × 11 columns</p>\n</div>"
     },
     "execution_count": 34,
     "metadata": {},
     "output_type": "execute_result"
    }
   ],
   "source": [
    "df.loc[\n",
    "    (df['socstatus_pens_fl']  == 'пенсионер') &\n",
    "    (df['socstatus_work_fl']  == 'не работает') &\n",
    "    (df['age'] < 45), 'socstatus_pens_fl'\n",
    "] = 'не пенсионер'\n",
    "df"
   ],
   "metadata": {
    "collapsed": false
   }
  },
  {
   "cell_type": "code",
   "execution_count": 36,
   "outputs": [
    {
     "data": {
      "text/plain": "       age  gender  child_total  dependants  socstatus_work_fl  \\\n0       21       0            0           0                  0   \n1       21       0            0           0                  0   \n2       21       0            0           0                  0   \n3       21       0            0           0                  0   \n4       21       0            0           0                  0   \n...    ...     ...          ...         ...                ...   \n15218   66       1            1           0                  0   \n15219   66       1            1           0                  0   \n15220   66       1            2           0                  0   \n15221   66       1            3           0                  0   \n15222   67       1            2           0                  0   \n\n       socstatus_pens_fl  personal_income  agreement_rk  target  \\\n0                      0            10000      63596287       0   \n1                      0            10000      64345856       0   \n2                      0            12000      62941277       0   \n3                      0            12000      64374643       0   \n4                      0            25000      64420984       0   \n...                  ...              ...           ...     ...   \n15218                  0             9300      59929855       0   \n15219                  0             8000      62095178       0   \n15220                  0            12000      61040426       0   \n15221                  0            17404      60444898       0   \n15222                  1            12000      63813472       0   \n\n       loan_num_total  loan_num_closed  \n0                   1                0  \n1                   1                0  \n2                   2                1  \n3                   1                1  \n4                   1                0  \n...               ...              ...  \n15218               1                1  \n15219               1                0  \n15220               1                1  \n15221               1                0  \n15222               2                1  \n\n[15223 rows x 11 columns]",
      "text/html": "<div>\n<style scoped>\n    .dataframe tbody tr th:only-of-type {\n        vertical-align: middle;\n    }\n\n    .dataframe tbody tr th {\n        vertical-align: top;\n    }\n\n    .dataframe thead th {\n        text-align: right;\n    }\n</style>\n<table border=\"1\" class=\"dataframe\">\n  <thead>\n    <tr style=\"text-align: right;\">\n      <th></th>\n      <th>age</th>\n      <th>gender</th>\n      <th>child_total</th>\n      <th>dependants</th>\n      <th>socstatus_work_fl</th>\n      <th>socstatus_pens_fl</th>\n      <th>personal_income</th>\n      <th>agreement_rk</th>\n      <th>target</th>\n      <th>loan_num_total</th>\n      <th>loan_num_closed</th>\n    </tr>\n  </thead>\n  <tbody>\n    <tr>\n      <th>0</th>\n      <td>21</td>\n      <td>0</td>\n      <td>0</td>\n      <td>0</td>\n      <td>0</td>\n      <td>0</td>\n      <td>10000</td>\n      <td>63596287</td>\n      <td>0</td>\n      <td>1</td>\n      <td>0</td>\n    </tr>\n    <tr>\n      <th>1</th>\n      <td>21</td>\n      <td>0</td>\n      <td>0</td>\n      <td>0</td>\n      <td>0</td>\n      <td>0</td>\n      <td>10000</td>\n      <td>64345856</td>\n      <td>0</td>\n      <td>1</td>\n      <td>0</td>\n    </tr>\n    <tr>\n      <th>2</th>\n      <td>21</td>\n      <td>0</td>\n      <td>0</td>\n      <td>0</td>\n      <td>0</td>\n      <td>0</td>\n      <td>12000</td>\n      <td>62941277</td>\n      <td>0</td>\n      <td>2</td>\n      <td>1</td>\n    </tr>\n    <tr>\n      <th>3</th>\n      <td>21</td>\n      <td>0</td>\n      <td>0</td>\n      <td>0</td>\n      <td>0</td>\n      <td>0</td>\n      <td>12000</td>\n      <td>64374643</td>\n      <td>0</td>\n      <td>1</td>\n      <td>1</td>\n    </tr>\n    <tr>\n      <th>4</th>\n      <td>21</td>\n      <td>0</td>\n      <td>0</td>\n      <td>0</td>\n      <td>0</td>\n      <td>0</td>\n      <td>25000</td>\n      <td>64420984</td>\n      <td>0</td>\n      <td>1</td>\n      <td>0</td>\n    </tr>\n    <tr>\n      <th>...</th>\n      <td>...</td>\n      <td>...</td>\n      <td>...</td>\n      <td>...</td>\n      <td>...</td>\n      <td>...</td>\n      <td>...</td>\n      <td>...</td>\n      <td>...</td>\n      <td>...</td>\n      <td>...</td>\n    </tr>\n    <tr>\n      <th>15218</th>\n      <td>66</td>\n      <td>1</td>\n      <td>1</td>\n      <td>0</td>\n      <td>0</td>\n      <td>0</td>\n      <td>9300</td>\n      <td>59929855</td>\n      <td>0</td>\n      <td>1</td>\n      <td>1</td>\n    </tr>\n    <tr>\n      <th>15219</th>\n      <td>66</td>\n      <td>1</td>\n      <td>1</td>\n      <td>0</td>\n      <td>0</td>\n      <td>0</td>\n      <td>8000</td>\n      <td>62095178</td>\n      <td>0</td>\n      <td>1</td>\n      <td>0</td>\n    </tr>\n    <tr>\n      <th>15220</th>\n      <td>66</td>\n      <td>1</td>\n      <td>2</td>\n      <td>0</td>\n      <td>0</td>\n      <td>0</td>\n      <td>12000</td>\n      <td>61040426</td>\n      <td>0</td>\n      <td>1</td>\n      <td>1</td>\n    </tr>\n    <tr>\n      <th>15221</th>\n      <td>66</td>\n      <td>1</td>\n      <td>3</td>\n      <td>0</td>\n      <td>0</td>\n      <td>0</td>\n      <td>17404</td>\n      <td>60444898</td>\n      <td>0</td>\n      <td>1</td>\n      <td>0</td>\n    </tr>\n    <tr>\n      <th>15222</th>\n      <td>67</td>\n      <td>1</td>\n      <td>2</td>\n      <td>0</td>\n      <td>0</td>\n      <td>1</td>\n      <td>12000</td>\n      <td>63813472</td>\n      <td>0</td>\n      <td>2</td>\n      <td>1</td>\n    </tr>\n  </tbody>\n</table>\n<p>15223 rows × 11 columns</p>\n</div>"
     },
     "execution_count": 36,
     "metadata": {},
     "output_type": "execute_result"
    }
   ],
   "source": [
    "df['socstatus_work_fl'] = df['socstatus_work_fl'].apply(lambda x: 1 if x == 'работает' else 0)\n",
    "df['socstatus_pens_fl'] = df['socstatus_pens_fl'].apply(lambda x: 1 if x == 'пенсионер' else 0)\n",
    "\n",
    "df"
   ],
   "metadata": {
    "collapsed": false
   }
  },
  {
   "cell_type": "code",
   "execution_count": 38,
   "outputs": [
    {
     "data": {
      "text/plain": "                age        gender   child_total    dependants  \\\ncount  15223.000000  15223.000000  15223.000000  15223.000000   \nmean      40.406096      0.654536      1.099389      0.645208   \nstd       11.601068      0.475535      0.995411      0.812252   \nmin       21.000000      0.000000      0.000000      0.000000   \n25%       30.000000      0.000000      0.000000      0.000000   \n50%       39.000000      1.000000      1.000000      0.000000   \n75%       50.000000      1.000000      2.000000      1.000000   \nmax       67.000000      1.000000     10.000000      7.000000   \n\n       socstatus_work_fl  socstatus_pens_fl  personal_income  agreement_rk  \\\ncount            15223.0       15223.000000     15223.000000  1.522300e+04   \nmean                 0.0           0.244301     13853.836300  6.540183e+07   \nstd                  0.0           0.429686      9015.467619  4.568181e+06   \nmin                  0.0           0.000000        24.000000  5.991015e+07   \n25%                  0.0           0.000000      8000.000000  6.192092e+07   \n50%                  0.0           0.000000     12000.000000  6.437100e+07   \n75%                  0.0           0.000000     17000.000000  6.708802e+07   \nmax                  0.0           1.000000    250000.000000  7.529224e+07   \n\n             target  loan_num_total  loan_num_closed  \ncount  15223.000000    15223.000000     15223.000000  \nmean       0.119030        1.414636         0.766406  \nstd        0.323835        0.839538         1.024446  \nmin        0.000000        1.000000         0.000000  \n25%        0.000000        1.000000         0.000000  \n50%        0.000000        1.000000         0.000000  \n75%        0.000000        2.000000         1.000000  \nmax        1.000000       16.000000        16.000000  ",
      "text/html": "<div>\n<style scoped>\n    .dataframe tbody tr th:only-of-type {\n        vertical-align: middle;\n    }\n\n    .dataframe tbody tr th {\n        vertical-align: top;\n    }\n\n    .dataframe thead th {\n        text-align: right;\n    }\n</style>\n<table border=\"1\" class=\"dataframe\">\n  <thead>\n    <tr style=\"text-align: right;\">\n      <th></th>\n      <th>age</th>\n      <th>gender</th>\n      <th>child_total</th>\n      <th>dependants</th>\n      <th>socstatus_work_fl</th>\n      <th>socstatus_pens_fl</th>\n      <th>personal_income</th>\n      <th>agreement_rk</th>\n      <th>target</th>\n      <th>loan_num_total</th>\n      <th>loan_num_closed</th>\n    </tr>\n  </thead>\n  <tbody>\n    <tr>\n      <th>count</th>\n      <td>15223.000000</td>\n      <td>15223.000000</td>\n      <td>15223.000000</td>\n      <td>15223.000000</td>\n      <td>15223.0</td>\n      <td>15223.000000</td>\n      <td>15223.000000</td>\n      <td>1.522300e+04</td>\n      <td>15223.000000</td>\n      <td>15223.000000</td>\n      <td>15223.000000</td>\n    </tr>\n    <tr>\n      <th>mean</th>\n      <td>40.406096</td>\n      <td>0.654536</td>\n      <td>1.099389</td>\n      <td>0.645208</td>\n      <td>0.0</td>\n      <td>0.244301</td>\n      <td>13853.836300</td>\n      <td>6.540183e+07</td>\n      <td>0.119030</td>\n      <td>1.414636</td>\n      <td>0.766406</td>\n    </tr>\n    <tr>\n      <th>std</th>\n      <td>11.601068</td>\n      <td>0.475535</td>\n      <td>0.995411</td>\n      <td>0.812252</td>\n      <td>0.0</td>\n      <td>0.429686</td>\n      <td>9015.467619</td>\n      <td>4.568181e+06</td>\n      <td>0.323835</td>\n      <td>0.839538</td>\n      <td>1.024446</td>\n    </tr>\n    <tr>\n      <th>min</th>\n      <td>21.000000</td>\n      <td>0.000000</td>\n      <td>0.000000</td>\n      <td>0.000000</td>\n      <td>0.0</td>\n      <td>0.000000</td>\n      <td>24.000000</td>\n      <td>5.991015e+07</td>\n      <td>0.000000</td>\n      <td>1.000000</td>\n      <td>0.000000</td>\n    </tr>\n    <tr>\n      <th>25%</th>\n      <td>30.000000</td>\n      <td>0.000000</td>\n      <td>0.000000</td>\n      <td>0.000000</td>\n      <td>0.0</td>\n      <td>0.000000</td>\n      <td>8000.000000</td>\n      <td>6.192092e+07</td>\n      <td>0.000000</td>\n      <td>1.000000</td>\n      <td>0.000000</td>\n    </tr>\n    <tr>\n      <th>50%</th>\n      <td>39.000000</td>\n      <td>1.000000</td>\n      <td>1.000000</td>\n      <td>0.000000</td>\n      <td>0.0</td>\n      <td>0.000000</td>\n      <td>12000.000000</td>\n      <td>6.437100e+07</td>\n      <td>0.000000</td>\n      <td>1.000000</td>\n      <td>0.000000</td>\n    </tr>\n    <tr>\n      <th>75%</th>\n      <td>50.000000</td>\n      <td>1.000000</td>\n      <td>2.000000</td>\n      <td>1.000000</td>\n      <td>0.0</td>\n      <td>0.000000</td>\n      <td>17000.000000</td>\n      <td>6.708802e+07</td>\n      <td>0.000000</td>\n      <td>2.000000</td>\n      <td>1.000000</td>\n    </tr>\n    <tr>\n      <th>max</th>\n      <td>67.000000</td>\n      <td>1.000000</td>\n      <td>10.000000</td>\n      <td>7.000000</td>\n      <td>0.0</td>\n      <td>1.000000</td>\n      <td>250000.000000</td>\n      <td>7.529224e+07</td>\n      <td>1.000000</td>\n      <td>16.000000</td>\n      <td>16.000000</td>\n    </tr>\n  </tbody>\n</table>\n</div>"
     },
     "execution_count": 38,
     "metadata": {},
     "output_type": "execute_result"
    }
   ],
   "source": [
    "num_df = df.select_dtypes(['int64', 'float64'])\n",
    "num_df.describe()"
   ],
   "metadata": {
    "collapsed": false
   }
  },
  {
   "cell_type": "code",
   "source": [
    "sns.set_style('darkgrid')\n",
    "sns.set(font_scale=1.3)\n",
    "sns.pairplot(num_df[['target', 'age']])\n",
    "# проведите анализ данных, посмотрите на индивидуальные графики\n",
    "# зависимости целевой функции и отдельной переменной\n",
    "# создайте дополнительные переменные\n",
    "# для работы с категориальными данными можно воспользоваться pd.get_dummies\n",
    "# сделайте предварительные выводы\n",
    "\n",
    "# Ваш код здесь"
   ],
   "metadata": {
    "id": "Kw0gsygGW4My"
   },
   "execution_count": 39,
   "outputs": [
    {
     "data": {
      "text/plain": "<seaborn.axisgrid.PairGrid at 0x14b695d90>"
     },
     "execution_count": 39,
     "metadata": {},
     "output_type": "execute_result"
    },
    {
     "data": {
      "text/plain": "<Figure size 500x500 with 6 Axes>",
      "image/png": "[encoded data removed]"
     },
     "metadata": {},
     "output_type": "display_data"
    }
   ]
  },
  {
   "cell_type": "code",
   "execution_count": 40,
   "outputs": [
    {
     "data": {
      "text/plain": "<seaborn.axisgrid.PairGrid at 0x14bed9d90>"
     },
     "execution_count": 40,
     "metadata": {},
     "output_type": "execute_result"
    },
    {
     "data": {
      "text/plain": "<Figure size 500x500 with 6 Axes>",
      "image/png": "[encoded data removed]"
     },
     "metadata": {},
     "output_type": "display_data"
    }
   ],
   "source": [
    "sns.pairplot(num_df[['target', 'personal_income']])"
   ],
   "metadata": {
    "collapsed": false
   }
  },
  {
   "cell_type": "code",
   "source": [
    "# раздедлите на обучающую и тестовую выборки\n",
    "\n",
    "# Ваш код здесь"
   ],
   "metadata": {
    "id": "qc4Qyoo1sx6M"
   },
   "execution_count": null,
   "outputs": []
  },
  {
   "cell_type": "code",
   "source": [
    "# обучите модель методом ближайших соседей\n",
    "\n",
    "# Ваш код здесь"
   ],
   "metadata": {
    "id": "rgudcaaPnBgB"
   },
   "execution_count": null,
   "outputs": []
  },
  {
   "cell_type": "code",
   "source": [
    "# проверьте качество модели с помощью F-мера\n",
    "\n",
    "# Ваш код здесь"
   ],
   "metadata": {
    "id": "CKDRfal9ncAq"
   },
   "execution_count": null,
   "outputs": []
  },
  {
   "cell_type": "code",
   "source": [
    "# проверьте качество модели с помощью матрицы сопряжённостей\n",
    "\n",
    "# Ваш код здесь"
   ],
   "metadata": {
    "id": "Noxi1XTKWvOQ"
   },
   "execution_count": null,
   "outputs": []
  },
  {
   "cell_type": "markdown",
   "source": [
    "    # сделайте вывод о работе модели\n",
    "\n",
    "    # Ваш текст здесь"
   ],
   "metadata": {
    "id": "3OebVpq7u5Bs"
   }
  }
 ]
}
