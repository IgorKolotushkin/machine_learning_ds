{
 "cells": [
  {
   "cell_type": "markdown",
   "metadata": {
    "id": "UxKcKjF8qNWZ"
   },
   "source": [
    "\n",
    "# Линейная регрессия. Практическая работа"
   ]
  },
  {
   "cell_type": "markdown",
   "metadata": {
    "id": "_ohvVK9tqXJI"
   },
   "source": [
    "## Цель практической работы\n",
    "\n",
    "Научиться строить модель линейной регрессии на реальных данных."
   ]
  },
  {
   "cell_type": "markdown",
   "metadata": {
    "id": "pTiwLOIHqXRw"
   },
   "source": [
    "## Что входит в практическую работу\n",
    "\n",
    "\n",
    "1. Загрузить данные и ознакомиться с ними.\n",
    "2. Изучить данные и провести анализ.\n",
    "3. Разделить данные на обучающую и тестовую выборки.\n",
    "4. Реализовать построение модели с помощью  библиотеки scikit-learn.\n",
    "5. Получить качество модели с помощью MSE, MAE.\n"
   ]
  },
  {
   "cell_type": "markdown",
   "metadata": {
    "id": "fWl_mCkdqXUG"
   },
   "source": [
    "## Что оценивается \n",
    "\n",
    "* Выполнены все этапы работы.\n",
    "* Сделан вывод по результатам.\n",
    "* Модель не переобучена.\n",
    "* Получена модель хорошего качества."
   ]
  },
  {
   "cell_type": "markdown",
   "metadata": {
    "id": "mQ04nzTSqXWw"
   },
   "source": [
    "## Как отправить работу на проверку\n",
    "\n",
    "Скачайте файл с заданиями в материалах, откройте его через Jupyter Notebook и выполните задачи. Сохраните изменения при помощи опции Save and Checkpoint из вкладки меню File или кнопки Save and Checkpoint на панели инструментов. Отправьте через форму ниже итоговый файл Jupyter Notebook (в формате .ipynb) или ссылку на него.\n",
    "\n"
   ]
  },
  {
   "cell_type": "markdown",
   "metadata": {
    "id": "NkvSJDW6qhe-"
   },
   "source": [
    "## Что нужно сделать\n",
    "\n",
    "Пусть у нас имеется некоторый набор данных `sales.csv` о продажах квартир:\n",
    "\n",
    "- **SalePrice** (цена продажи, *зависимая переменная*).\n",
    "- **GrLivArea** (наземная жилая зона).\n",
    "- **OverallQuality** (общее качество).\n",
    "- **GarageArea** (территория гаража).\n",
    "- **SaleCondition** (условия сделки).\n",
    "\n",
    "Реализуйте построение модели линейной регрессии на этих данных. Проверьте качество модели на обучающей и тестовой выборках с помощью MAE, MSE. Определите, что вы не переобучились."
   ]
  },
  {
   "cell_type": "markdown",
   "metadata": {
    "id": "EMiWw404BPe9"
   },
   "source": [
    "### 1. Импорт библиотек"
   ]
  },
  {
   "cell_type": "code",
   "execution_count": 4,
   "metadata": {
    "id": "tIB3665tpwY5"
   },
   "outputs": [],
   "source": [
    "import pandas as pd\n",
    "import seaborn as sns"
   ]
  },
  {
   "cell_type": "markdown",
   "metadata": {
    "id": "ZWCSzs2aBPfB"
   },
   "source": [
    "### 2. Загрузка данных"
   ]
  },
  {
   "cell_type": "code",
   "execution_count": 5,
   "metadata": {
    "id": "k-IvYesvrbcW"
   },
   "outputs": [
    {
     "data": {
      "text/plain": "      SalePrice  GrLivArea  GarageArea  OverallQual Street SaleCondition\n0        208500       1710         548            7   Pave        Normal\n1        181500       1262         460            6   Pave        Normal\n2        223500       1786         608            7   Pave        Normal\n3        140000       1717         642            7   Pave       Abnorml\n4        250000       2198         836            8   Pave        Normal\n...         ...        ...         ...          ...    ...           ...\n1455     175000       1647         460            6   Pave        Normal\n1456     210000       2073         500            6   Pave        Normal\n1457     266500       2340         252            7   Pave        Normal\n1458     142125       1078         240            5   Pave        Normal\n1459     147500       1256         276            5   Pave        Normal\n\n[1460 rows x 6 columns]",
      "text/html": "<div>\n<style scoped>\n    .dataframe tbody tr th:only-of-type {\n        vertical-align: middle;\n    }\n\n    .dataframe tbody tr th {\n        vertical-align: top;\n    }\n\n    .dataframe thead th {\n        text-align: right;\n    }\n</style>\n<table border=\"1\" class=\"dataframe\">\n  <thead>\n    <tr style=\"text-align: right;\">\n      <th></th>\n      <th>SalePrice</th>\n      <th>GrLivArea</th>\n      <th>GarageArea</th>\n      <th>OverallQual</th>\n      <th>Street</th>\n      <th>SaleCondition</th>\n    </tr>\n  </thead>\n  <tbody>\n    <tr>\n      <th>0</th>\n      <td>208500</td>\n      <td>1710</td>\n      <td>548</td>\n      <td>7</td>\n      <td>Pave</td>\n      <td>Normal</td>\n    </tr>\n    <tr>\n      <th>1</th>\n      <td>181500</td>\n      <td>1262</td>\n      <td>460</td>\n      <td>6</td>\n      <td>Pave</td>\n      <td>Normal</td>\n    </tr>\n    <tr>\n      <th>2</th>\n      <td>223500</td>\n      <td>1786</td>\n      <td>608</td>\n      <td>7</td>\n      <td>Pave</td>\n      <td>Normal</td>\n    </tr>\n    <tr>\n      <th>3</th>\n      <td>140000</td>\n      <td>1717</td>\n      <td>642</td>\n      <td>7</td>\n      <td>Pave</td>\n      <td>Abnorml</td>\n    </tr>\n    <tr>\n      <th>4</th>\n      <td>250000</td>\n      <td>2198</td>\n      <td>836</td>\n      <td>8</td>\n      <td>Pave</td>\n      <td>Normal</td>\n    </tr>\n    <tr>\n      <th>...</th>\n      <td>...</td>\n      <td>...</td>\n      <td>...</td>\n      <td>...</td>\n      <td>...</td>\n      <td>...</td>\n    </tr>\n    <tr>\n      <th>1455</th>\n      <td>175000</td>\n      <td>1647</td>\n      <td>460</td>\n      <td>6</td>\n      <td>Pave</td>\n      <td>Normal</td>\n    </tr>\n    <tr>\n      <th>1456</th>\n      <td>210000</td>\n      <td>2073</td>\n      <td>500</td>\n      <td>6</td>\n      <td>Pave</td>\n      <td>Normal</td>\n    </tr>\n    <tr>\n      <th>1457</th>\n      <td>266500</td>\n      <td>2340</td>\n      <td>252</td>\n      <td>7</td>\n      <td>Pave</td>\n      <td>Normal</td>\n    </tr>\n    <tr>\n      <th>1458</th>\n      <td>142125</td>\n      <td>1078</td>\n      <td>240</td>\n      <td>5</td>\n      <td>Pave</td>\n      <td>Normal</td>\n    </tr>\n    <tr>\n      <th>1459</th>\n      <td>147500</td>\n      <td>1256</td>\n      <td>276</td>\n      <td>5</td>\n      <td>Pave</td>\n      <td>Normal</td>\n    </tr>\n  </tbody>\n</table>\n<p>1460 rows × 6 columns</p>\n</div>"
     },
     "execution_count": 5,
     "metadata": {},
     "output_type": "execute_result"
    }
   ],
   "source": [
    "df = pd.read_csv('sales.csv')\n",
    "df"
   ]
  },
  {
   "cell_type": "markdown",
   "metadata": {
    "id": "4f-uZc_rBPfE"
   },
   "source": [
    "### 3. Первичный анализ\n",
    "\n",
    "1. Проведите анализ данных, посмотрите на индивидуальные графики зависимости целевой функции и отдельной переменной. Нередко, если признаков в выборке не так много, удобно построить [sns.pairplot](https://seaborn.pydata.org/generated/seaborn.pairplot.html).\n",
    "2. Закодируйте категориальные признаки (например, с помощью [pd.get_dummies](https://pandas.pydata.org/docs/reference/api/pandas.get_dummies.html)).\n",
    "3. Подумайте, можно ли здесь создать дополнительные переменные из имеющихся.\n",
    "4. Сделайте предварительные выводы."
   ]
  },
  {
   "cell_type": "code",
   "execution_count": null,
   "metadata": {
    "id": "7j1gr1MhvWB-"
   },
   "outputs": [],
   "source": [
    "# Ваш код здесь"
   ]
  },
  {
   "cell_type": "markdown",
   "metadata": {
    "id": "pu4cFGblBPfG"
   },
   "source": [
    "### 4. Разделение на обучающую и тестовую выборки"
   ]
  },
  {
   "cell_type": "code",
   "execution_count": null,
   "metadata": {
    "id": "Ba7fXJU_wOJ9"
   },
   "outputs": [],
   "source": [
    "# Ваш код здесь"
   ]
  },
  {
   "cell_type": "markdown",
   "metadata": {
    "id": "s5zxLft5BPfH"
   },
   "source": [
    "### 5. Обучение модели линейной регрессии\n",
    "\n",
    "Дополнительно можно взглянуть на коэффициенты и смещение обученной модели."
   ]
  },
  {
   "cell_type": "code",
   "execution_count": null,
   "metadata": {
    "id": "p8zJv01ywONB"
   },
   "outputs": [],
   "source": [
    "# Ваш код здесь"
   ]
  },
  {
   "cell_type": "markdown",
   "metadata": {
    "id": "2yttVRilBPfI"
   },
   "source": [
    "### 6. Получение предсказаний для обучающей и тестовой выборок"
   ]
  },
  {
   "cell_type": "code",
   "execution_count": null,
   "metadata": {
    "id": "vX2VqH2pwOnH"
   },
   "outputs": [],
   "source": [
    "# Ваш код здесь"
   ]
  },
  {
   "cell_type": "markdown",
   "metadata": {
    "id": "7yoAXuOOBPfJ"
   },
   "source": [
    "### 7. Проверка предсказаний\n",
    "\n",
    "1. Проверьте качество модели на обучающей и тестовой выборках с помощью MAE, MSE.\n",
    "2. Постройте диаграмму рассеяния целевой и предсказанной переменных. "
   ]
  },
  {
   "cell_type": "code",
   "execution_count": null,
   "metadata": {
    "id": "23Pj6ErtzByI"
   },
   "outputs": [],
   "source": [
    "# Ваш код здесь"
   ]
  }
 ],
 "metadata": {
  "colab": {
   "provenance": []
  },
  "kernelspec": {
   "display_name": "Python 3 (ipykernel)",
   "language": "python",
   "name": "python3"
  },
  "language_info": {
   "codemirror_mode": {
    "name": "ipython",
    "version": 3
   },
   "file_extension": ".py",
   "mimetype": "text/x-python",
   "name": "python",
   "nbconvert_exporter": "python",
   "pygments_lexer": "ipython3",
   "version": "3.9.12"
  }
 },
 "nbformat": 4,
 "nbformat_minor": 0
}
