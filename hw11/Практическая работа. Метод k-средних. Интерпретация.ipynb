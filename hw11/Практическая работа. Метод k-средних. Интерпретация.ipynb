{
  "cells": [
    {
      "cell_type": "markdown",
      "metadata": {
        "id": "Fa8xrPtQigaq"
      },
      "source": [
        "# Интерпретация. Практическая работа"
      ]
    },
    {
      "cell_type": "markdown",
      "metadata": {
        "id": "rM7f0TqsimDn"
      },
      "source": [
        "## Цель практической работы\n",
        "\n",
        "Научиться интерпретировать модели кластеризации."
      ]
    },
    {
      "cell_type": "markdown",
      "metadata": {
        "id": "yeRAMOIyjGyE"
      },
      "source": [
        "## Что входит в практическую работу\n",
        "\n",
        "\n",
        "1. Загрузить данные и провести разведочный анализ.\n",
        "2. Предположить оптимальное количество кластеров.\n",
        "3. Очистить и подготовить данные для использования в моделях машинного обучения.\n",
        "4. Построить модель кластеризации с помощью библиотеки Scikit-learn и вычислить оптимальное количество кластеров.\n",
        "5. Визуализировать результаты кластеризации.\n",
        "6. Интерпретировать полученные результаты.\n",
        "7. Подкрепить выводы интерпретации визуализациями."
      ]
    },
    {
      "cell_type": "markdown",
      "metadata": {
        "id": "SpyrwrqMm7cb"
      },
      "source": [
        "## Что оценивается \n",
        "\n",
        "* Выполнены все этапы работы.\n",
        "* Сделаны выводы по результатам разведочного анализа данных.\n",
        "* Выполнена и обоснована подготовка данных.\n",
        "* Выбор количества кластеров обоснован и подкреплён визуализацией. \n",
        "* Выбор гиперпараметров метода понижения размерности обоснован.\n",
        "* Интерпретация кластеров подкреплена расчётами и визуализацией. \n",
        "\n"
      ]
    },
    {
      "cell_type": "markdown",
      "metadata": {
        "id": "WZ-WRPIQn8ks"
      },
      "source": [
        "# Задача\n",
        "\n",
        "У вас имеется некоторый набор данных `marketing_campaign.csv` о покупателях супермаркета."
      ]
    },
    {
      "cell_type": "markdown",
      "metadata": {
        "id": "yBTmtB2BoCSD"
      },
      "source": [
        "* ID — уникальный идентификатор клиента.\n",
        "* Year_Birth — год рождения клиента.\n",
        "* Dt_Customer — дата регистрации клиента на сайте.\n",
        "* Recency — количество дней с момента последней покупки клиента.\n",
        "* MntFruits — сумма, потраченная на фрукты за последние два года.\n",
        "* MntMeatProducts — сумма, потраченная на мясо за последние два года.\n",
        "* MntFishProducts — сумма, потраченная на рыбу за последние два года.\n",
        "* MntSweetProducts — сумма, потраченная на сладости за последние два года.\n",
        "* NumWebPurchases — количество покупок, совершённых через сайт.\n",
        "* NumStorePurchases — количество покупок, совершённых непосредственно в магазинах.\n",
        "* Response: 1, если клиент участвовал в последней рекламной кампании, 0 — в противном случае.\n",
        "\n",
        "Решите задачу кластеризации покупателей, чтобы в дальнейшем планировать маркетинговые акции для каждой группы покупателей. Подготовьте результаты своей работы для демонстрации заказчику, не погружённому в машинное обучение."
      ]
    },
    {
      "cell_type": "markdown",
      "metadata": {
        "id": "Wyxcu8IA9Xlv"
      },
      "source": [
        "# Задание 1\n",
        "\n",
        "Загрузите датасет и выполните разведочный анализ данных. Сделайте выводы о найденных закономерностях, особенностях и других свойствах данных, которые вы обнаружите."
      ]
    },
    {
      "cell_type": "code",
      "execution_count": 39,
      "metadata": {},
      "outputs": [],
      "source": [
        "import pandas as pd\n",
        "import matplotlib.pyplot as plt\n",
        "import seaborn as sns\n",
        "from sklearn.cluster import KMeans"
      ]
    },
    {
      "cell_type": "code",
      "execution_count": 40,
      "metadata": {
        "id": "_W82JYp6YiVT"
      },
      "outputs": [
        {
          "data": {
            "text/html": [
              "<div>\n",
              "<style scoped>\n",
              "    .dataframe tbody tr th:only-of-type {\n",
              "        vertical-align: middle;\n",
              "    }\n",
              "\n",
              "    .dataframe tbody tr th {\n",
              "        vertical-align: top;\n",
              "    }\n",
              "\n",
              "    .dataframe thead th {\n",
              "        text-align: right;\n",
              "    }\n",
              "</style>\n",
              "<table border=\"1\" class=\"dataframe\">\n",
              "  <thead>\n",
              "    <tr style=\"text-align: right;\">\n",
              "      <th></th>\n",
              "      <th>ID</th>\n",
              "      <th>Year_Birth</th>\n",
              "      <th>Dt_Customer</th>\n",
              "      <th>Recency</th>\n",
              "      <th>MntFruits</th>\n",
              "      <th>MntMeatProducts</th>\n",
              "      <th>MntFishProducts</th>\n",
              "      <th>MntSweetProducts</th>\n",
              "      <th>NumWebPurchases</th>\n",
              "      <th>NumStorePurchases</th>\n",
              "      <th>Response</th>\n",
              "    </tr>\n",
              "  </thead>\n",
              "  <tbody>\n",
              "    <tr>\n",
              "      <th>0</th>\n",
              "      <td>5524</td>\n",
              "      <td>1957</td>\n",
              "      <td>04-09-2012</td>\n",
              "      <td>58</td>\n",
              "      <td>88</td>\n",
              "      <td>546</td>\n",
              "      <td>172</td>\n",
              "      <td>88</td>\n",
              "      <td>8</td>\n",
              "      <td>4</td>\n",
              "      <td>1</td>\n",
              "    </tr>\n",
              "    <tr>\n",
              "      <th>1</th>\n",
              "      <td>2174</td>\n",
              "      <td>1954</td>\n",
              "      <td>08-03-2014</td>\n",
              "      <td>38</td>\n",
              "      <td>1</td>\n",
              "      <td>6</td>\n",
              "      <td>2</td>\n",
              "      <td>1</td>\n",
              "      <td>1</td>\n",
              "      <td>2</td>\n",
              "      <td>0</td>\n",
              "    </tr>\n",
              "    <tr>\n",
              "      <th>2</th>\n",
              "      <td>4141</td>\n",
              "      <td>1965</td>\n",
              "      <td>21-08-2013</td>\n",
              "      <td>26</td>\n",
              "      <td>49</td>\n",
              "      <td>127</td>\n",
              "      <td>111</td>\n",
              "      <td>21</td>\n",
              "      <td>8</td>\n",
              "      <td>10</td>\n",
              "      <td>0</td>\n",
              "    </tr>\n",
              "    <tr>\n",
              "      <th>3</th>\n",
              "      <td>6182</td>\n",
              "      <td>1984</td>\n",
              "      <td>10-02-2014</td>\n",
              "      <td>26</td>\n",
              "      <td>4</td>\n",
              "      <td>20</td>\n",
              "      <td>10</td>\n",
              "      <td>3</td>\n",
              "      <td>2</td>\n",
              "      <td>4</td>\n",
              "      <td>0</td>\n",
              "    </tr>\n",
              "    <tr>\n",
              "      <th>4</th>\n",
              "      <td>5324</td>\n",
              "      <td>1981</td>\n",
              "      <td>19-01-2014</td>\n",
              "      <td>94</td>\n",
              "      <td>43</td>\n",
              "      <td>118</td>\n",
              "      <td>46</td>\n",
              "      <td>27</td>\n",
              "      <td>5</td>\n",
              "      <td>6</td>\n",
              "      <td>0</td>\n",
              "    </tr>\n",
              "  </tbody>\n",
              "</table>\n",
              "</div>"
            ],
            "text/plain": [
              "     ID  Year_Birth Dt_Customer  Recency  MntFruits  MntMeatProducts  \\\n",
              "0  5524        1957  04-09-2012       58         88              546   \n",
              "1  2174        1954  08-03-2014       38          1                6   \n",
              "2  4141        1965  21-08-2013       26         49              127   \n",
              "3  6182        1984  10-02-2014       26          4               20   \n",
              "4  5324        1981  19-01-2014       94         43              118   \n",
              "\n",
              "   MntFishProducts  MntSweetProducts  NumWebPurchases  NumStorePurchases  \\\n",
              "0              172                88                8                  4   \n",
              "1                2                 1                1                  2   \n",
              "2              111                21                8                 10   \n",
              "3               10                 3                2                  4   \n",
              "4               46                27                5                  6   \n",
              "\n",
              "   Response  \n",
              "0         1  \n",
              "1         0  \n",
              "2         0  \n",
              "3         0  \n",
              "4         0  "
            ]
          },
          "execution_count": 40,
          "metadata": {},
          "output_type": "execute_result"
        }
      ],
      "source": [
        "df = pd.read_csv('marketing campaign.csv')\n",
        "df.head()"
      ]
    },
    {
      "cell_type": "code",
      "execution_count": 5,
      "metadata": {},
      "outputs": [
        {
          "data": {
            "text/plain": [
              "ID                   0\n",
              "Year_Birth           0\n",
              "Dt_Customer          0\n",
              "Recency              0\n",
              "MntFruits            0\n",
              "MntMeatProducts      0\n",
              "MntFishProducts      0\n",
              "MntSweetProducts     0\n",
              "NumWebPurchases      0\n",
              "NumStorePurchases    0\n",
              "Response             0\n",
              "dtype: int64"
            ]
          },
          "execution_count": 5,
          "metadata": {},
          "output_type": "execute_result"
        }
      ],
      "source": [
        "df.isna().sum()"
      ]
    },
    {
      "cell_type": "code",
      "execution_count": 3,
      "metadata": {},
      "outputs": [
        {
          "data": {
            "text/html": [
              "<div>\n",
              "<style scoped>\n",
              "    .dataframe tbody tr th:only-of-type {\n",
              "        vertical-align: middle;\n",
              "    }\n",
              "\n",
              "    .dataframe tbody tr th {\n",
              "        vertical-align: top;\n",
              "    }\n",
              "\n",
              "    .dataframe thead th {\n",
              "        text-align: right;\n",
              "    }\n",
              "</style>\n",
              "<table border=\"1\" class=\"dataframe\">\n",
              "  <thead>\n",
              "    <tr style=\"text-align: right;\">\n",
              "      <th></th>\n",
              "      <th>ID</th>\n",
              "      <th>Year_Birth</th>\n",
              "      <th>Recency</th>\n",
              "      <th>MntFruits</th>\n",
              "      <th>MntMeatProducts</th>\n",
              "      <th>MntFishProducts</th>\n",
              "      <th>MntSweetProducts</th>\n",
              "      <th>NumWebPurchases</th>\n",
              "      <th>NumStorePurchases</th>\n",
              "      <th>Response</th>\n",
              "    </tr>\n",
              "  </thead>\n",
              "  <tbody>\n",
              "    <tr>\n",
              "      <th>ID</th>\n",
              "      <td>1.000000</td>\n",
              "      <td>0.000028</td>\n",
              "      <td>-0.046524</td>\n",
              "      <td>0.004600</td>\n",
              "      <td>-0.004437</td>\n",
              "      <td>-0.024475</td>\n",
              "      <td>-0.007642</td>\n",
              "      <td>-0.018924</td>\n",
              "      <td>-0.014927</td>\n",
              "      <td>-0.021968</td>\n",
              "    </tr>\n",
              "    <tr>\n",
              "      <th>Year_Birth</th>\n",
              "      <td>0.000028</td>\n",
              "      <td>1.000000</td>\n",
              "      <td>-0.019871</td>\n",
              "      <td>-0.017917</td>\n",
              "      <td>-0.030872</td>\n",
              "      <td>-0.041625</td>\n",
              "      <td>-0.018133</td>\n",
              "      <td>-0.145040</td>\n",
              "      <td>-0.128272</td>\n",
              "      <td>0.021325</td>\n",
              "    </tr>\n",
              "    <tr>\n",
              "      <th>Recency</th>\n",
              "      <td>-0.046524</td>\n",
              "      <td>-0.019871</td>\n",
              "      <td>1.000000</td>\n",
              "      <td>-0.004306</td>\n",
              "      <td>0.023056</td>\n",
              "      <td>0.001079</td>\n",
              "      <td>0.022670</td>\n",
              "      <td>-0.010726</td>\n",
              "      <td>0.000799</td>\n",
              "      <td>-0.198437</td>\n",
              "    </tr>\n",
              "    <tr>\n",
              "      <th>MntFruits</th>\n",
              "      <td>0.004600</td>\n",
              "      <td>-0.017917</td>\n",
              "      <td>-0.004306</td>\n",
              "      <td>1.000000</td>\n",
              "      <td>0.543105</td>\n",
              "      <td>0.594804</td>\n",
              "      <td>0.567164</td>\n",
              "      <td>0.296735</td>\n",
              "      <td>0.461758</td>\n",
              "      <td>0.125289</td>\n",
              "    </tr>\n",
              "    <tr>\n",
              "      <th>MntMeatProducts</th>\n",
              "      <td>-0.004437</td>\n",
              "      <td>-0.030872</td>\n",
              "      <td>0.023056</td>\n",
              "      <td>0.543105</td>\n",
              "      <td>1.000000</td>\n",
              "      <td>0.568402</td>\n",
              "      <td>0.523846</td>\n",
              "      <td>0.293761</td>\n",
              "      <td>0.479659</td>\n",
              "      <td>0.236335</td>\n",
              "    </tr>\n",
              "    <tr>\n",
              "      <th>MntFishProducts</th>\n",
              "      <td>-0.024475</td>\n",
              "      <td>-0.041625</td>\n",
              "      <td>0.001079</td>\n",
              "      <td>0.594804</td>\n",
              "      <td>0.568402</td>\n",
              "      <td>1.000000</td>\n",
              "      <td>0.579870</td>\n",
              "      <td>0.293681</td>\n",
              "      <td>0.459855</td>\n",
              "      <td>0.111331</td>\n",
              "    </tr>\n",
              "    <tr>\n",
              "      <th>MntSweetProducts</th>\n",
              "      <td>-0.007642</td>\n",
              "      <td>-0.018133</td>\n",
              "      <td>0.022670</td>\n",
              "      <td>0.567164</td>\n",
              "      <td>0.523846</td>\n",
              "      <td>0.579870</td>\n",
              "      <td>1.000000</td>\n",
              "      <td>0.348544</td>\n",
              "      <td>0.448756</td>\n",
              "      <td>0.117372</td>\n",
              "    </tr>\n",
              "    <tr>\n",
              "      <th>NumWebPurchases</th>\n",
              "      <td>-0.018924</td>\n",
              "      <td>-0.145040</td>\n",
              "      <td>-0.010726</td>\n",
              "      <td>0.296735</td>\n",
              "      <td>0.293761</td>\n",
              "      <td>0.293681</td>\n",
              "      <td>0.348544</td>\n",
              "      <td>1.000000</td>\n",
              "      <td>0.502713</td>\n",
              "      <td>0.148730</td>\n",
              "    </tr>\n",
              "    <tr>\n",
              "      <th>NumStorePurchases</th>\n",
              "      <td>-0.014927</td>\n",
              "      <td>-0.128272</td>\n",
              "      <td>0.000799</td>\n",
              "      <td>0.461758</td>\n",
              "      <td>0.479659</td>\n",
              "      <td>0.459855</td>\n",
              "      <td>0.448756</td>\n",
              "      <td>0.502713</td>\n",
              "      <td>1.000000</td>\n",
              "      <td>0.039363</td>\n",
              "    </tr>\n",
              "    <tr>\n",
              "      <th>Response</th>\n",
              "      <td>-0.021968</td>\n",
              "      <td>0.021325</td>\n",
              "      <td>-0.198437</td>\n",
              "      <td>0.125289</td>\n",
              "      <td>0.236335</td>\n",
              "      <td>0.111331</td>\n",
              "      <td>0.117372</td>\n",
              "      <td>0.148730</td>\n",
              "      <td>0.039363</td>\n",
              "      <td>1.000000</td>\n",
              "    </tr>\n",
              "  </tbody>\n",
              "</table>\n",
              "</div>"
            ],
            "text/plain": [
              "                         ID  Year_Birth   Recency  MntFruits  MntMeatProducts  \\\n",
              "ID                 1.000000    0.000028 -0.046524   0.004600        -0.004437   \n",
              "Year_Birth         0.000028    1.000000 -0.019871  -0.017917        -0.030872   \n",
              "Recency           -0.046524   -0.019871  1.000000  -0.004306         0.023056   \n",
              "MntFruits          0.004600   -0.017917 -0.004306   1.000000         0.543105   \n",
              "MntMeatProducts   -0.004437   -0.030872  0.023056   0.543105         1.000000   \n",
              "MntFishProducts   -0.024475   -0.041625  0.001079   0.594804         0.568402   \n",
              "MntSweetProducts  -0.007642   -0.018133  0.022670   0.567164         0.523846   \n",
              "NumWebPurchases   -0.018924   -0.145040 -0.010726   0.296735         0.293761   \n",
              "NumStorePurchases -0.014927   -0.128272  0.000799   0.461758         0.479659   \n",
              "Response          -0.021968    0.021325 -0.198437   0.125289         0.236335   \n",
              "\n",
              "                   MntFishProducts  MntSweetProducts  NumWebPurchases  \\\n",
              "ID                       -0.024475         -0.007642        -0.018924   \n",
              "Year_Birth               -0.041625         -0.018133        -0.145040   \n",
              "Recency                   0.001079          0.022670        -0.010726   \n",
              "MntFruits                 0.594804          0.567164         0.296735   \n",
              "MntMeatProducts           0.568402          0.523846         0.293761   \n",
              "MntFishProducts           1.000000          0.579870         0.293681   \n",
              "MntSweetProducts          0.579870          1.000000         0.348544   \n",
              "NumWebPurchases           0.293681          0.348544         1.000000   \n",
              "NumStorePurchases         0.459855          0.448756         0.502713   \n",
              "Response                  0.111331          0.117372         0.148730   \n",
              "\n",
              "                   NumStorePurchases  Response  \n",
              "ID                         -0.014927 -0.021968  \n",
              "Year_Birth                 -0.128272  0.021325  \n",
              "Recency                     0.000799 -0.198437  \n",
              "MntFruits                   0.461758  0.125289  \n",
              "MntMeatProducts             0.479659  0.236335  \n",
              "MntFishProducts             0.459855  0.111331  \n",
              "MntSweetProducts            0.448756  0.117372  \n",
              "NumWebPurchases             0.502713  0.148730  \n",
              "NumStorePurchases           1.000000  0.039363  \n",
              "Response                    0.039363  1.000000  "
            ]
          },
          "execution_count": 3,
          "metadata": {},
          "output_type": "execute_result"
        }
      ],
      "source": [
        "df_corr = df.drop(columns=['Dt_Customer'])\n",
        "df_corr.corr()"
      ]
    },
    {
      "cell_type": "code",
      "execution_count": 9,
      "metadata": {},
      "outputs": [
        {
          "data": {
            "text/html": [
              "<div>\n",
              "<style scoped>\n",
              "    .dataframe tbody tr th:only-of-type {\n",
              "        vertical-align: middle;\n",
              "    }\n",
              "\n",
              "    .dataframe tbody tr th {\n",
              "        vertical-align: top;\n",
              "    }\n",
              "\n",
              "    .dataframe thead th {\n",
              "        text-align: right;\n",
              "    }\n",
              "</style>\n",
              "<table border=\"1\" class=\"dataframe\">\n",
              "  <thead>\n",
              "    <tr style=\"text-align: right;\">\n",
              "      <th></th>\n",
              "      <th>ID</th>\n",
              "      <th>Year_Birth</th>\n",
              "      <th>Recency</th>\n",
              "      <th>MntFruits</th>\n",
              "      <th>MntMeatProducts</th>\n",
              "      <th>MntFishProducts</th>\n",
              "      <th>MntSweetProducts</th>\n",
              "      <th>NumWebPurchases</th>\n",
              "      <th>NumStorePurchases</th>\n",
              "      <th>Response</th>\n",
              "    </tr>\n",
              "  </thead>\n",
              "  <tbody>\n",
              "    <tr>\n",
              "      <th>count</th>\n",
              "      <td>2240.000000</td>\n",
              "      <td>2240.000000</td>\n",
              "      <td>2240.000000</td>\n",
              "      <td>2240.000000</td>\n",
              "      <td>2240.000000</td>\n",
              "      <td>2240.000000</td>\n",
              "      <td>2240.000000</td>\n",
              "      <td>2240.000000</td>\n",
              "      <td>2240.000000</td>\n",
              "      <td>2240.000000</td>\n",
              "    </tr>\n",
              "    <tr>\n",
              "      <th>mean</th>\n",
              "      <td>5592.159821</td>\n",
              "      <td>1968.805804</td>\n",
              "      <td>49.109375</td>\n",
              "      <td>26.302232</td>\n",
              "      <td>166.950000</td>\n",
              "      <td>37.525446</td>\n",
              "      <td>27.062946</td>\n",
              "      <td>4.084821</td>\n",
              "      <td>5.790179</td>\n",
              "      <td>0.149107</td>\n",
              "    </tr>\n",
              "    <tr>\n",
              "      <th>std</th>\n",
              "      <td>3246.662198</td>\n",
              "      <td>11.984069</td>\n",
              "      <td>28.962453</td>\n",
              "      <td>39.773434</td>\n",
              "      <td>225.715373</td>\n",
              "      <td>54.628979</td>\n",
              "      <td>41.280498</td>\n",
              "      <td>2.778714</td>\n",
              "      <td>3.250958</td>\n",
              "      <td>0.356274</td>\n",
              "    </tr>\n",
              "    <tr>\n",
              "      <th>min</th>\n",
              "      <td>0.000000</td>\n",
              "      <td>1893.000000</td>\n",
              "      <td>0.000000</td>\n",
              "      <td>0.000000</td>\n",
              "      <td>0.000000</td>\n",
              "      <td>0.000000</td>\n",
              "      <td>0.000000</td>\n",
              "      <td>0.000000</td>\n",
              "      <td>0.000000</td>\n",
              "      <td>0.000000</td>\n",
              "    </tr>\n",
              "    <tr>\n",
              "      <th>25%</th>\n",
              "      <td>2828.250000</td>\n",
              "      <td>1959.000000</td>\n",
              "      <td>24.000000</td>\n",
              "      <td>1.000000</td>\n",
              "      <td>16.000000</td>\n",
              "      <td>3.000000</td>\n",
              "      <td>1.000000</td>\n",
              "      <td>2.000000</td>\n",
              "      <td>3.000000</td>\n",
              "      <td>0.000000</td>\n",
              "    </tr>\n",
              "    <tr>\n",
              "      <th>50%</th>\n",
              "      <td>5458.500000</td>\n",
              "      <td>1970.000000</td>\n",
              "      <td>49.000000</td>\n",
              "      <td>8.000000</td>\n",
              "      <td>67.000000</td>\n",
              "      <td>12.000000</td>\n",
              "      <td>8.000000</td>\n",
              "      <td>4.000000</td>\n",
              "      <td>5.000000</td>\n",
              "      <td>0.000000</td>\n",
              "    </tr>\n",
              "    <tr>\n",
              "      <th>75%</th>\n",
              "      <td>8427.750000</td>\n",
              "      <td>1977.000000</td>\n",
              "      <td>74.000000</td>\n",
              "      <td>33.000000</td>\n",
              "      <td>232.000000</td>\n",
              "      <td>50.000000</td>\n",
              "      <td>33.000000</td>\n",
              "      <td>6.000000</td>\n",
              "      <td>8.000000</td>\n",
              "      <td>0.000000</td>\n",
              "    </tr>\n",
              "    <tr>\n",
              "      <th>max</th>\n",
              "      <td>11191.000000</td>\n",
              "      <td>1996.000000</td>\n",
              "      <td>99.000000</td>\n",
              "      <td>199.000000</td>\n",
              "      <td>1725.000000</td>\n",
              "      <td>259.000000</td>\n",
              "      <td>263.000000</td>\n",
              "      <td>27.000000</td>\n",
              "      <td>13.000000</td>\n",
              "      <td>1.000000</td>\n",
              "    </tr>\n",
              "  </tbody>\n",
              "</table>\n",
              "</div>"
            ],
            "text/plain": [
              "                 ID   Year_Birth      Recency    MntFruits  MntMeatProducts  \\\n",
              "count   2240.000000  2240.000000  2240.000000  2240.000000      2240.000000   \n",
              "mean    5592.159821  1968.805804    49.109375    26.302232       166.950000   \n",
              "std     3246.662198    11.984069    28.962453    39.773434       225.715373   \n",
              "min        0.000000  1893.000000     0.000000     0.000000         0.000000   \n",
              "25%     2828.250000  1959.000000    24.000000     1.000000        16.000000   \n",
              "50%     5458.500000  1970.000000    49.000000     8.000000        67.000000   \n",
              "75%     8427.750000  1977.000000    74.000000    33.000000       232.000000   \n",
              "max    11191.000000  1996.000000    99.000000   199.000000      1725.000000   \n",
              "\n",
              "       MntFishProducts  MntSweetProducts  NumWebPurchases  NumStorePurchases  \\\n",
              "count      2240.000000       2240.000000      2240.000000        2240.000000   \n",
              "mean         37.525446         27.062946         4.084821           5.790179   \n",
              "std          54.628979         41.280498         2.778714           3.250958   \n",
              "min           0.000000          0.000000         0.000000           0.000000   \n",
              "25%           3.000000          1.000000         2.000000           3.000000   \n",
              "50%          12.000000          8.000000         4.000000           5.000000   \n",
              "75%          50.000000         33.000000         6.000000           8.000000   \n",
              "max         259.000000        263.000000        27.000000          13.000000   \n",
              "\n",
              "          Response  \n",
              "count  2240.000000  \n",
              "mean      0.149107  \n",
              "std       0.356274  \n",
              "min       0.000000  \n",
              "25%       0.000000  \n",
              "50%       0.000000  \n",
              "75%       0.000000  \n",
              "max       1.000000  "
            ]
          },
          "execution_count": 9,
          "metadata": {},
          "output_type": "execute_result"
        }
      ],
      "source": [
        "df_corr.describe()"
      ]
    },
    {
      "cell_type": "code",
      "execution_count": 33,
      "metadata": {},
      "outputs": [
        {
          "data": {
            "text/html": [
              "<div>\n",
              "<style scoped>\n",
              "    .dataframe tbody tr th:only-of-type {\n",
              "        vertical-align: middle;\n",
              "    }\n",
              "\n",
              "    .dataframe tbody tr th {\n",
              "        vertical-align: top;\n",
              "    }\n",
              "\n",
              "    .dataframe thead th {\n",
              "        text-align: right;\n",
              "    }\n",
              "</style>\n",
              "<table border=\"1\" class=\"dataframe\">\n",
              "  <thead>\n",
              "    <tr style=\"text-align: right;\">\n",
              "      <th></th>\n",
              "      <th>ID</th>\n",
              "      <th>Year_Birth</th>\n",
              "      <th>Dt_Customer</th>\n",
              "      <th>Recency</th>\n",
              "      <th>MntFruits</th>\n",
              "      <th>MntMeatProducts</th>\n",
              "      <th>MntFishProducts</th>\n",
              "      <th>MntSweetProducts</th>\n",
              "      <th>NumWebPurchases</th>\n",
              "      <th>NumStorePurchases</th>\n",
              "      <th>Response</th>\n",
              "      <th>outlier_age</th>\n",
              "    </tr>\n",
              "  </thead>\n",
              "  <tbody>\n",
              "    <tr>\n",
              "      <th>192</th>\n",
              "      <td>7829</td>\n",
              "      <td>1900</td>\n",
              "      <td>26-09-2013</td>\n",
              "      <td>99</td>\n",
              "      <td>6</td>\n",
              "      <td>8</td>\n",
              "      <td>7</td>\n",
              "      <td>4</td>\n",
              "      <td>2</td>\n",
              "      <td>2</td>\n",
              "      <td>0</td>\n",
              "      <td>1</td>\n",
              "    </tr>\n",
              "    <tr>\n",
              "      <th>239</th>\n",
              "      <td>11004</td>\n",
              "      <td>1893</td>\n",
              "      <td>17-05-2014</td>\n",
              "      <td>23</td>\n",
              "      <td>0</td>\n",
              "      <td>5</td>\n",
              "      <td>7</td>\n",
              "      <td>0</td>\n",
              "      <td>1</td>\n",
              "      <td>2</td>\n",
              "      <td>0</td>\n",
              "      <td>1</td>\n",
              "    </tr>\n",
              "    <tr>\n",
              "      <th>339</th>\n",
              "      <td>1150</td>\n",
              "      <td>1899</td>\n",
              "      <td>26-09-2013</td>\n",
              "      <td>36</td>\n",
              "      <td>144</td>\n",
              "      <td>562</td>\n",
              "      <td>104</td>\n",
              "      <td>64</td>\n",
              "      <td>4</td>\n",
              "      <td>4</td>\n",
              "      <td>0</td>\n",
              "      <td>-1</td>\n",
              "    </tr>\n",
              "  </tbody>\n",
              "</table>\n",
              "</div>"
            ],
            "text/plain": [
              "        ID  Year_Birth Dt_Customer  Recency  MntFruits  MntMeatProducts  \\\n",
              "192   7829        1900  26-09-2013       99          6                8   \n",
              "239  11004        1893  17-05-2014       23          0                5   \n",
              "339   1150        1899  26-09-2013       36        144              562   \n",
              "\n",
              "     MntFishProducts  MntSweetProducts  NumWebPurchases  NumStorePurchases  \\\n",
              "192                7                 4                2                  2   \n",
              "239                7                 0                1                  2   \n",
              "339              104                64                4                  4   \n",
              "\n",
              "     Response  outlier_age  \n",
              "192         0            1  \n",
              "239         0            1  \n",
              "339         0           -1  "
            ]
          },
          "execution_count": 33,
          "metadata": {},
          "output_type": "execute_result"
        }
      ],
      "source": [
        "df[df['Year_Birth'] < 1920]"
      ]
    },
    {
      "cell_type": "code",
      "execution_count": null,
      "metadata": {},
      "outputs": [],
      "source": [
        "# Выбросы в годе рождения"
      ]
    },
    {
      "cell_type": "code",
      "execution_count": 41,
      "metadata": {},
      "outputs": [],
      "source": [
        "def calculate_iqr_boundaries(series):\n",
        "  q25 = series.quantile(0.25)\n",
        "  q75 = series.quantile(0.75)\n",
        "\n",
        "  iqr = q75 - q25\n",
        "\n",
        "  return (q25 - 1.5 * iqr, q75 + 1.5 * iqr)"
      ]
    },
    {
      "cell_type": "code",
      "execution_count": 42,
      "metadata": {},
      "outputs": [],
      "source": [
        "age_bounds = calculate_iqr_boundaries(df['Year_Birth'])"
      ]
    },
    {
      "cell_type": "code",
      "execution_count": 43,
      "metadata": {},
      "outputs": [],
      "source": [
        "df.loc[(df['Year_Birth'] < age_bounds[0]), 'Year_Birth'] = int(age_bounds[0])"
      ]
    },
    {
      "cell_type": "code",
      "execution_count": 37,
      "metadata": {},
      "outputs": [
        {
          "data": {
            "text/plain": [
              "<matplotlib.collections.PathCollection at 0x7c32ba9d4d60>"
            ]
          },
          "execution_count": 37,
          "metadata": {},
          "output_type": "execute_result"
        },
        {
          "data": {
            "image/png": "[encoded data removed]",
            "text/plain": [
              "<Figure size 640x480 with 1 Axes>"
            ]
          },
          "metadata": {},
          "output_type": "display_data"
        }
      ],
      "source": [
        "plt.scatter(df['Year_Birth'], df['MntMeatProducts'])"
      ]
    },
    {
      "cell_type": "code",
      "execution_count": 44,
      "metadata": {},
      "outputs": [
        {
          "data": {
            "text/plain": [
              "<Axes: >"
            ]
          },
          "execution_count": 44,
          "metadata": {},
          "output_type": "execute_result"
        },
        {
          "data": {
            "image/png": "[encoded data removed]",
            "text/plain": [
              "<Figure size 640x480 with 1 Axes>"
            ]
          },
          "metadata": {},
          "output_type": "display_data"
        }
      ],
      "source": [
        "n_clusters = list(range(2, 10))\n",
        "\n",
        "metrics = []\n",
        "\n",
        "for k in n_clusters:\n",
        "  km = KMeans(n_clusters=k, random_state=42).fit(df.drop(columns=['Dt_Customer']))\n",
        "  metrics.append(km.inertia_)\n",
        "\n",
        "sns.lineplot(x=n_clusters, y=metrics)"
      ]
    },
    {
      "cell_type": "markdown",
      "metadata": {
        "id": "pqyP34ti9gNX"
      },
      "source": [
        "# Задание 2\n",
        "\n",
        "Метод k-средних требует явно задать количество кластеров, на которые будут разбиваться данные. Данных может быть так много, что построение одной модели будет занимать несколько часов, поэтому важно заранее примерно представлять количество кластеров до запуска обучения модели.\n",
        "\n",
        "На основе проведённого разведочного анализа данных предположите, какое количество кластеров будет оптимальным, аргументируйте своё предположение."
      ]
    },
    {
      "cell_type": "markdown",
      "metadata": {
        "id": "KK_NoLgO9jeN"
      },
      "source": [
        "Напишите ваш ответ ниже\n"
      ]
    },
    {
      "cell_type": "markdown",
      "metadata": {
        "id": "QOgH7n4H_i_6"
      },
      "source": [
        "# Задание 3\n",
        "\n",
        "Выполните очистку и подготовку данных для дальнейшего использования при построении моделей машинного обучения. Аргументируйте выбранные шаги подготовки данных. "
      ]
    },
    {
      "cell_type": "code",
      "execution_count": null,
      "metadata": {
        "id": "QMpybzSJYlSX"
      },
      "outputs": [],
      "source": []
    },
    {
      "cell_type": "markdown",
      "metadata": {
        "id": "FJluelbRAL_m"
      },
      "source": [
        "# Задание 4\n",
        "\n",
        "Постройте модель кластеризации с помощью метода k-средних. Определите оптимальное количество кластеров с помощью метода локтя и метрики silhouette score. \n",
        "\n",
        "Помните, что аналитический способ определения количества кластеров не является единственно верным. Если ваше понимание предметной области и результаты анализа данных расходятся с результатами метода локтя, вы можете выбрать и обосновать количество кластеров, исходя из своего опыта."
      ]
    },
    {
      "cell_type": "code",
      "execution_count": null,
      "metadata": {
        "id": "ev0CM8N_YsuI"
      },
      "outputs": [],
      "source": []
    },
    {
      "cell_type": "markdown",
      "metadata": {
        "id": "fu6KHi83BhP3"
      },
      "source": [
        "# Задание 5\n",
        "\n",
        "Визуализируйте результаты кластеризации на двумерном графике с помощью метода t-SNE. Обоснуйте выбранные значения его гиперпараметров."
      ]
    },
    {
      "cell_type": "code",
      "execution_count": null,
      "metadata": {
        "id": "-lZU0PikYtn9"
      },
      "outputs": [],
      "source": []
    },
    {
      "cell_type": "markdown",
      "metadata": {
        "id": "mhmmvnkZB02h"
      },
      "source": [
        "# Задание 6\n",
        "\n",
        "Постройте профили кластеров и опишите их."
      ]
    },
    {
      "cell_type": "code",
      "execution_count": null,
      "metadata": {
        "id": "G1Pk1-khYusN"
      },
      "outputs": [],
      "source": []
    },
    {
      "cell_type": "markdown",
      "metadata": {
        "id": "6FCZqcWLDN38"
      },
      "source": [
        "# Задание 7\n",
        "\n",
        "Визуализируйте профили кластеров. Подготовьте краткое резюме результатов вашего исследования для заказчика."
      ]
    },
    {
      "cell_type": "markdown",
      "metadata": {
        "id": "ERoaEjkJn26M"
      },
      "source": [
        "## Как отправить работу на проверку\n",
        "\n",
        "Скачайте файл с заданием в материалах, откройте его через Jupyter Notebook и выполните задания. Сохраните изменения при помощи опции Save and Checkpoint из вкладки меню File или кнопки Save and Checkpoint на панели инструментов. Отправьте через форму ниже итоговый файл Jupyter Notebook (.ipynb) или ссылку на него."
      ]
    },
    {
      "cell_type": "code",
      "execution_count": null,
      "metadata": {
        "id": "_xK9dAu7SQkL"
      },
      "outputs": [],
      "source": []
    }
  ],
  "metadata": {
    "colab": {
      "provenance": []
    },
    "gpuClass": "standard",
    "kernelspec": {
      "display_name": "Python 3 (ipykernel)",
      "language": "python",
      "name": "python3"
    },
    "language_info": {
      "codemirror_mode": {
        "name": "ipython",
        "version": 3
      },
      "file_extension": ".py",
      "mimetype": "text/x-python",
      "name": "python",
      "nbconvert_exporter": "python",
      "pygments_lexer": "ipython3",
      "version": "3.10.12"
    }
  },
  "nbformat": 4,
  "nbformat_minor": 0
}
