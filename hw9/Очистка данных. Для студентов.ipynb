{
  "cells": [
    {
      "cell_type": "markdown",
      "metadata": {
        "id": "o6I4n4hwCgV5"
      },
      "source": [
        "# Очистка данных. Практическая работа"
      ]
    },
    {
      "cell_type": "markdown",
      "metadata": {
        "id": "7TcMEEhWCmMs"
      },
      "source": [
        "## Цель практической работы\n",
        "\n",
        "- Научиться выполнять очистку и подготовку данных для их дальнейшего использования в задаче машинного обучения."
      ]
    },
    {
      "cell_type": "markdown",
      "metadata": {
        "id": "X_F8J_bWDsJz"
      },
      "source": [
        "## Что нужно сделать\n",
        "\n",
        "- Загрузить данные в ноутбук.\n",
        "- Провести разведочный анализ данных.\n",
        "- Разделить данные на обучающую и тестовую выборки.\n",
        "- Выполнить очистку и подготовку данных."
      ]
    },
    {
      "cell_type": "markdown",
      "metadata": {
        "id": "K2Db_0pXEqka"
      },
      "source": [
        "## Что оценивается \n",
        "\n",
        "1. Выполнены все этапы задания.\n",
        "1. Не допущены утечки данных."
      ]
    },
    {
      "cell_type": "markdown",
      "metadata": {
        "id": "vwpxmizHGXPE"
      },
      "source": [
        "## Формат сдачи\n",
        "\n",
        "Выполните предложенные задания: впишите свой код в ячейки после комментария `### YOUR CODE HERE ###` и сохраните изменения, используя опцию *Save and Checkpoint* из вкладки меню *File* или кнопку *Save and Checkpoint* на панели инструментов. Итоговый файл в формате `.ipynb` (файл Jupyter Notebook) загрузите в личный кабинет и отправьте на проверку."
      ]
    },
    {
      "cell_type": "markdown",
      "metadata": {
        "id": "CUhKZgVsFEkk"
      },
      "source": [
        "## Задача\n",
        "Имеется набор данных покупателей супермаркета. Проведите анализ и очистку этих данных."
      ]
    },
    {
      "cell_type": "markdown",
      "metadata": {
        "id": "MMergpE8Fj8-"
      },
      "source": [
        "### Описание данных\n",
        "\n",
        "Дан файл Mall_Customers.csv, содержащий следующие данные по покупателям сети супермаркетов:\n",
        "- CustomerID — идентификатор покупателя.\n",
        "- Genre – пол покупателя.\n",
        "- Age – возраст покупателя.\n",
        "- Annual Income (k\\$) – годовой доход покупателя, тысяч $.\n",
        "- Spending Score (1–100) – рейтинг покупателя, целевая переменная."
      ]
    },
    {
      "cell_type": "code",
      "execution_count": 1,
      "metadata": {},
      "outputs": [],
      "source": [
        "import pandas as pd"
      ]
    },
    {
      "cell_type": "markdown",
      "metadata": {
        "id": "9pfNcyY_FoV7"
      },
      "source": [
        "### Задание 1\n",
        "\n",
        "Загрузите данные из файла `Mall_Customers.csv` в ноутбук и выведите первые пять строк на экран."
      ]
    },
    {
      "cell_type": "code",
      "execution_count": 2,
      "metadata": {
        "id": "9Q82jW1UCjGi"
      },
      "outputs": [
        {
          "data": {
            "text/html": [
              "<div>\n",
              "<style scoped>\n",
              "    .dataframe tbody tr th:only-of-type {\n",
              "        vertical-align: middle;\n",
              "    }\n",
              "\n",
              "    .dataframe tbody tr th {\n",
              "        vertical-align: top;\n",
              "    }\n",
              "\n",
              "    .dataframe thead th {\n",
              "        text-align: right;\n",
              "    }\n",
              "</style>\n",
              "<table border=\"1\" class=\"dataframe\">\n",
              "  <thead>\n",
              "    <tr style=\"text-align: right;\">\n",
              "      <th></th>\n",
              "      <th>CustomerID</th>\n",
              "      <th>Genre</th>\n",
              "      <th>Age</th>\n",
              "      <th>Annual Income (k$)</th>\n",
              "      <th>Spending Score (1-100)</th>\n",
              "    </tr>\n",
              "  </thead>\n",
              "  <tbody>\n",
              "    <tr>\n",
              "      <th>0</th>\n",
              "      <td>1</td>\n",
              "      <td>Male</td>\n",
              "      <td>19.0</td>\n",
              "      <td>15.0</td>\n",
              "      <td>39</td>\n",
              "    </tr>\n",
              "    <tr>\n",
              "      <th>1</th>\n",
              "      <td>2</td>\n",
              "      <td>Male</td>\n",
              "      <td>NaN</td>\n",
              "      <td>NaN</td>\n",
              "      <td>81</td>\n",
              "    </tr>\n",
              "    <tr>\n",
              "      <th>2</th>\n",
              "      <td>3</td>\n",
              "      <td>Female</td>\n",
              "      <td>NaN</td>\n",
              "      <td>16.0</td>\n",
              "      <td>6</td>\n",
              "    </tr>\n",
              "    <tr>\n",
              "      <th>3</th>\n",
              "      <td>4</td>\n",
              "      <td>Female</td>\n",
              "      <td>23.0</td>\n",
              "      <td>16.0</td>\n",
              "      <td>77</td>\n",
              "    </tr>\n",
              "    <tr>\n",
              "      <th>4</th>\n",
              "      <td>5</td>\n",
              "      <td>Female</td>\n",
              "      <td>31.0</td>\n",
              "      <td>17.0</td>\n",
              "      <td>40</td>\n",
              "    </tr>\n",
              "  </tbody>\n",
              "</table>\n",
              "</div>"
            ],
            "text/plain": [
              "   CustomerID   Genre   Age  Annual Income (k$)  Spending Score (1-100)\n",
              "0           1    Male  19.0                15.0                      39\n",
              "1           2    Male   NaN                 NaN                      81\n",
              "2           3  Female   NaN                16.0                       6\n",
              "3           4  Female  23.0                16.0                      77\n",
              "4           5  Female  31.0                17.0                      40"
            ]
          },
          "execution_count": 2,
          "metadata": {},
          "output_type": "execute_result"
        }
      ],
      "source": [
        "df = pd.read_csv('Mall_Customers.csv')\n",
        "\n",
        "df.head(5)"
      ]
    },
    {
      "cell_type": "markdown",
      "metadata": {
        "id": "dZ6Tm3koGft2"
      },
      "source": [
        "### Задание 2\n",
        "\n",
        "Проведите разведочный анализ загруженных данных. Обязательные атрибуты для анализа:\n",
        "- количество пропусков в каждом признаке;\n",
        "- распределения признаков;\n",
        "- возможные выбросы или аномалии.\n",
        "\n",
        "Анализ дополнительных атрибутов и свойств данных приветствуется. Используйте средства визуализации там, где это необходимо.\n",
        "\n",
        "По результатам анализа сделайте выводы о свойствах отдельных признаков и качестве данных в целом."
      ]
    },
    {
      "cell_type": "code",
      "execution_count": 9,
      "metadata": {},
      "outputs": [
        {
          "data": {
            "text/plain": [
              "(200, 5)"
            ]
          },
          "execution_count": 9,
          "metadata": {},
          "output_type": "execute_result"
        }
      ],
      "source": [
        "df.shape"
      ]
    },
    {
      "cell_type": "code",
      "execution_count": 8,
      "metadata": {},
      "outputs": [
        {
          "data": {
            "text/plain": [
              "CustomerID                 0\n",
              "Genre                     19\n",
              "Age                       20\n",
              "Annual Income (k$)        20\n",
              "Spending Score (1-100)     0\n",
              "dtype: int64"
            ]
          },
          "execution_count": 8,
          "metadata": {},
          "output_type": "execute_result"
        }
      ],
      "source": [
        "df.isna().sum()"
      ]
    },
    {
      "cell_type": "code",
      "execution_count": 3,
      "metadata": {
        "id": "zczQG5MoHulI"
      },
      "outputs": [
        {
          "data": {
            "text/plain": [
              "Genre\n",
              "Female     102\n",
              "Male        77\n",
              "NaN         19\n",
              "Feemale      2\n",
              "Name: count, dtype: int64"
            ]
          },
          "execution_count": 3,
          "metadata": {},
          "output_type": "execute_result"
        }
      ],
      "source": [
        "df['Genre'].value_counts(dropna=False)\n"
      ]
    },
    {
      "cell_type": "code",
      "execution_count": 6,
      "metadata": {},
      "outputs": [
        {
          "data": {
            "text/plain": [
              "Age\n",
              "NaN      20\n",
              "32.0     10\n",
              "35.0      8\n",
              "31.0      7\n",
              "30.0      7\n",
              "49.0      7\n",
              "19.0      6\n",
              "40.0      6\n",
              "47.0      6\n",
              "27.0      6\n",
              "23.0      6\n",
              "36.0      5\n",
              "38.0      5\n",
              "48.0      5\n",
              "54.0      4\n",
              "29.0      4\n",
              "20.0      4\n",
              "34.0      4\n",
              "18.0      4\n",
              "59.0      4\n",
              "37.0      3\n",
              "33.0      3\n",
              "43.0      3\n",
              "67.0      3\n",
              "22.0      3\n",
              "50.0      3\n",
              "68.0      3\n",
              "39.0      3\n",
              "28.0      3\n",
              "21.0      3\n",
              "60.0      3\n",
              "24.0      3\n",
              "45.0      3\n",
              "46.0      3\n",
              "25.0      3\n",
              "57.0      2\n",
              "26.0      2\n",
              "44.0      2\n",
              "51.0      2\n",
              "135.0     2\n",
              "65.0      2\n",
              "58.0      2\n",
              "53.0      2\n",
              "52.0      2\n",
              "41.0      2\n",
              "63.0      1\n",
              "70.0      1\n",
              "69.0      1\n",
              "55.0      1\n",
              "66.0      1\n",
              "56.0      1\n",
              "42.0      1\n",
              "Name: count, dtype: int64"
            ]
          },
          "execution_count": 6,
          "metadata": {},
          "output_type": "execute_result"
        }
      ],
      "source": [
        "df['Age'].value_counts(dropna=False)"
      ]
    },
    {
      "cell_type": "code",
      "execution_count": 7,
      "metadata": {},
      "outputs": [
        {
          "data": {
            "text/plain": [
              "Annual Income (k$)\n",
              "NaN          20\n",
              "78.0         11\n",
              "54.0         11\n",
              "87.0          6\n",
              "60.0          6\n",
              "             ..\n",
              "1000000.0     1\n",
              "76.0          1\n",
              "74.0          1\n",
              "69.0          1\n",
              "15.0          1\n",
              "Name: count, Length: 65, dtype: int64"
            ]
          },
          "execution_count": 7,
          "metadata": {},
          "output_type": "execute_result"
        }
      ],
      "source": [
        "df['Annual Income (k$)'].value_counts(dropna=False)"
      ]
    },
    {
      "cell_type": "markdown",
      "metadata": {
        "id": "f2D8MlDlHvL4"
      },
      "source": [
        "### Задание 3\n",
        "\n",
        "Разделите данные на обучающую и тестовую выборки в пропорции 80:20. Здесь и далее используйте random_state = 1."
      ]
    },
    {
      "cell_type": "code",
      "execution_count": null,
      "metadata": {
        "id": "7YwL8vOzICNY"
      },
      "outputs": [],
      "source": [
        "### YOUR CODE HERE ###\n"
      ]
    },
    {
      "cell_type": "markdown",
      "metadata": {
        "id": "pmzNU3XqICuX"
      },
      "source": [
        "### Задание 4\n",
        "\n",
        "Заполните пропуски в признаках в обучающей выборке с использованием инструментов sklearn. Для каждого признака выберите и аргументируйте стратегию заполнения пропусков."
      ]
    },
    {
      "cell_type": "code",
      "execution_count": null,
      "metadata": {
        "id": "wM-cN8q8IZVe"
      },
      "outputs": [],
      "source": [
        "### YOUR CODE HERE ###\n"
      ]
    },
    {
      "cell_type": "markdown",
      "metadata": {
        "id": "dG06N3kJIZ9A"
      },
      "source": [
        "### Задание 5\n",
        "\n",
        "Найдите выбросы в признаках обучающей выборки. Замените выбросы, если таковые имеются, и аргументируйте выбор метода поиска выбросов.\n"
      ]
    },
    {
      "cell_type": "code",
      "execution_count": null,
      "metadata": {
        "id": "TTcePy4bI1ab"
      },
      "outputs": [],
      "source": [
        "### YOUR CODE HERE ###\n"
      ]
    },
    {
      "cell_type": "markdown",
      "metadata": {
        "id": "4iZFKDQ7I2LZ"
      },
      "source": [
        "### Задание 6\n",
        "\n",
        "Нормализуйте численные признаки. Аргументируйте выбор стратегии нормализации для каждого признака.\n"
      ]
    },
    {
      "cell_type": "code",
      "execution_count": null,
      "metadata": {
        "id": "gSLKHnlYI-bf"
      },
      "outputs": [],
      "source": [
        "### YOUR CODE HERE ###\n"
      ]
    },
    {
      "cell_type": "markdown",
      "metadata": {
        "id": "MwEFsRNnI_Ar"
      },
      "source": [
        "### Задание 7\n",
        "\n",
        "Закодируйте категориальные признаки в обучающей выборке. Аргументируйте выбор способа кодирования."
      ]
    },
    {
      "cell_type": "code",
      "execution_count": null,
      "metadata": {
        "id": "Ypo6y1iMJHeL"
      },
      "outputs": [],
      "source": [
        "### YOUR CODE HERE ###\n"
      ]
    },
    {
      "cell_type": "markdown",
      "metadata": {
        "id": "mT9hsPltJJ2z"
      },
      "source": [
        "### Задание 8\n",
        "Проведите очистку и подготовку тестовых данных. Используйте препроцессоры и другие инструменты, которые вы уже использовали при подготовке обучающей выборки, без их дополнительной настройки."
      ]
    },
    {
      "cell_type": "code",
      "execution_count": null,
      "metadata": {
        "id": "swiT9IQlziSs"
      },
      "outputs": [],
      "source": [
        "### YOUR CODE HERE ###\n"
      ]
    }
  ],
  "metadata": {
    "colab": {
      "provenance": []
    },
    "gpuClass": "standard",
    "kernelspec": {
      "display_name": "Python 3",
      "name": "python3"
    },
    "language_info": {
      "codemirror_mode": {
        "name": "ipython",
        "version": 3
      },
      "file_extension": ".py",
      "mimetype": "text/x-python",
      "name": "python",
      "nbconvert_exporter": "python",
      "pygments_lexer": "ipython3",
      "version": "3.10.12"
    }
  },
  "nbformat": 4,
  "nbformat_minor": 0
}
