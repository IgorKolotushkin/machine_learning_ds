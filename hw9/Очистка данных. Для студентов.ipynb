{
  "cells": [
    {
      "cell_type": "markdown",
      "metadata": {
        "id": "o6I4n4hwCgV5"
      },
      "source": [
        "# Очистка данных. Практическая работа"
      ]
    },
    {
      "cell_type": "markdown",
      "metadata": {
        "id": "7TcMEEhWCmMs"
      },
      "source": [
        "## Цель практической работы\n",
        "\n",
        "- Научиться выполнять очистку и подготовку данных для их дальнейшего использования в задаче машинного обучения."
      ]
    },
    {
      "cell_type": "markdown",
      "metadata": {
        "id": "X_F8J_bWDsJz"
      },
      "source": [
        "## Что нужно сделать\n",
        "\n",
        "- Загрузить данные в ноутбук.\n",
        "- Провести разведочный анализ данных.\n",
        "- Разделить данные на обучающую и тестовую выборки.\n",
        "- Выполнить очистку и подготовку данных."
      ]
    },
    {
      "cell_type": "markdown",
      "metadata": {
        "id": "K2Db_0pXEqka"
      },
      "source": [
        "## Что оценивается \n",
        "\n",
        "1. Выполнены все этапы задания.\n",
        "1. Не допущены утечки данных."
      ]
    },
    {
      "cell_type": "markdown",
      "metadata": {
        "id": "vwpxmizHGXPE"
      },
      "source": [
        "## Формат сдачи\n",
        "\n",
        "Выполните предложенные задания: впишите свой код в ячейки после комментария `### YOUR CODE HERE ###` и сохраните изменения, используя опцию *Save and Checkpoint* из вкладки меню *File* или кнопку *Save and Checkpoint* на панели инструментов. Итоговый файл в формате `.ipynb` (файл Jupyter Notebook) загрузите в личный кабинет и отправьте на проверку."
      ]
    },
    {
      "cell_type": "markdown",
      "metadata": {
        "id": "CUhKZgVsFEkk"
      },
      "source": [
        "## Задача\n",
        "Имеется набор данных покупателей супермаркета. Проведите анализ и очистку этих данных."
      ]
    },
    {
      "cell_type": "markdown",
      "metadata": {
        "id": "MMergpE8Fj8-"
      },
      "source": [
        "### Описание данных\n",
        "\n",
        "Дан файл Mall_Customers.csv, содержащий следующие данные по покупателям сети супермаркетов:\n",
        "- CustomerID — идентификатор покупателя.\n",
        "- Genre – пол покупателя.\n",
        "- Age – возраст покупателя.\n",
        "- Annual Income (k\\$) – годовой доход покупателя, тысяч $.\n",
        "- Spending Score (1–100) – рейтинг покупателя, целевая переменная."
      ]
    },
    {
      "cell_type": "code",
      "execution_count": 49,
      "metadata": {},
      "outputs": [],
      "source": [
        "import pandas as pd"
      ]
    },
    {
      "cell_type": "markdown",
      "metadata": {
        "id": "9pfNcyY_FoV7"
      },
      "source": [
        "### Задание 1\n",
        "\n",
        "Загрузите данные из файла `Mall_Customers.csv` в ноутбук и выведите первые пять строк на экран."
      ]
    },
    {
      "cell_type": "code",
      "execution_count": 51,
      "metadata": {
        "id": "9Q82jW1UCjGi"
      },
      "outputs": [
        {
          "data": {
            "text/html": [
              "<div>\n",
              "<style scoped>\n",
              "    .dataframe tbody tr th:only-of-type {\n",
              "        vertical-align: middle;\n",
              "    }\n",
              "\n",
              "    .dataframe tbody tr th {\n",
              "        vertical-align: top;\n",
              "    }\n",
              "\n",
              "    .dataframe thead th {\n",
              "        text-align: right;\n",
              "    }\n",
              "</style>\n",
              "<table border=\"1\" class=\"dataframe\">\n",
              "  <thead>\n",
              "    <tr style=\"text-align: right;\">\n",
              "      <th></th>\n",
              "      <th>CustomerID</th>\n",
              "      <th>Genre</th>\n",
              "      <th>Age</th>\n",
              "      <th>Annual Income (k$)</th>\n",
              "      <th>Spending Score (1-100)</th>\n",
              "    </tr>\n",
              "  </thead>\n",
              "  <tbody>\n",
              "    <tr>\n",
              "      <th>0</th>\n",
              "      <td>1</td>\n",
              "      <td>Male</td>\n",
              "      <td>19.0</td>\n",
              "      <td>15.0</td>\n",
              "      <td>39</td>\n",
              "    </tr>\n",
              "    <tr>\n",
              "      <th>1</th>\n",
              "      <td>2</td>\n",
              "      <td>Male</td>\n",
              "      <td>NaN</td>\n",
              "      <td>NaN</td>\n",
              "      <td>81</td>\n",
              "    </tr>\n",
              "    <tr>\n",
              "      <th>2</th>\n",
              "      <td>3</td>\n",
              "      <td>Female</td>\n",
              "      <td>NaN</td>\n",
              "      <td>16.0</td>\n",
              "      <td>6</td>\n",
              "    </tr>\n",
              "    <tr>\n",
              "      <th>3</th>\n",
              "      <td>4</td>\n",
              "      <td>Female</td>\n",
              "      <td>23.0</td>\n",
              "      <td>16.0</td>\n",
              "      <td>77</td>\n",
              "    </tr>\n",
              "    <tr>\n",
              "      <th>4</th>\n",
              "      <td>5</td>\n",
              "      <td>Female</td>\n",
              "      <td>31.0</td>\n",
              "      <td>17.0</td>\n",
              "      <td>40</td>\n",
              "    </tr>\n",
              "  </tbody>\n",
              "</table>\n",
              "</div>"
            ],
            "text/plain": [
              "   CustomerID   Genre   Age  Annual Income (k$)  Spending Score (1-100)\n",
              "0           1    Male  19.0                15.0                      39\n",
              "1           2    Male   NaN                 NaN                      81\n",
              "2           3  Female   NaN                16.0                       6\n",
              "3           4  Female  23.0                16.0                      77\n",
              "4           5  Female  31.0                17.0                      40"
            ]
          },
          "execution_count": 51,
          "metadata": {},
          "output_type": "execute_result"
        }
      ],
      "source": [
        "df = pd.read_csv('Mall_Customers.csv')\n",
        "\n",
        "df.head(5)"
      ]
    },
    {
      "cell_type": "markdown",
      "metadata": {
        "id": "dZ6Tm3koGft2"
      },
      "source": [
        "### Задание 2\n",
        "\n",
        "Проведите разведочный анализ загруженных данных. Обязательные атрибуты для анализа:\n",
        "- количество пропусков в каждом признаке;\n",
        "- распределения признаков;\n",
        "- возможные выбросы или аномалии.\n",
        "\n",
        "Анализ дополнительных атрибутов и свойств данных приветствуется. Используйте средства визуализации там, где это необходимо.\n",
        "\n",
        "По результатам анализа сделайте выводы о свойствах отдельных признаков и качестве данных в целом."
      ]
    },
    {
      "cell_type": "code",
      "execution_count": 28,
      "metadata": {},
      "outputs": [
        {
          "data": {
            "text/plain": [
              "(200, 5)"
            ]
          },
          "execution_count": 28,
          "metadata": {},
          "output_type": "execute_result"
        }
      ],
      "source": [
        "df.shape"
      ]
    },
    {
      "cell_type": "code",
      "execution_count": 29,
      "metadata": {},
      "outputs": [
        {
          "data": {
            "text/plain": [
              "CustomerID                 0\n",
              "Genre                     19\n",
              "Age                       20\n",
              "Annual Income (k$)        20\n",
              "Spending Score (1-100)     0\n",
              "dtype: int64"
            ]
          },
          "execution_count": 29,
          "metadata": {},
          "output_type": "execute_result"
        }
      ],
      "source": [
        "df.isna().sum()"
      ]
    },
    {
      "cell_type": "code",
      "execution_count": 30,
      "metadata": {},
      "outputs": [
        {
          "data": {
            "text/plain": [
              "CustomerID                0.000\n",
              "Genre                     0.095\n",
              "Age                       0.100\n",
              "Annual Income (k$)        0.100\n",
              "Spending Score (1-100)    0.000\n",
              "dtype: float64"
            ]
          },
          "execution_count": 30,
          "metadata": {},
          "output_type": "execute_result"
        }
      ],
      "source": [
        "df.isna().sum() / df.shape[0]"
      ]
    },
    {
      "cell_type": "code",
      "execution_count": 31,
      "metadata": {
        "id": "zczQG5MoHulI"
      },
      "outputs": [
        {
          "data": {
            "text/plain": [
              "Genre\n",
              "Female     102\n",
              "Male        77\n",
              "NaN         19\n",
              "Feemale      2\n",
              "Name: count, dtype: int64"
            ]
          },
          "execution_count": 31,
          "metadata": {},
          "output_type": "execute_result"
        }
      ],
      "source": [
        "df['Genre'].value_counts(dropna=False)"
      ]
    },
    {
      "cell_type": "code",
      "execution_count": 32,
      "metadata": {},
      "outputs": [
        {
          "data": {
            "text/plain": [
              "Age\n",
              "NaN      20\n",
              "32.0     10\n",
              "35.0      8\n",
              "31.0      7\n",
              "30.0      7\n",
              "49.0      7\n",
              "19.0      6\n",
              "40.0      6\n",
              "47.0      6\n",
              "27.0      6\n",
              "23.0      6\n",
              "36.0      5\n",
              "38.0      5\n",
              "48.0      5\n",
              "54.0      4\n",
              "29.0      4\n",
              "20.0      4\n",
              "34.0      4\n",
              "18.0      4\n",
              "59.0      4\n",
              "37.0      3\n",
              "33.0      3\n",
              "43.0      3\n",
              "67.0      3\n",
              "22.0      3\n",
              "50.0      3\n",
              "68.0      3\n",
              "39.0      3\n",
              "28.0      3\n",
              "21.0      3\n",
              "60.0      3\n",
              "24.0      3\n",
              "45.0      3\n",
              "46.0      3\n",
              "25.0      3\n",
              "57.0      2\n",
              "26.0      2\n",
              "44.0      2\n",
              "51.0      2\n",
              "135.0     2\n",
              "65.0      2\n",
              "58.0      2\n",
              "53.0      2\n",
              "52.0      2\n",
              "41.0      2\n",
              "63.0      1\n",
              "70.0      1\n",
              "69.0      1\n",
              "55.0      1\n",
              "66.0      1\n",
              "56.0      1\n",
              "42.0      1\n",
              "Name: count, dtype: int64"
            ]
          },
          "execution_count": 32,
          "metadata": {},
          "output_type": "execute_result"
        }
      ],
      "source": [
        "df['Age'].value_counts(dropna=False)"
      ]
    },
    {
      "cell_type": "code",
      "execution_count": 33,
      "metadata": {},
      "outputs": [
        {
          "data": {
            "text/html": [
              "<div>\n",
              "<style scoped>\n",
              "    .dataframe tbody tr th:only-of-type {\n",
              "        vertical-align: middle;\n",
              "    }\n",
              "\n",
              "    .dataframe tbody tr th {\n",
              "        vertical-align: top;\n",
              "    }\n",
              "\n",
              "    .dataframe thead th {\n",
              "        text-align: right;\n",
              "    }\n",
              "</style>\n",
              "<table border=\"1\" class=\"dataframe\">\n",
              "  <thead>\n",
              "    <tr style=\"text-align: right;\">\n",
              "      <th></th>\n",
              "      <th>CustomerID</th>\n",
              "      <th>Genre</th>\n",
              "      <th>Age</th>\n",
              "      <th>Annual Income (k$)</th>\n",
              "      <th>Spending Score (1-100)</th>\n",
              "    </tr>\n",
              "  </thead>\n",
              "  <tbody>\n",
              "    <tr>\n",
              "      <th>6</th>\n",
              "      <td>7</td>\n",
              "      <td>NaN</td>\n",
              "      <td>135.0</td>\n",
              "      <td>18.0</td>\n",
              "      <td>6</td>\n",
              "    </tr>\n",
              "    <tr>\n",
              "      <th>8</th>\n",
              "      <td>9</td>\n",
              "      <td>Male</td>\n",
              "      <td>135.0</td>\n",
              "      <td>19.0</td>\n",
              "      <td>3</td>\n",
              "    </tr>\n",
              "  </tbody>\n",
              "</table>\n",
              "</div>"
            ],
            "text/plain": [
              "   CustomerID Genre    Age  Annual Income (k$)  Spending Score (1-100)\n",
              "6           7   NaN  135.0                18.0                       6\n",
              "8           9  Male  135.0                19.0                       3"
            ]
          },
          "execution_count": 33,
          "metadata": {},
          "output_type": "execute_result"
        }
      ],
      "source": [
        "df[df['Age'] > 100.0]"
      ]
    },
    {
      "cell_type": "markdown",
      "metadata": {},
      "source": [
        "Две очень странные записи в Age. Т.к. этих записей всего две просто удалю их"
      ]
    },
    {
      "cell_type": "code",
      "execution_count": 34,
      "metadata": {},
      "outputs": [
        {
          "data": {
            "text/plain": [
              "<Axes: >"
            ]
          },
          "execution_count": 34,
          "metadata": {},
          "output_type": "execute_result"
        },
        {
          "data": {
            "image/png": "[encoded data removed]",
            "text/plain": [
              "<Figure size 640x480 with 1 Axes>"
            ]
          },
          "metadata": {},
          "output_type": "display_data"
        }
      ],
      "source": [
        "df['Age'].hist(bins=100)"
      ]
    },
    {
      "cell_type": "code",
      "execution_count": 35,
      "metadata": {},
      "outputs": [
        {
          "data": {
            "text/plain": [
              "count    180.000000\n",
              "mean      39.894444\n",
              "std       16.842848\n",
              "min       18.000000\n",
              "25%       29.000000\n",
              "50%       36.000000\n",
              "75%       49.000000\n",
              "max      135.000000\n",
              "Name: Age, dtype: float64"
            ]
          },
          "execution_count": 35,
          "metadata": {},
          "output_type": "execute_result"
        }
      ],
      "source": [
        "df['Age'].describe()"
      ]
    },
    {
      "cell_type": "code",
      "execution_count": 36,
      "metadata": {},
      "outputs": [
        {
          "data": {
            "text/plain": [
              "Annual Income (k$)\n",
              "NaN          20\n",
              "78.0         11\n",
              "54.0         11\n",
              "87.0          6\n",
              "60.0          6\n",
              "             ..\n",
              "1000000.0     1\n",
              "76.0          1\n",
              "74.0          1\n",
              "69.0          1\n",
              "15.0          1\n",
              "Name: count, Length: 65, dtype: int64"
            ]
          },
          "execution_count": 36,
          "metadata": {},
          "output_type": "execute_result"
        }
      ],
      "source": [
        "df['Annual Income (k$)'].value_counts(dropna=False)"
      ]
    },
    {
      "cell_type": "code",
      "execution_count": 37,
      "metadata": {},
      "outputs": [
        {
          "data": {
            "text/plain": [
              "count        180.000000\n",
              "mean        5615.433333\n",
              "std        74531.115872\n",
              "min           15.000000\n",
              "25%           42.000000\n",
              "50%           61.000000\n",
              "75%           78.000000\n",
              "max      1000000.000000\n",
              "Name: Annual Income (k$), dtype: float64"
            ]
          },
          "execution_count": 37,
          "metadata": {},
          "output_type": "execute_result"
        }
      ],
      "source": [
        "df['Annual Income (k$)'].describe()"
      ]
    },
    {
      "cell_type": "code",
      "execution_count": 38,
      "metadata": {},
      "outputs": [
        {
          "data": {
            "text/plain": [
              "<Axes: >"
            ]
          },
          "execution_count": 38,
          "metadata": {},
          "output_type": "execute_result"
        },
        {
          "data": {
            "image/png": "[encoded data removed]",
            "text/plain": [
              "<Figure size 640x480 with 1 Axes>"
            ]
          },
          "metadata": {},
          "output_type": "display_data"
        }
      ],
      "source": [
        "df['Annual Income (k$)'].hist(bins=20)"
      ]
    },
    {
      "cell_type": "code",
      "execution_count": 42,
      "metadata": {},
      "outputs": [
        {
          "data": {
            "text/plain": [
              "<matplotlib.collections.PathCollection at 0x13dc23ac0>"
            ]
          },
          "execution_count": 42,
          "metadata": {},
          "output_type": "execute_result"
        },
        {
          "data": {
            "image/png": "[encoded data removed]",
            "text/plain": [
              "<Figure size 640x480 with 1 Axes>"
            ]
          },
          "metadata": {},
          "output_type": "display_data"
        }
      ],
      "source": [
        "import matplotlib.pyplot as plt\n",
        "\n",
        "plt.scatter(df['Age'], df['Annual Income (k$)'])"
      ]
    },
    {
      "cell_type": "markdown",
      "metadata": {},
      "source": [
        "Здесь хорошо видно два выброса, Annual Income = 1000000 и Age = 135"
      ]
    },
    {
      "cell_type": "code",
      "execution_count": 52,
      "metadata": {},
      "outputs": [
        {
          "data": {
            "text/plain": [
              "<matplotlib.collections.PathCollection at 0x176309490>"
            ]
          },
          "execution_count": 52,
          "metadata": {},
          "output_type": "execute_result"
        },
        {
          "data": {
            "image/png": "[encoded data removed]",
            "text/plain": [
              "<Figure size 640x480 with 1 Axes>"
            ]
          },
          "metadata": {},
          "output_type": "display_data"
        }
      ],
      "source": [
        "plt.scatter(df['Age'], df['Spending Score (1-100)'])"
      ]
    },
    {
      "cell_type": "code",
      "execution_count": 53,
      "metadata": {},
      "outputs": [
        {
          "data": {
            "text/plain": [
              "<matplotlib.collections.PathCollection at 0x176384340>"
            ]
          },
          "execution_count": 53,
          "metadata": {},
          "output_type": "execute_result"
        },
        {
          "data": {
            "image/png": "[encoded data removed]",
            "text/plain": [
              "<Figure size 640x480 with 1 Axes>"
            ]
          },
          "metadata": {},
          "output_type": "display_data"
        }
      ],
      "source": [
        "plt.scatter(df['Annual Income (k$)'], df['Spending Score (1-100)'])"
      ]
    },
    {
      "cell_type": "code",
      "execution_count": 54,
      "metadata": {},
      "outputs": [],
      "source": [
        "# решил просто удалить эти строки с экстремальными значениями\n",
        "\n",
        "df = df.drop(index=df.loc[df['Annual Income (k$)'] == 1000000].index)\n",
        "df = df.drop(index=df.loc[df['Age'] == 135.0].index)"
      ]
    },
    {
      "cell_type": "code",
      "execution_count": 55,
      "metadata": {},
      "outputs": [
        {
          "data": {
            "text/plain": [
              "<matplotlib.collections.PathCollection at 0x1763f4af0>"
            ]
          },
          "execution_count": 55,
          "metadata": {},
          "output_type": "execute_result"
        },
        {
          "data": {
            "image/png": "[encoded data removed]",
            "text/plain": [
              "<Figure size 640x480 with 1 Axes>"
            ]
          },
          "metadata": {},
          "output_type": "display_data"
        }
      ],
      "source": [
        "plt.scatter(df['Age'], df['Annual Income (k$)'])"
      ]
    },
    {
      "cell_type": "code",
      "execution_count": 47,
      "metadata": {},
      "outputs": [
        {
          "data": {
            "text/plain": [
              "<Axes: >"
            ]
          },
          "execution_count": 47,
          "metadata": {},
          "output_type": "execute_result"
        },
        {
          "data": {
            "image/png": "[encoded data removed]",
            "text/plain": [
              "<Figure size 640x480 with 1 Axes>"
            ]
          },
          "metadata": {},
          "output_type": "display_data"
        }
      ],
      "source": [
        "df['Age'].hist(bins=100)"
      ]
    },
    {
      "cell_type": "code",
      "execution_count": 48,
      "metadata": {},
      "outputs": [
        {
          "data": {
            "text/plain": [
              "<Axes: >"
            ]
          },
          "execution_count": 48,
          "metadata": {},
          "output_type": "execute_result"
        },
        {
          "data": {
            "image/png": "[encoded data removed]",
            "text/plain": [
              "<Figure size 640x480 with 1 Axes>"
            ]
          },
          "metadata": {},
          "output_type": "display_data"
        }
      ],
      "source": [
        "df['Annual Income (k$)'].hist(bins=100)"
      ]
    },
    {
      "cell_type": "markdown",
      "metadata": {
        "id": "f2D8MlDlHvL4"
      },
      "source": [
        "### Задание 3\n",
        "\n",
        "Разделите данные на обучающую и тестовую выборки в пропорции 80:20. Здесь и далее используйте random_state = 1."
      ]
    },
    {
      "cell_type": "code",
      "execution_count": 56,
      "metadata": {
        "id": "7YwL8vOzICNY"
      },
      "outputs": [],
      "source": [
        "from sklearn.model_selection import train_test_split\n",
        "\n",
        "Xtrain, Xtest = train_test_split(df, test_size=0.2, random_state=1)"
      ]
    },
    {
      "cell_type": "markdown",
      "metadata": {
        "id": "pmzNU3XqICuX"
      },
      "source": [
        "### Задание 4\n",
        "\n",
        "Заполните пропуски в признаках в обучающей выборке с использованием инструментов sklearn. Для каждого признака выберите и аргументируйте стратегию заполнения пропусков."
      ]
    },
    {
      "cell_type": "code",
      "execution_count": 57,
      "metadata": {
        "id": "wM-cN8q8IZVe"
      },
      "outputs": [
        {
          "data": {
            "text/html": [
              "<div>\n",
              "<style scoped>\n",
              "    .dataframe tbody tr th:only-of-type {\n",
              "        vertical-align: middle;\n",
              "    }\n",
              "\n",
              "    .dataframe tbody tr th {\n",
              "        vertical-align: top;\n",
              "    }\n",
              "\n",
              "    .dataframe thead th {\n",
              "        text-align: right;\n",
              "    }\n",
              "</style>\n",
              "<table border=\"1\" class=\"dataframe\">\n",
              "  <thead>\n",
              "    <tr style=\"text-align: right;\">\n",
              "      <th></th>\n",
              "      <th>CustomerID</th>\n",
              "      <th>Genre</th>\n",
              "      <th>Age</th>\n",
              "      <th>Annual Income (k$)</th>\n",
              "      <th>Spending Score (1-100)</th>\n",
              "    </tr>\n",
              "  </thead>\n",
              "  <tbody>\n",
              "    <tr>\n",
              "      <th>53</th>\n",
              "      <td>54</td>\n",
              "      <td>Male</td>\n",
              "      <td>59.0</td>\n",
              "      <td>43.0</td>\n",
              "      <td>60</td>\n",
              "    </tr>\n",
              "    <tr>\n",
              "      <th>125</th>\n",
              "      <td>126</td>\n",
              "      <td>Female</td>\n",
              "      <td>31.0</td>\n",
              "      <td>70.0</td>\n",
              "      <td>77</td>\n",
              "    </tr>\n",
              "    <tr>\n",
              "      <th>16</th>\n",
              "      <td>17</td>\n",
              "      <td>Female</td>\n",
              "      <td>35.0</td>\n",
              "      <td>21.0</td>\n",
              "      <td>35</td>\n",
              "    </tr>\n",
              "    <tr>\n",
              "      <th>60</th>\n",
              "      <td>61</td>\n",
              "      <td>Male</td>\n",
              "      <td>70.0</td>\n",
              "      <td>46.0</td>\n",
              "      <td>56</td>\n",
              "    </tr>\n",
              "    <tr>\n",
              "      <th>21</th>\n",
              "      <td>22</td>\n",
              "      <td>Male</td>\n",
              "      <td>25.0</td>\n",
              "      <td>24.0</td>\n",
              "      <td>73</td>\n",
              "    </tr>\n",
              "  </tbody>\n",
              "</table>\n",
              "</div>"
            ],
            "text/plain": [
              "     CustomerID   Genre   Age  Annual Income (k$)  Spending Score (1-100)\n",
              "53           54    Male  59.0                43.0                      60\n",
              "125         126  Female  31.0                70.0                      77\n",
              "16           17  Female  35.0                21.0                      35\n",
              "60           61    Male  70.0                46.0                      56\n",
              "21           22    Male  25.0                24.0                      73"
            ]
          },
          "execution_count": 57,
          "metadata": {},
          "output_type": "execute_result"
        }
      ],
      "source": [
        "# Учитывая что распределение в числовых признаках отличается от нормального, решил заполнить их медианой\n",
        "from sklearn.impute import SimpleImputer\n",
        "\n",
        "imp_median = SimpleImputer(strategy='median')\n",
        "\n",
        "num_cols = ['Annual Income (k$)', 'Age']\n",
        "\n",
        "Xtrain[num_cols] = imp_median.fit_transform(Xtrain[num_cols])\n",
        "Xtrain.head()"
      ]
    },
    {
      "cell_type": "code",
      "execution_count": 60,
      "metadata": {},
      "outputs": [
        {
          "data": {
            "text/html": [
              "<div>\n",
              "<style scoped>\n",
              "    .dataframe tbody tr th:only-of-type {\n",
              "        vertical-align: middle;\n",
              "    }\n",
              "\n",
              "    .dataframe tbody tr th {\n",
              "        vertical-align: top;\n",
              "    }\n",
              "\n",
              "    .dataframe thead th {\n",
              "        text-align: right;\n",
              "    }\n",
              "</style>\n",
              "<table border=\"1\" class=\"dataframe\">\n",
              "  <thead>\n",
              "    <tr style=\"text-align: right;\">\n",
              "      <th></th>\n",
              "      <th>CustomerID</th>\n",
              "      <th>Genre</th>\n",
              "      <th>Age</th>\n",
              "      <th>Annual Income (k$)</th>\n",
              "      <th>Spending Score (1-100)</th>\n",
              "    </tr>\n",
              "  </thead>\n",
              "  <tbody>\n",
              "    <tr>\n",
              "      <th>53</th>\n",
              "      <td>54</td>\n",
              "      <td>Male</td>\n",
              "      <td>59.0</td>\n",
              "      <td>43.0</td>\n",
              "      <td>60</td>\n",
              "    </tr>\n",
              "    <tr>\n",
              "      <th>125</th>\n",
              "      <td>126</td>\n",
              "      <td>Female</td>\n",
              "      <td>31.0</td>\n",
              "      <td>70.0</td>\n",
              "      <td>77</td>\n",
              "    </tr>\n",
              "    <tr>\n",
              "      <th>16</th>\n",
              "      <td>17</td>\n",
              "      <td>Female</td>\n",
              "      <td>35.0</td>\n",
              "      <td>21.0</td>\n",
              "      <td>35</td>\n",
              "    </tr>\n",
              "    <tr>\n",
              "      <th>60</th>\n",
              "      <td>61</td>\n",
              "      <td>Male</td>\n",
              "      <td>70.0</td>\n",
              "      <td>46.0</td>\n",
              "      <td>56</td>\n",
              "    </tr>\n",
              "    <tr>\n",
              "      <th>21</th>\n",
              "      <td>22</td>\n",
              "      <td>Male</td>\n",
              "      <td>25.0</td>\n",
              "      <td>24.0</td>\n",
              "      <td>73</td>\n",
              "    </tr>\n",
              "  </tbody>\n",
              "</table>\n",
              "</div>"
            ],
            "text/plain": [
              "     CustomerID   Genre   Age  Annual Income (k$)  Spending Score (1-100)\n",
              "53           54    Male  59.0                43.0                      60\n",
              "125         126  Female  31.0                70.0                      77\n",
              "16           17  Female  35.0                21.0                      35\n",
              "60           61    Male  70.0                46.0                      56\n",
              "21           22    Male  25.0                24.0                      73"
            ]
          },
          "execution_count": 60,
          "metadata": {},
          "output_type": "execute_result"
        }
      ],
      "source": [
        "# Для заполнения категориальных признаков использовал самое частое значение\n",
        "\n",
        "imp_mode = SimpleImputer(strategy='most_frequent')\n",
        "\n",
        "cat_cols = ['Genre']\n",
        "\n",
        "Xtrain[cat_cols] = imp_mode.fit_transform(Xtrain[cat_cols])\n",
        "Xtrain.head()"
      ]
    },
    {
      "cell_type": "code",
      "execution_count": 65,
      "metadata": {},
      "outputs": [
        {
          "data": {
            "text/plain": [
              "Genre\n",
              "Female    98\n",
              "Male      59\n",
              "Name: count, dtype: int64"
            ]
          },
          "execution_count": 65,
          "metadata": {},
          "output_type": "execute_result"
        }
      ],
      "source": [
        "Xtrain['Genre'].value_counts(dropna=False)"
      ]
    },
    {
      "cell_type": "code",
      "execution_count": 66,
      "metadata": {},
      "outputs": [],
      "source": [
        "# Тут я просто изменил ошибочное значение\n",
        "\n",
        "Xtrain.loc[Xtrain['Genre'] == 'Feemale', 'Genre'] = 'Female'"
      ]
    },
    {
      "cell_type": "code",
      "execution_count": 58,
      "metadata": {},
      "outputs": [
        {
          "data": {
            "text/plain": [
              "Annual Income (k$)    0\n",
              "Age                   0\n",
              "dtype: int64"
            ]
          },
          "execution_count": 58,
          "metadata": {},
          "output_type": "execute_result"
        }
      ],
      "source": [
        "Xtrain[num_cols].isna().sum()"
      ]
    },
    {
      "cell_type": "markdown",
      "metadata": {
        "id": "dG06N3kJIZ9A"
      },
      "source": [
        "### Задание 5\n",
        "\n",
        "Найдите выбросы в признаках обучающей выборки. Замените выбросы, если таковые имеются, и аргументируйте выбор метода поиска выбросов.\n"
      ]
    },
    {
      "cell_type": "code",
      "execution_count": 69,
      "metadata": {
        "id": "TTcePy4bI1ab"
      },
      "outputs": [],
      "source": [
        "def calculate_iqr_boundaries(series):\n",
        "  q25 = series.quantile(0.25)\n",
        "  q75 = series.quantile(0.75)\n",
        "  iqr = q75 - q25\n",
        "\n",
        "  return (q25 - 1.5 * iqr, q75 + 1.5 * iqr)"
      ]
    },
    {
      "cell_type": "code",
      "execution_count": 76,
      "metadata": {},
      "outputs": [
        {
          "data": {
            "text/plain": [
              "count    177.000000\n",
              "mean      38.836158\n",
              "std       13.585221\n",
              "min       18.000000\n",
              "25%       29.000000\n",
              "50%       36.000000\n",
              "75%       49.000000\n",
              "max       70.000000\n",
              "Name: Age, dtype: float64"
            ]
          },
          "execution_count": 76,
          "metadata": {},
          "output_type": "execute_result"
        }
      ],
      "source": [
        "df['Age'].describe()"
      ]
    },
    {
      "cell_type": "code",
      "execution_count": 77,
      "metadata": {},
      "outputs": [
        {
          "data": {
            "text/plain": [
              "(4.5, 72.5)"
            ]
          },
          "execution_count": 77,
          "metadata": {},
          "output_type": "execute_result"
        }
      ],
      "source": [
        "age_bounds = calculate_iqr_boundaries(Xtrain['Age'])\n",
        "age_bounds"
      ]
    },
    {
      "cell_type": "code",
      "execution_count": 78,
      "metadata": {},
      "outputs": [
        {
          "data": {
            "text/plain": [
              "(1.0, 121.0)"
            ]
          },
          "execution_count": 78,
          "metadata": {},
          "output_type": "execute_result"
        }
      ],
      "source": [
        "income_bounds = calculate_iqr_boundaries(Xtrain['Annual Income (k$)'])\n",
        "income_bounds"
      ]
    },
    {
      "cell_type": "markdown",
      "metadata": {
        "id": "4iZFKDQ7I2LZ"
      },
      "source": [
        "### Задание 6\n",
        "\n",
        "Нормализуйте численные признаки. Аргументируйте выбор стратегии нормализации для каждого признака.\n"
      ]
    },
    {
      "cell_type": "code",
      "execution_count": null,
      "metadata": {
        "id": "gSLKHnlYI-bf"
      },
      "outputs": [],
      "source": [
        "### YOUR CODE HERE ###\n"
      ]
    },
    {
      "cell_type": "markdown",
      "metadata": {
        "id": "MwEFsRNnI_Ar"
      },
      "source": [
        "### Задание 7\n",
        "\n",
        "Закодируйте категориальные признаки в обучающей выборке. Аргументируйте выбор способа кодирования."
      ]
    },
    {
      "cell_type": "code",
      "execution_count": null,
      "metadata": {
        "id": "Ypo6y1iMJHeL"
      },
      "outputs": [],
      "source": [
        "### YOUR CODE HERE ###\n"
      ]
    },
    {
      "cell_type": "markdown",
      "metadata": {
        "id": "mT9hsPltJJ2z"
      },
      "source": [
        "### Задание 8\n",
        "Проведите очистку и подготовку тестовых данных. Используйте препроцессоры и другие инструменты, которые вы уже использовали при подготовке обучающей выборки, без их дополнительной настройки."
      ]
    },
    {
      "cell_type": "code",
      "execution_count": null,
      "metadata": {
        "id": "swiT9IQlziSs"
      },
      "outputs": [],
      "source": [
        "### YOUR CODE HERE ###\n"
      ]
    }
  ],
  "metadata": {
    "colab": {
      "provenance": []
    },
    "gpuClass": "standard",
    "kernelspec": {
      "display_name": "Python 3",
      "name": "python3"
    },
    "language_info": {
      "codemirror_mode": {
        "name": "ipython",
        "version": 3
      },
      "file_extension": ".py",
      "mimetype": "text/x-python",
      "name": "python",
      "nbconvert_exporter": "python",
      "pygments_lexer": "ipython3",
      "version": "3.9.6"
    }
  },
  "nbformat": 4,
  "nbformat_minor": 0
}
