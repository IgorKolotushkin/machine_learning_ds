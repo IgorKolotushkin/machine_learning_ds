{
 "cells": [
  {
   "cell_type": "markdown",
   "metadata": {
    "id": "L1fRxjzMn2mu"
   },
   "source": [
    "## Цели практической работы\n",
    "\n",
    "* Изучить и предобработать данные в задаче оттока.\n",
    "\n",
    "* Научиться применять для решения задачи решающие деревья и оценивать результаты модели."
   ]
  },
  {
   "cell_type": "markdown",
   "metadata": {
    "id": "_JPkpafooKR-"
   },
   "source": [
    "## Что входит в практическую работу\n",
    "\n",
    "*  Загрузка и предобработка данных.\n",
    "*  Применение и настройка линейных моделей.\n",
    "*  Применение и настройка решающего дерева.\n",
    "*  Сравнение моделей.\n",
    "*  Оценка важности признаков."
   ]
  },
  {
   "cell_type": "markdown",
   "metadata": {
    "id": "-MxI_5C0Hu7G"
   },
   "source": [
    "## Что оценивается\n",
    "\n",
    "Выполнены все задания ноутбука (заполнены пустые ячейки, даны ответы на вопросы)."
   ]
  },
  {
   "cell_type": "markdown",
   "metadata": {
    "id": "0-tRk6fdxmB-"
   },
   "source": [
    "## Что нужно сделать\n",
    "Решите задачу классификации оттоковых клиентов телекома: для каждого клиента необходимо определить, перестанет он пользоваться услугами оператора в ближайшее время или нет."
   ]
  },
  {
   "cell_type": "code",
   "execution_count": 1,
   "metadata": {
    "colab": {
     "base_uri": "https://localhost:8080/",
     "height": 305
    },
    "id": "DIjF1xlpwOMd",
    "outputId": "98c7d62d-0849-4702-8d98-1406e20f59b7"
   },
   "outputs": [
    {
     "data": {
      "text/html": [
       "<div>\n",
       "<style scoped>\n",
       "    .dataframe tbody tr th:only-of-type {\n",
       "        vertical-align: middle;\n",
       "    }\n",
       "\n",
       "    .dataframe tbody tr th {\n",
       "        vertical-align: top;\n",
       "    }\n",
       "\n",
       "    .dataframe thead th {\n",
       "        text-align: right;\n",
       "    }\n",
       "</style>\n",
       "<table border=\"1\" class=\"dataframe\">\n",
       "  <thead>\n",
       "    <tr style=\"text-align: right;\">\n",
       "      <th></th>\n",
       "      <th>State</th>\n",
       "      <th>Account length</th>\n",
       "      <th>Area code</th>\n",
       "      <th>International plan</th>\n",
       "      <th>Voice mail plan</th>\n",
       "      <th>Number vmail messages</th>\n",
       "      <th>Total day minutes</th>\n",
       "      <th>Total day calls</th>\n",
       "      <th>Total day charge</th>\n",
       "      <th>Total eve minutes</th>\n",
       "      <th>Total eve calls</th>\n",
       "      <th>Total eve charge</th>\n",
       "      <th>Total night minutes</th>\n",
       "      <th>Total night calls</th>\n",
       "      <th>Total night charge</th>\n",
       "      <th>Total intl minutes</th>\n",
       "      <th>Total intl calls</th>\n",
       "      <th>Total intl charge</th>\n",
       "      <th>Customer service calls</th>\n",
       "      <th>Churn</th>\n",
       "    </tr>\n",
       "  </thead>\n",
       "  <tbody>\n",
       "    <tr>\n",
       "      <th>0</th>\n",
       "      <td>KS</td>\n",
       "      <td>128</td>\n",
       "      <td>415</td>\n",
       "      <td>No</td>\n",
       "      <td>Yes</td>\n",
       "      <td>25</td>\n",
       "      <td>265.1</td>\n",
       "      <td>110</td>\n",
       "      <td>45.07</td>\n",
       "      <td>197.4</td>\n",
       "      <td>99</td>\n",
       "      <td>16.78</td>\n",
       "      <td>244.7</td>\n",
       "      <td>91</td>\n",
       "      <td>11.01</td>\n",
       "      <td>10.0</td>\n",
       "      <td>3</td>\n",
       "      <td>2.70</td>\n",
       "      <td>1</td>\n",
       "      <td>False</td>\n",
       "    </tr>\n",
       "    <tr>\n",
       "      <th>1</th>\n",
       "      <td>OH</td>\n",
       "      <td>107</td>\n",
       "      <td>415</td>\n",
       "      <td>No</td>\n",
       "      <td>Yes</td>\n",
       "      <td>26</td>\n",
       "      <td>161.6</td>\n",
       "      <td>123</td>\n",
       "      <td>27.47</td>\n",
       "      <td>195.5</td>\n",
       "      <td>103</td>\n",
       "      <td>16.62</td>\n",
       "      <td>254.4</td>\n",
       "      <td>103</td>\n",
       "      <td>11.45</td>\n",
       "      <td>13.7</td>\n",
       "      <td>3</td>\n",
       "      <td>3.70</td>\n",
       "      <td>1</td>\n",
       "      <td>False</td>\n",
       "    </tr>\n",
       "    <tr>\n",
       "      <th>2</th>\n",
       "      <td>NJ</td>\n",
       "      <td>137</td>\n",
       "      <td>415</td>\n",
       "      <td>No</td>\n",
       "      <td>No</td>\n",
       "      <td>0</td>\n",
       "      <td>243.4</td>\n",
       "      <td>114</td>\n",
       "      <td>41.38</td>\n",
       "      <td>121.2</td>\n",
       "      <td>110</td>\n",
       "      <td>10.30</td>\n",
       "      <td>162.6</td>\n",
       "      <td>104</td>\n",
       "      <td>7.32</td>\n",
       "      <td>12.2</td>\n",
       "      <td>5</td>\n",
       "      <td>3.29</td>\n",
       "      <td>0</td>\n",
       "      <td>False</td>\n",
       "    </tr>\n",
       "    <tr>\n",
       "      <th>3</th>\n",
       "      <td>OH</td>\n",
       "      <td>84</td>\n",
       "      <td>408</td>\n",
       "      <td>Yes</td>\n",
       "      <td>No</td>\n",
       "      <td>0</td>\n",
       "      <td>299.4</td>\n",
       "      <td>71</td>\n",
       "      <td>50.90</td>\n",
       "      <td>61.9</td>\n",
       "      <td>88</td>\n",
       "      <td>5.26</td>\n",
       "      <td>196.9</td>\n",
       "      <td>89</td>\n",
       "      <td>8.86</td>\n",
       "      <td>6.6</td>\n",
       "      <td>7</td>\n",
       "      <td>1.78</td>\n",
       "      <td>2</td>\n",
       "      <td>False</td>\n",
       "    </tr>\n",
       "    <tr>\n",
       "      <th>4</th>\n",
       "      <td>OK</td>\n",
       "      <td>75</td>\n",
       "      <td>415</td>\n",
       "      <td>Yes</td>\n",
       "      <td>No</td>\n",
       "      <td>0</td>\n",
       "      <td>166.7</td>\n",
       "      <td>113</td>\n",
       "      <td>28.34</td>\n",
       "      <td>148.3</td>\n",
       "      <td>122</td>\n",
       "      <td>12.61</td>\n",
       "      <td>186.9</td>\n",
       "      <td>121</td>\n",
       "      <td>8.41</td>\n",
       "      <td>10.1</td>\n",
       "      <td>3</td>\n",
       "      <td>2.73</td>\n",
       "      <td>3</td>\n",
       "      <td>False</td>\n",
       "    </tr>\n",
       "  </tbody>\n",
       "</table>\n",
       "</div>"
      ],
      "text/plain": [
       "  State  Account length  Area code International plan Voice mail plan  \\\n",
       "0    KS             128        415                 No             Yes   \n",
       "1    OH             107        415                 No             Yes   \n",
       "2    NJ             137        415                 No              No   \n",
       "3    OH              84        408                Yes              No   \n",
       "4    OK              75        415                Yes              No   \n",
       "\n",
       "   Number vmail messages  Total day minutes  Total day calls  \\\n",
       "0                     25              265.1              110   \n",
       "1                     26              161.6              123   \n",
       "2                      0              243.4              114   \n",
       "3                      0              299.4               71   \n",
       "4                      0              166.7              113   \n",
       "\n",
       "   Total day charge  Total eve minutes  Total eve calls  Total eve charge  \\\n",
       "0             45.07              197.4               99             16.78   \n",
       "1             27.47              195.5              103             16.62   \n",
       "2             41.38              121.2              110             10.30   \n",
       "3             50.90               61.9               88              5.26   \n",
       "4             28.34              148.3              122             12.61   \n",
       "\n",
       "   Total night minutes  Total night calls  Total night charge  \\\n",
       "0                244.7                 91               11.01   \n",
       "1                254.4                103               11.45   \n",
       "2                162.6                104                7.32   \n",
       "3                196.9                 89                8.86   \n",
       "4                186.9                121                8.41   \n",
       "\n",
       "   Total intl minutes  Total intl calls  Total intl charge  \\\n",
       "0                10.0                 3               2.70   \n",
       "1                13.7                 3               3.70   \n",
       "2                12.2                 5               3.29   \n",
       "3                 6.6                 7               1.78   \n",
       "4                10.1                 3               2.73   \n",
       "\n",
       "   Customer service calls  Churn  \n",
       "0                       1  False  \n",
       "1                       1  False  \n",
       "2                       0  False  \n",
       "3                       2  False  \n",
       "4                       3  False  "
      ]
     },
     "execution_count": 1,
     "metadata": {},
     "output_type": "execute_result"
    }
   ],
   "source": [
    "import pandas as pd\n",
    "import numpy as np\n",
    "\n",
    "df = pd.read_csv(\"telecom_churn.csv\")\n",
    "df.head()"
   ]
  },
  {
   "cell_type": "markdown",
   "metadata": {
    "id": "MT5L6lWZyDkE"
   },
   "source": [
    "Сделайте первичную обработку данных:\n",
    "\n",
    "1. Выбросите колонку State.\n",
    "\n",
    "2. Колонки International plan и Voice mail plan закодируйте следующим образом: Yes замените на 1, а No на 0.\n",
    "\n",
    "3. Переведите целевую переменную (Churn) в числа: True в 1, а False в 0."
   ]
  },
  {
   "cell_type": "code",
   "execution_count": 2,
   "metadata": {
    "id": "7U6J16EVx0iy"
   },
   "outputs": [],
   "source": [
    "df = df.drop(columns=['State'])\n",
    "df['International plan'] = df['International plan'].apply(lambda x: 1 if x == 'Yes' else 0)\n",
    "df['Voice mail plan'] = df['Voice mail plan'].apply(lambda x: 1 if x == 'Yes' else 0)\n",
    "df['Churn'] = df['Churn'].apply(lambda x: int(x))"
   ]
  },
  {
   "cell_type": "markdown",
   "metadata": {
    "id": "N2hAu7tmy0Ps"
   },
   "source": [
    "Выведите на экран первые строки изменённой таблицы, чтобы проверить, что все преобразования сработали."
   ]
  },
  {
   "cell_type": "code",
   "execution_count": 3,
   "metadata": {
    "id": "lG9oOv0uydW8"
   },
   "outputs": [
    {
     "data": {
      "text/html": [
       "<div>\n",
       "<style scoped>\n",
       "    .dataframe tbody tr th:only-of-type {\n",
       "        vertical-align: middle;\n",
       "    }\n",
       "\n",
       "    .dataframe tbody tr th {\n",
       "        vertical-align: top;\n",
       "    }\n",
       "\n",
       "    .dataframe thead th {\n",
       "        text-align: right;\n",
       "    }\n",
       "</style>\n",
       "<table border=\"1\" class=\"dataframe\">\n",
       "  <thead>\n",
       "    <tr style=\"text-align: right;\">\n",
       "      <th></th>\n",
       "      <th>Account length</th>\n",
       "      <th>Area code</th>\n",
       "      <th>International plan</th>\n",
       "      <th>Voice mail plan</th>\n",
       "      <th>Number vmail messages</th>\n",
       "      <th>Total day minutes</th>\n",
       "      <th>Total day calls</th>\n",
       "      <th>Total day charge</th>\n",
       "      <th>Total eve minutes</th>\n",
       "      <th>Total eve calls</th>\n",
       "      <th>Total eve charge</th>\n",
       "      <th>Total night minutes</th>\n",
       "      <th>Total night calls</th>\n",
       "      <th>Total night charge</th>\n",
       "      <th>Total intl minutes</th>\n",
       "      <th>Total intl calls</th>\n",
       "      <th>Total intl charge</th>\n",
       "      <th>Customer service calls</th>\n",
       "      <th>Churn</th>\n",
       "    </tr>\n",
       "  </thead>\n",
       "  <tbody>\n",
       "    <tr>\n",
       "      <th>0</th>\n",
       "      <td>128</td>\n",
       "      <td>415</td>\n",
       "      <td>0</td>\n",
       "      <td>1</td>\n",
       "      <td>25</td>\n",
       "      <td>265.1</td>\n",
       "      <td>110</td>\n",
       "      <td>45.07</td>\n",
       "      <td>197.4</td>\n",
       "      <td>99</td>\n",
       "      <td>16.78</td>\n",
       "      <td>244.7</td>\n",
       "      <td>91</td>\n",
       "      <td>11.01</td>\n",
       "      <td>10.0</td>\n",
       "      <td>3</td>\n",
       "      <td>2.70</td>\n",
       "      <td>1</td>\n",
       "      <td>0</td>\n",
       "    </tr>\n",
       "    <tr>\n",
       "      <th>1</th>\n",
       "      <td>107</td>\n",
       "      <td>415</td>\n",
       "      <td>0</td>\n",
       "      <td>1</td>\n",
       "      <td>26</td>\n",
       "      <td>161.6</td>\n",
       "      <td>123</td>\n",
       "      <td>27.47</td>\n",
       "      <td>195.5</td>\n",
       "      <td>103</td>\n",
       "      <td>16.62</td>\n",
       "      <td>254.4</td>\n",
       "      <td>103</td>\n",
       "      <td>11.45</td>\n",
       "      <td>13.7</td>\n",
       "      <td>3</td>\n",
       "      <td>3.70</td>\n",
       "      <td>1</td>\n",
       "      <td>0</td>\n",
       "    </tr>\n",
       "    <tr>\n",
       "      <th>2</th>\n",
       "      <td>137</td>\n",
       "      <td>415</td>\n",
       "      <td>0</td>\n",
       "      <td>0</td>\n",
       "      <td>0</td>\n",
       "      <td>243.4</td>\n",
       "      <td>114</td>\n",
       "      <td>41.38</td>\n",
       "      <td>121.2</td>\n",
       "      <td>110</td>\n",
       "      <td>10.30</td>\n",
       "      <td>162.6</td>\n",
       "      <td>104</td>\n",
       "      <td>7.32</td>\n",
       "      <td>12.2</td>\n",
       "      <td>5</td>\n",
       "      <td>3.29</td>\n",
       "      <td>0</td>\n",
       "      <td>0</td>\n",
       "    </tr>\n",
       "    <tr>\n",
       "      <th>3</th>\n",
       "      <td>84</td>\n",
       "      <td>408</td>\n",
       "      <td>1</td>\n",
       "      <td>0</td>\n",
       "      <td>0</td>\n",
       "      <td>299.4</td>\n",
       "      <td>71</td>\n",
       "      <td>50.90</td>\n",
       "      <td>61.9</td>\n",
       "      <td>88</td>\n",
       "      <td>5.26</td>\n",
       "      <td>196.9</td>\n",
       "      <td>89</td>\n",
       "      <td>8.86</td>\n",
       "      <td>6.6</td>\n",
       "      <td>7</td>\n",
       "      <td>1.78</td>\n",
       "      <td>2</td>\n",
       "      <td>0</td>\n",
       "    </tr>\n",
       "    <tr>\n",
       "      <th>4</th>\n",
       "      <td>75</td>\n",
       "      <td>415</td>\n",
       "      <td>1</td>\n",
       "      <td>0</td>\n",
       "      <td>0</td>\n",
       "      <td>166.7</td>\n",
       "      <td>113</td>\n",
       "      <td>28.34</td>\n",
       "      <td>148.3</td>\n",
       "      <td>122</td>\n",
       "      <td>12.61</td>\n",
       "      <td>186.9</td>\n",
       "      <td>121</td>\n",
       "      <td>8.41</td>\n",
       "      <td>10.1</td>\n",
       "      <td>3</td>\n",
       "      <td>2.73</td>\n",
       "      <td>3</td>\n",
       "      <td>0</td>\n",
       "    </tr>\n",
       "  </tbody>\n",
       "</table>\n",
       "</div>"
      ],
      "text/plain": [
       "   Account length  Area code  International plan  Voice mail plan  \\\n",
       "0             128        415                   0                1   \n",
       "1             107        415                   0                1   \n",
       "2             137        415                   0                0   \n",
       "3              84        408                   1                0   \n",
       "4              75        415                   1                0   \n",
       "\n",
       "   Number vmail messages  Total day minutes  Total day calls  \\\n",
       "0                     25              265.1              110   \n",
       "1                     26              161.6              123   \n",
       "2                      0              243.4              114   \n",
       "3                      0              299.4               71   \n",
       "4                      0              166.7              113   \n",
       "\n",
       "   Total day charge  Total eve minutes  Total eve calls  Total eve charge  \\\n",
       "0             45.07              197.4               99             16.78   \n",
       "1             27.47              195.5              103             16.62   \n",
       "2             41.38              121.2              110             10.30   \n",
       "3             50.90               61.9               88              5.26   \n",
       "4             28.34              148.3              122             12.61   \n",
       "\n",
       "   Total night minutes  Total night calls  Total night charge  \\\n",
       "0                244.7                 91               11.01   \n",
       "1                254.4                103               11.45   \n",
       "2                162.6                104                7.32   \n",
       "3                196.9                 89                8.86   \n",
       "4                186.9                121                8.41   \n",
       "\n",
       "   Total intl minutes  Total intl calls  Total intl charge  \\\n",
       "0                10.0                 3               2.70   \n",
       "1                13.7                 3               3.70   \n",
       "2                12.2                 5               3.29   \n",
       "3                 6.6                 7               1.78   \n",
       "4                10.1                 3               2.73   \n",
       "\n",
       "   Customer service calls  Churn  \n",
       "0                       1      0  \n",
       "1                       1      0  \n",
       "2                       0      0  \n",
       "3                       2      0  \n",
       "4                       3      0  "
      ]
     },
     "execution_count": 3,
     "metadata": {},
     "output_type": "execute_result"
    }
   ],
   "source": [
    "df.head(5)"
   ]
  },
  {
   "cell_type": "markdown",
   "metadata": {
    "id": "6_y9azfEzBYd"
   },
   "source": [
    "Создайте матрицу объект-признак X и вектор с целевой переменной (Churn) y."
   ]
  },
  {
   "cell_type": "code",
   "execution_count": 3,
   "metadata": {
    "id": "Nd0nCW4eypLE"
   },
   "outputs": [],
   "source": [
    "X = df.drop('Churn', axis=1)\n",
    "y = df['Churn']"
   ]
  },
  {
   "cell_type": "markdown",
   "metadata": {
    "id": "NEvkoGWw1hFL"
   },
   "source": [
    "Проверьте баланс классов. Является ли выборка сбалансированной?"
   ]
  },
  {
   "cell_type": "code",
   "execution_count": 4,
   "metadata": {
    "id": "RpPcEOAm1keZ"
   },
   "outputs": [
    {
     "data": {
      "text/plain": [
       "Churn\n",
       "0    2850\n",
       "1     483\n",
       "Name: count, dtype: int64"
      ]
     },
     "execution_count": 4,
     "metadata": {},
     "output_type": "execute_result"
    }
   ],
   "source": [
    "y.value_counts()"
   ]
  },
  {
   "cell_type": "markdown",
   "metadata": {
    "id": "AYFme2HyzQxL"
   },
   "source": [
    "Разбейте данные на тренировочную и тестовую части, размер тестовой части — 30%."
   ]
  },
  {
   "cell_type": "code",
   "execution_count": 5,
   "metadata": {
    "id": "Cj13GmJlzQDS"
   },
   "outputs": [],
   "source": [
    "from sklearn.model_selection import train_test_split\n",
    "\n",
    "x_train, x_test, y_train, y_test = train_test_split(X, y, test_size=0.3, random_state=42)"
   ]
  },
  {
   "cell_type": "markdown",
   "metadata": {
    "id": "GbuDWle1z2Uh"
   },
   "source": [
    "Для линейных моделей очень важно масштабирование признаков. Поэтому отмасштабируйте признаки при помощи [StandardScaler](https://scikit-learn.org/stable/modules/generated/sklearn.preprocessing.StandardScaler.html), обучив метод на тренировочных данных и применив его и к трейну, и к тесту."
   ]
  },
  {
   "cell_type": "code",
   "execution_count": 6,
   "metadata": {
    "id": "69H1fh7VzaZf"
   },
   "outputs": [
    {
     "data": {
      "text/html": [
       "<div>\n",
       "<style scoped>\n",
       "    .dataframe tbody tr th:only-of-type {\n",
       "        vertical-align: middle;\n",
       "    }\n",
       "\n",
       "    .dataframe tbody tr th {\n",
       "        vertical-align: top;\n",
       "    }\n",
       "\n",
       "    .dataframe thead th {\n",
       "        text-align: right;\n",
       "    }\n",
       "</style>\n",
       "<table border=\"1\" class=\"dataframe\">\n",
       "  <thead>\n",
       "    <tr style=\"text-align: right;\">\n",
       "      <th></th>\n",
       "      <th>International plan</th>\n",
       "      <th>Voice mail plan</th>\n",
       "      <th>Account length_std</th>\n",
       "      <th>Area code_std</th>\n",
       "      <th>Number vmail messages_std</th>\n",
       "      <th>Total day minutes_std</th>\n",
       "      <th>Total day calls_std</th>\n",
       "      <th>Total day charge_std</th>\n",
       "      <th>Total eve minutes_std</th>\n",
       "      <th>Total eve calls_std</th>\n",
       "      <th>Total eve charge_std</th>\n",
       "      <th>Total night minutes_std</th>\n",
       "      <th>Total night calls_std</th>\n",
       "      <th>Total night charge_std</th>\n",
       "      <th>Total intl minutes_std</th>\n",
       "      <th>Total intl calls_std</th>\n",
       "      <th>Total intl charge_std</th>\n",
       "      <th>Customer service calls_std</th>\n",
       "    </tr>\n",
       "  </thead>\n",
       "  <tbody>\n",
       "    <tr>\n",
       "      <th>438</th>\n",
       "      <td>0</td>\n",
       "      <td>0</td>\n",
       "      <td>0.317071</td>\n",
       "      <td>1.740454</td>\n",
       "      <td>-0.585483</td>\n",
       "      <td>-0.459145</td>\n",
       "      <td>-0.383285</td>\n",
       "      <td>-0.459202</td>\n",
       "      <td>2.554012</td>\n",
       "      <td>0.296151</td>\n",
       "      <td>2.553707</td>\n",
       "      <td>-0.221317</td>\n",
       "      <td>1.177171</td>\n",
       "      <td>-0.222641</td>\n",
       "      <td>1.167234</td>\n",
       "      <td>-0.589331</td>\n",
       "      <td>1.173159</td>\n",
       "      <td>-0.426563</td>\n",
       "    </tr>\n",
       "    <tr>\n",
       "      <th>2674</th>\n",
       "      <td>0</td>\n",
       "      <td>0</td>\n",
       "      <td>-0.838516</td>\n",
       "      <td>-0.515843</td>\n",
       "      <td>-0.585483</td>\n",
       "      <td>-1.301479</td>\n",
       "      <td>0.823467</td>\n",
       "      <td>-1.301214</td>\n",
       "      <td>0.323924</td>\n",
       "      <td>1.192675</td>\n",
       "      <td>0.324097</td>\n",
       "      <td>-0.240954</td>\n",
       "      <td>2.096363</td>\n",
       "      <td>-0.240096</td>\n",
       "      <td>0.916387</td>\n",
       "      <td>0.634624</td>\n",
       "      <td>0.920994</td>\n",
       "      <td>-1.176504</td>\n",
       "    </tr>\n",
       "    <tr>\n",
       "      <th>1345</th>\n",
       "      <td>0</td>\n",
       "      <td>0</td>\n",
       "      <td>-0.059751</td>\n",
       "      <td>-0.515843</td>\n",
       "      <td>-0.585483</td>\n",
       "      <td>-3.303627</td>\n",
       "      <td>-5.059450</td>\n",
       "      <td>-3.303691</td>\n",
       "      <td>-0.814761</td>\n",
       "      <td>1.491516</td>\n",
       "      <td>-0.813885</td>\n",
       "      <td>-0.659222</td>\n",
       "      <td>-0.610146</td>\n",
       "      <td>-0.659013</td>\n",
       "      <td>-1.233728</td>\n",
       "      <td>-1.405302</td>\n",
       "      <td>-1.229039</td>\n",
       "      <td>1.823260</td>\n",
       "    </tr>\n",
       "    <tr>\n",
       "      <th>1957</th>\n",
       "      <td>0</td>\n",
       "      <td>0</td>\n",
       "      <td>1.171201</td>\n",
       "      <td>-0.682096</td>\n",
       "      <td>-0.585483</td>\n",
       "      <td>0.601571</td>\n",
       "      <td>-1.087224</td>\n",
       "      <td>0.601949</td>\n",
       "      <td>0.061908</td>\n",
       "      <td>-0.450952</td>\n",
       "      <td>0.062199</td>\n",
       "      <td>-0.873266</td>\n",
       "      <td>0.666509</td>\n",
       "      <td>-0.872836</td>\n",
       "      <td>-0.015329</td>\n",
       "      <td>-0.997316</td>\n",
       "      <td>-0.021304</td>\n",
       "      <td>-0.426563</td>\n",
       "    </tr>\n",
       "    <tr>\n",
       "      <th>2148</th>\n",
       "      <td>0</td>\n",
       "      <td>0</td>\n",
       "      <td>-0.109994</td>\n",
       "      <td>-0.682096</td>\n",
       "      <td>-0.585483</td>\n",
       "      <td>-0.661012</td>\n",
       "      <td>0.069247</td>\n",
       "      <td>-0.661069</td>\n",
       "      <td>0.467737</td>\n",
       "      <td>-1.347475</td>\n",
       "      <td>0.467793</td>\n",
       "      <td>0.530781</td>\n",
       "      <td>-0.456947</td>\n",
       "      <td>0.532282</td>\n",
       "      <td>-0.087000</td>\n",
       "      <td>1.042609</td>\n",
       "      <td>-0.087663</td>\n",
       "      <td>-0.426563</td>\n",
       "    </tr>\n",
       "    <tr>\n",
       "      <th>...</th>\n",
       "      <td>...</td>\n",
       "      <td>...</td>\n",
       "      <td>...</td>\n",
       "      <td>...</td>\n",
       "      <td>...</td>\n",
       "      <td>...</td>\n",
       "      <td>...</td>\n",
       "      <td>...</td>\n",
       "      <td>...</td>\n",
       "      <td>...</td>\n",
       "      <td>...</td>\n",
       "      <td>...</td>\n",
       "      <td>...</td>\n",
       "      <td>...</td>\n",
       "      <td>...</td>\n",
       "      <td>...</td>\n",
       "      <td>...</td>\n",
       "      <td>...</td>\n",
       "    </tr>\n",
       "    <tr>\n",
       "      <th>3080</th>\n",
       "      <td>0</td>\n",
       "      <td>0</td>\n",
       "      <td>-0.461694</td>\n",
       "      <td>-0.515843</td>\n",
       "      <td>-0.585483</td>\n",
       "      <td>-0.818835</td>\n",
       "      <td>0.069247</td>\n",
       "      <td>-0.818677</td>\n",
       "      <td>0.712022</td>\n",
       "      <td>1.093061</td>\n",
       "      <td>0.711150</td>\n",
       "      <td>-1.617509</td>\n",
       "      <td>-0.456947</td>\n",
       "      <td>-1.619032</td>\n",
       "      <td>2.600645</td>\n",
       "      <td>-0.181346</td>\n",
       "      <td>2.606514</td>\n",
       "      <td>-1.176504</td>\n",
       "    </tr>\n",
       "    <tr>\n",
       "      <th>2548</th>\n",
       "      <td>0</td>\n",
       "      <td>1</td>\n",
       "      <td>0.417557</td>\n",
       "      <td>-0.682096</td>\n",
       "      <td>0.945176</td>\n",
       "      <td>-0.492178</td>\n",
       "      <td>0.572061</td>\n",
       "      <td>-0.492667</td>\n",
       "      <td>1.228174</td>\n",
       "      <td>0.495379</td>\n",
       "      <td>1.227993</td>\n",
       "      <td>-1.289571</td>\n",
       "      <td>-0.763344</td>\n",
       "      <td>-1.287389</td>\n",
       "      <td>0.593870</td>\n",
       "      <td>1.042609</td>\n",
       "      <td>0.589199</td>\n",
       "      <td>-0.426563</td>\n",
       "    </tr>\n",
       "    <tr>\n",
       "      <th>2916</th>\n",
       "      <td>0</td>\n",
       "      <td>0</td>\n",
       "      <td>0.090978</td>\n",
       "      <td>-0.515843</td>\n",
       "      <td>-0.585483</td>\n",
       "      <td>-1.218897</td>\n",
       "      <td>-0.684973</td>\n",
       "      <td>-1.219172</td>\n",
       "      <td>-0.834461</td>\n",
       "      <td>-0.102304</td>\n",
       "      <td>-0.834744</td>\n",
       "      <td>-0.254700</td>\n",
       "      <td>-0.661212</td>\n",
       "      <td>-0.253187</td>\n",
       "      <td>0.092176</td>\n",
       "      <td>0.634624</td>\n",
       "      <td>0.098142</td>\n",
       "      <td>0.323378</td>\n",
       "    </tr>\n",
       "    <tr>\n",
       "      <th>2655</th>\n",
       "      <td>0</td>\n",
       "      <td>0</td>\n",
       "      <td>-0.913881</td>\n",
       "      <td>1.740454</td>\n",
       "      <td>-0.585483</td>\n",
       "      <td>0.719021</td>\n",
       "      <td>-1.388912</td>\n",
       "      <td>0.718535</td>\n",
       "      <td>-0.668978</td>\n",
       "      <td>-1.745930</td>\n",
       "      <td>-0.667871</td>\n",
       "      <td>-0.771153</td>\n",
       "      <td>0.972906</td>\n",
       "      <td>-0.772470</td>\n",
       "      <td>-0.087000</td>\n",
       "      <td>0.226639</td>\n",
       "      <td>-0.087663</td>\n",
       "      <td>-0.426563</td>\n",
       "    </tr>\n",
       "    <tr>\n",
       "      <th>1159</th>\n",
       "      <td>0</td>\n",
       "      <td>0</td>\n",
       "      <td>0.693893</td>\n",
       "      <td>-0.515843</td>\n",
       "      <td>-0.585483</td>\n",
       "      <td>-1.407918</td>\n",
       "      <td>1.074874</td>\n",
       "      <td>-1.408085</td>\n",
       "      <td>0.885386</td>\n",
       "      <td>1.142868</td>\n",
       "      <td>0.884976</td>\n",
       "      <td>-0.777045</td>\n",
       "      <td>-0.252682</td>\n",
       "      <td>-0.776834</td>\n",
       "      <td>-1.377069</td>\n",
       "      <td>1.042609</td>\n",
       "      <td>-1.375029</td>\n",
       "      <td>-1.176504</td>\n",
       "    </tr>\n",
       "  </tbody>\n",
       "</table>\n",
       "<p>1000 rows × 18 columns</p>\n",
       "</div>"
      ],
      "text/plain": [
       "      International plan  Voice mail plan  Account length_std  Area code_std  \\\n",
       "438                    0                0            0.317071       1.740454   \n",
       "2674                   0                0           -0.838516      -0.515843   \n",
       "1345                   0                0           -0.059751      -0.515843   \n",
       "1957                   0                0            1.171201      -0.682096   \n",
       "2148                   0                0           -0.109994      -0.682096   \n",
       "...                  ...              ...                 ...            ...   \n",
       "3080                   0                0           -0.461694      -0.515843   \n",
       "2548                   0                1            0.417557      -0.682096   \n",
       "2916                   0                0            0.090978      -0.515843   \n",
       "2655                   0                0           -0.913881       1.740454   \n",
       "1159                   0                0            0.693893      -0.515843   \n",
       "\n",
       "      Number vmail messages_std  Total day minutes_std  Total day calls_std  \\\n",
       "438                   -0.585483              -0.459145            -0.383285   \n",
       "2674                  -0.585483              -1.301479             0.823467   \n",
       "1345                  -0.585483              -3.303627            -5.059450   \n",
       "1957                  -0.585483               0.601571            -1.087224   \n",
       "2148                  -0.585483              -0.661012             0.069247   \n",
       "...                         ...                    ...                  ...   \n",
       "3080                  -0.585483              -0.818835             0.069247   \n",
       "2548                   0.945176              -0.492178             0.572061   \n",
       "2916                  -0.585483              -1.218897            -0.684973   \n",
       "2655                  -0.585483               0.719021            -1.388912   \n",
       "1159                  -0.585483              -1.407918             1.074874   \n",
       "\n",
       "      Total day charge_std  Total eve minutes_std  Total eve calls_std  \\\n",
       "438              -0.459202               2.554012             0.296151   \n",
       "2674             -1.301214               0.323924             1.192675   \n",
       "1345             -3.303691              -0.814761             1.491516   \n",
       "1957              0.601949               0.061908            -0.450952   \n",
       "2148             -0.661069               0.467737            -1.347475   \n",
       "...                    ...                    ...                  ...   \n",
       "3080             -0.818677               0.712022             1.093061   \n",
       "2548             -0.492667               1.228174             0.495379   \n",
       "2916             -1.219172              -0.834461            -0.102304   \n",
       "2655              0.718535              -0.668978            -1.745930   \n",
       "1159             -1.408085               0.885386             1.142868   \n",
       "\n",
       "      Total eve charge_std  Total night minutes_std  Total night calls_std  \\\n",
       "438               2.553707                -0.221317               1.177171   \n",
       "2674              0.324097                -0.240954               2.096363   \n",
       "1345             -0.813885                -0.659222              -0.610146   \n",
       "1957              0.062199                -0.873266               0.666509   \n",
       "2148              0.467793                 0.530781              -0.456947   \n",
       "...                    ...                      ...                    ...   \n",
       "3080              0.711150                -1.617509              -0.456947   \n",
       "2548              1.227993                -1.289571              -0.763344   \n",
       "2916             -0.834744                -0.254700              -0.661212   \n",
       "2655             -0.667871                -0.771153               0.972906   \n",
       "1159              0.884976                -0.777045              -0.252682   \n",
       "\n",
       "      Total night charge_std  Total intl minutes_std  Total intl calls_std  \\\n",
       "438                -0.222641                1.167234             -0.589331   \n",
       "2674               -0.240096                0.916387              0.634624   \n",
       "1345               -0.659013               -1.233728             -1.405302   \n",
       "1957               -0.872836               -0.015329             -0.997316   \n",
       "2148                0.532282               -0.087000              1.042609   \n",
       "...                      ...                     ...                   ...   \n",
       "3080               -1.619032                2.600645             -0.181346   \n",
       "2548               -1.287389                0.593870              1.042609   \n",
       "2916               -0.253187                0.092176              0.634624   \n",
       "2655               -0.772470               -0.087000              0.226639   \n",
       "1159               -0.776834               -1.377069              1.042609   \n",
       "\n",
       "      Total intl charge_std  Customer service calls_std  \n",
       "438                1.173159                   -0.426563  \n",
       "2674               0.920994                   -1.176504  \n",
       "1345              -1.229039                    1.823260  \n",
       "1957              -0.021304                   -0.426563  \n",
       "2148              -0.087663                   -0.426563  \n",
       "...                     ...                         ...  \n",
       "3080               2.606514                   -1.176504  \n",
       "2548               0.589199                   -0.426563  \n",
       "2916               0.098142                    0.323378  \n",
       "2655              -0.087663                   -0.426563  \n",
       "1159              -1.375029                   -1.176504  \n",
       "\n",
       "[1000 rows x 18 columns]"
      ]
     },
     "execution_count": 6,
     "metadata": {},
     "output_type": "execute_result"
    }
   ],
   "source": [
    "from sklearn.preprocessing import StandardScaler\n",
    "\n",
    "num_columns = list(x_train.columns)\n",
    "num_columns.remove('International plan')\n",
    "num_columns.remove('Voice mail plan')\n",
    "\n",
    "\n",
    "data_train = x_train[num_columns]\n",
    "std_scaler = StandardScaler()\n",
    "std_scaler.fit(data_train)\n",
    "std_scaler_new = std_scaler.transform(data_train)\n",
    "columns_std = [f'{col}_std' for col in num_columns]\n",
    "x_train[columns_std] = std_scaler_new\n",
    "x_train.drop(columns=num_columns, inplace=True)\n",
    "\n",
    "data_test = x_test[num_columns]\n",
    "std_scaler_new_test = std_scaler.transform(data_test)\n",
    "columns_std_test = [f'{col}_std' for col in num_columns]\n",
    "x_test[columns_std_test] = std_scaler_new_test\n",
    "x_test.drop(columns=num_columns, inplace=True)\n",
    "\n",
    "x_test"
   ]
  },
  {
   "cell_type": "markdown",
   "metadata": {
    "id": "zvAH5Qte0W50"
   },
   "source": [
    "После масштабирования признаков X_train и X_test перестали быть объектами типа pd.DataFrame, это неудобно. Приведите их снова к pd.DataFrame."
   ]
  },
  {
   "cell_type": "code",
   "execution_count": null,
   "metadata": {
    "id": "PRlpMQ750WSU"
   },
   "outputs": [],
   "source": [
    "# ваш код здесь"
   ]
  },
  {
   "cell_type": "markdown",
   "metadata": {
    "id": "253CDINX1TmR"
   },
   "source": [
    "Обучите на тренировочных данных с параметрами по умолчанию:\n",
    "\n",
    "1) логистическую регрессию;\n",
    "\n",
    "2) метод опорных векторов (с kernel='linear')."
   ]
  },
  {
   "cell_type": "code",
   "execution_count": 32,
   "metadata": {
    "id": "GsQW48lf1SxJ"
   },
   "outputs": [
    {
     "data": {
      "text/html": [
       "<style>#sk-container-id-2 {\n",
       "  /* Definition of color scheme common for light and dark mode */\n",
       "  --sklearn-color-text: black;\n",
       "  --sklearn-color-line: gray;\n",
       "  /* Definition of color scheme for unfitted estimators */\n",
       "  --sklearn-color-unfitted-level-0: #fff5e6;\n",
       "  --sklearn-color-unfitted-level-1: #f6e4d2;\n",
       "  --sklearn-color-unfitted-level-2: #ffe0b3;\n",
       "  --sklearn-color-unfitted-level-3: chocolate;\n",
       "  /* Definition of color scheme for fitted estimators */\n",
       "  --sklearn-color-fitted-level-0: #f0f8ff;\n",
       "  --sklearn-color-fitted-level-1: #d4ebff;\n",
       "  --sklearn-color-fitted-level-2: #b3dbfd;\n",
       "  --sklearn-color-fitted-level-3: cornflowerblue;\n",
       "\n",
       "  /* Specific color for light theme */\n",
       "  --sklearn-color-text-on-default-background: var(--sg-text-color, var(--theme-code-foreground, var(--jp-content-font-color1, black)));\n",
       "  --sklearn-color-background: var(--sg-background-color, var(--theme-background, var(--jp-layout-color0, white)));\n",
       "  --sklearn-color-border-box: var(--sg-text-color, var(--theme-code-foreground, var(--jp-content-font-color1, black)));\n",
       "  --sklearn-color-icon: #696969;\n",
       "\n",
       "  @media (prefers-color-scheme: dark) {\n",
       "    /* Redefinition of color scheme for dark theme */\n",
       "    --sklearn-color-text-on-default-background: var(--sg-text-color, var(--theme-code-foreground, var(--jp-content-font-color1, white)));\n",
       "    --sklearn-color-background: var(--sg-background-color, var(--theme-background, var(--jp-layout-color0, #111)));\n",
       "    --sklearn-color-border-box: var(--sg-text-color, var(--theme-code-foreground, var(--jp-content-font-color1, white)));\n",
       "    --sklearn-color-icon: #878787;\n",
       "  }\n",
       "}\n",
       "\n",
       "#sk-container-id-2 {\n",
       "  color: var(--sklearn-color-text);\n",
       "}\n",
       "\n",
       "#sk-container-id-2 pre {\n",
       "  padding: 0;\n",
       "}\n",
       "\n",
       "#sk-container-id-2 input.sk-hidden--visually {\n",
       "  border: 0;\n",
       "  clip: rect(1px 1px 1px 1px);\n",
       "  clip: rect(1px, 1px, 1px, 1px);\n",
       "  height: 1px;\n",
       "  margin: -1px;\n",
       "  overflow: hidden;\n",
       "  padding: 0;\n",
       "  position: absolute;\n",
       "  width: 1px;\n",
       "}\n",
       "\n",
       "#sk-container-id-2 div.sk-dashed-wrapped {\n",
       "  border: 1px dashed var(--sklearn-color-line);\n",
       "  margin: 0 0.4em 0.5em 0.4em;\n",
       "  box-sizing: border-box;\n",
       "  padding-bottom: 0.4em;\n",
       "  background-color: var(--sklearn-color-background);\n",
       "}\n",
       "\n",
       "#sk-container-id-2 div.sk-container {\n",
       "  /* jupyter's `normalize.less` sets `[hidden] { display: none; }`\n",
       "     but bootstrap.min.css set `[hidden] { display: none !important; }`\n",
       "     so we also need the `!important` here to be able to override the\n",
       "     default hidden behavior on the sphinx rendered scikit-learn.org.\n",
       "     See: https://github.com/scikit-learn/scikit-learn/issues/21755 */\n",
       "  display: inline-block !important;\n",
       "  position: relative;\n",
       "}\n",
       "\n",
       "#sk-container-id-2 div.sk-text-repr-fallback {\n",
       "  display: none;\n",
       "}\n",
       "\n",
       "div.sk-parallel-item,\n",
       "div.sk-serial,\n",
       "div.sk-item {\n",
       "  /* draw centered vertical line to link estimators */\n",
       "  background-image: linear-gradient(var(--sklearn-color-text-on-default-background), var(--sklearn-color-text-on-default-background));\n",
       "  background-size: 2px 100%;\n",
       "  background-repeat: no-repeat;\n",
       "  background-position: center center;\n",
       "}\n",
       "\n",
       "/* Parallel-specific style estimator block */\n",
       "\n",
       "#sk-container-id-2 div.sk-parallel-item::after {\n",
       "  content: \"\";\n",
       "  width: 100%;\n",
       "  border-bottom: 2px solid var(--sklearn-color-text-on-default-background);\n",
       "  flex-grow: 1;\n",
       "}\n",
       "\n",
       "#sk-container-id-2 div.sk-parallel {\n",
       "  display: flex;\n",
       "  align-items: stretch;\n",
       "  justify-content: center;\n",
       "  background-color: var(--sklearn-color-background);\n",
       "  position: relative;\n",
       "}\n",
       "\n",
       "#sk-container-id-2 div.sk-parallel-item {\n",
       "  display: flex;\n",
       "  flex-direction: column;\n",
       "}\n",
       "\n",
       "#sk-container-id-2 div.sk-parallel-item:first-child::after {\n",
       "  align-self: flex-end;\n",
       "  width: 50%;\n",
       "}\n",
       "\n",
       "#sk-container-id-2 div.sk-parallel-item:last-child::after {\n",
       "  align-self: flex-start;\n",
       "  width: 50%;\n",
       "}\n",
       "\n",
       "#sk-container-id-2 div.sk-parallel-item:only-child::after {\n",
       "  width: 0;\n",
       "}\n",
       "\n",
       "/* Serial-specific style estimator block */\n",
       "\n",
       "#sk-container-id-2 div.sk-serial {\n",
       "  display: flex;\n",
       "  flex-direction: column;\n",
       "  align-items: center;\n",
       "  background-color: var(--sklearn-color-background);\n",
       "  padding-right: 1em;\n",
       "  padding-left: 1em;\n",
       "}\n",
       "\n",
       "\n",
       "/* Toggleable style: style used for estimator/Pipeline/ColumnTransformer box that is\n",
       "clickable and can be expanded/collapsed.\n",
       "- Pipeline and ColumnTransformer use this feature and define the default style\n",
       "- Estimators will overwrite some part of the style using the `sk-estimator` class\n",
       "*/\n",
       "\n",
       "/* Pipeline and ColumnTransformer style (default) */\n",
       "\n",
       "#sk-container-id-2 div.sk-toggleable {\n",
       "  /* Default theme specific background. It is overwritten whether we have a\n",
       "  specific estimator or a Pipeline/ColumnTransformer */\n",
       "  background-color: var(--sklearn-color-background);\n",
       "}\n",
       "\n",
       "/* Toggleable label */\n",
       "#sk-container-id-2 label.sk-toggleable__label {\n",
       "  cursor: pointer;\n",
       "  display: block;\n",
       "  width: 100%;\n",
       "  margin-bottom: 0;\n",
       "  padding: 0.5em;\n",
       "  box-sizing: border-box;\n",
       "  text-align: center;\n",
       "}\n",
       "\n",
       "#sk-container-id-2 label.sk-toggleable__label-arrow:before {\n",
       "  /* Arrow on the left of the label */\n",
       "  content: \"▸\";\n",
       "  float: left;\n",
       "  margin-right: 0.25em;\n",
       "  color: var(--sklearn-color-icon);\n",
       "}\n",
       "\n",
       "#sk-container-id-2 label.sk-toggleable__label-arrow:hover:before {\n",
       "  color: var(--sklearn-color-text);\n",
       "}\n",
       "\n",
       "/* Toggleable content - dropdown */\n",
       "\n",
       "#sk-container-id-2 div.sk-toggleable__content {\n",
       "  max-height: 0;\n",
       "  max-width: 0;\n",
       "  overflow: hidden;\n",
       "  text-align: left;\n",
       "  /* unfitted */\n",
       "  background-color: var(--sklearn-color-unfitted-level-0);\n",
       "}\n",
       "\n",
       "#sk-container-id-2 div.sk-toggleable__content.fitted {\n",
       "  /* fitted */\n",
       "  background-color: var(--sklearn-color-fitted-level-0);\n",
       "}\n",
       "\n",
       "#sk-container-id-2 div.sk-toggleable__content pre {\n",
       "  margin: 0.2em;\n",
       "  border-radius: 0.25em;\n",
       "  color: var(--sklearn-color-text);\n",
       "  /* unfitted */\n",
       "  background-color: var(--sklearn-color-unfitted-level-0);\n",
       "}\n",
       "\n",
       "#sk-container-id-2 div.sk-toggleable__content.fitted pre {\n",
       "  /* unfitted */\n",
       "  background-color: var(--sklearn-color-fitted-level-0);\n",
       "}\n",
       "\n",
       "#sk-container-id-2 input.sk-toggleable__control:checked~div.sk-toggleable__content {\n",
       "  /* Expand drop-down */\n",
       "  max-height: 200px;\n",
       "  max-width: 100%;\n",
       "  overflow: auto;\n",
       "}\n",
       "\n",
       "#sk-container-id-2 input.sk-toggleable__control:checked~label.sk-toggleable__label-arrow:before {\n",
       "  content: \"▾\";\n",
       "}\n",
       "\n",
       "/* Pipeline/ColumnTransformer-specific style */\n",
       "\n",
       "#sk-container-id-2 div.sk-label input.sk-toggleable__control:checked~label.sk-toggleable__label {\n",
       "  color: var(--sklearn-color-text);\n",
       "  background-color: var(--sklearn-color-unfitted-level-2);\n",
       "}\n",
       "\n",
       "#sk-container-id-2 div.sk-label.fitted input.sk-toggleable__control:checked~label.sk-toggleable__label {\n",
       "  background-color: var(--sklearn-color-fitted-level-2);\n",
       "}\n",
       "\n",
       "/* Estimator-specific style */\n",
       "\n",
       "/* Colorize estimator box */\n",
       "#sk-container-id-2 div.sk-estimator input.sk-toggleable__control:checked~label.sk-toggleable__label {\n",
       "  /* unfitted */\n",
       "  background-color: var(--sklearn-color-unfitted-level-2);\n",
       "}\n",
       "\n",
       "#sk-container-id-2 div.sk-estimator.fitted input.sk-toggleable__control:checked~label.sk-toggleable__label {\n",
       "  /* fitted */\n",
       "  background-color: var(--sklearn-color-fitted-level-2);\n",
       "}\n",
       "\n",
       "#sk-container-id-2 div.sk-label label.sk-toggleable__label,\n",
       "#sk-container-id-2 div.sk-label label {\n",
       "  /* The background is the default theme color */\n",
       "  color: var(--sklearn-color-text-on-default-background);\n",
       "}\n",
       "\n",
       "/* On hover, darken the color of the background */\n",
       "#sk-container-id-2 div.sk-label:hover label.sk-toggleable__label {\n",
       "  color: var(--sklearn-color-text);\n",
       "  background-color: var(--sklearn-color-unfitted-level-2);\n",
       "}\n",
       "\n",
       "/* Label box, darken color on hover, fitted */\n",
       "#sk-container-id-2 div.sk-label.fitted:hover label.sk-toggleable__label.fitted {\n",
       "  color: var(--sklearn-color-text);\n",
       "  background-color: var(--sklearn-color-fitted-level-2);\n",
       "}\n",
       "\n",
       "/* Estimator label */\n",
       "\n",
       "#sk-container-id-2 div.sk-label label {\n",
       "  font-family: monospace;\n",
       "  font-weight: bold;\n",
       "  display: inline-block;\n",
       "  line-height: 1.2em;\n",
       "}\n",
       "\n",
       "#sk-container-id-2 div.sk-label-container {\n",
       "  text-align: center;\n",
       "}\n",
       "\n",
       "/* Estimator-specific */\n",
       "#sk-container-id-2 div.sk-estimator {\n",
       "  font-family: monospace;\n",
       "  border: 1px dotted var(--sklearn-color-border-box);\n",
       "  border-radius: 0.25em;\n",
       "  box-sizing: border-box;\n",
       "  margin-bottom: 0.5em;\n",
       "  /* unfitted */\n",
       "  background-color: var(--sklearn-color-unfitted-level-0);\n",
       "}\n",
       "\n",
       "#sk-container-id-2 div.sk-estimator.fitted {\n",
       "  /* fitted */\n",
       "  background-color: var(--sklearn-color-fitted-level-0);\n",
       "}\n",
       "\n",
       "/* on hover */\n",
       "#sk-container-id-2 div.sk-estimator:hover {\n",
       "  /* unfitted */\n",
       "  background-color: var(--sklearn-color-unfitted-level-2);\n",
       "}\n",
       "\n",
       "#sk-container-id-2 div.sk-estimator.fitted:hover {\n",
       "  /* fitted */\n",
       "  background-color: var(--sklearn-color-fitted-level-2);\n",
       "}\n",
       "\n",
       "/* Specification for estimator info (e.g. \"i\" and \"?\") */\n",
       "\n",
       "/* Common style for \"i\" and \"?\" */\n",
       "\n",
       ".sk-estimator-doc-link,\n",
       "a:link.sk-estimator-doc-link,\n",
       "a:visited.sk-estimator-doc-link {\n",
       "  float: right;\n",
       "  font-size: smaller;\n",
       "  line-height: 1em;\n",
       "  font-family: monospace;\n",
       "  background-color: var(--sklearn-color-background);\n",
       "  border-radius: 1em;\n",
       "  height: 1em;\n",
       "  width: 1em;\n",
       "  text-decoration: none !important;\n",
       "  margin-left: 1ex;\n",
       "  /* unfitted */\n",
       "  border: var(--sklearn-color-unfitted-level-1) 1pt solid;\n",
       "  color: var(--sklearn-color-unfitted-level-1);\n",
       "}\n",
       "\n",
       ".sk-estimator-doc-link.fitted,\n",
       "a:link.sk-estimator-doc-link.fitted,\n",
       "a:visited.sk-estimator-doc-link.fitted {\n",
       "  /* fitted */\n",
       "  border: var(--sklearn-color-fitted-level-1) 1pt solid;\n",
       "  color: var(--sklearn-color-fitted-level-1);\n",
       "}\n",
       "\n",
       "/* On hover */\n",
       "div.sk-estimator:hover .sk-estimator-doc-link:hover,\n",
       ".sk-estimator-doc-link:hover,\n",
       "div.sk-label-container:hover .sk-estimator-doc-link:hover,\n",
       ".sk-estimator-doc-link:hover {\n",
       "  /* unfitted */\n",
       "  background-color: var(--sklearn-color-unfitted-level-3);\n",
       "  color: var(--sklearn-color-background);\n",
       "  text-decoration: none;\n",
       "}\n",
       "\n",
       "div.sk-estimator.fitted:hover .sk-estimator-doc-link.fitted:hover,\n",
       ".sk-estimator-doc-link.fitted:hover,\n",
       "div.sk-label-container:hover .sk-estimator-doc-link.fitted:hover,\n",
       ".sk-estimator-doc-link.fitted:hover {\n",
       "  /* fitted */\n",
       "  background-color: var(--sklearn-color-fitted-level-3);\n",
       "  color: var(--sklearn-color-background);\n",
       "  text-decoration: none;\n",
       "}\n",
       "\n",
       "/* Span, style for the box shown on hovering the info icon */\n",
       ".sk-estimator-doc-link span {\n",
       "  display: none;\n",
       "  z-index: 9999;\n",
       "  position: relative;\n",
       "  font-weight: normal;\n",
       "  right: .2ex;\n",
       "  padding: .5ex;\n",
       "  margin: .5ex;\n",
       "  width: min-content;\n",
       "  min-width: 20ex;\n",
       "  max-width: 50ex;\n",
       "  color: var(--sklearn-color-text);\n",
       "  box-shadow: 2pt 2pt 4pt #999;\n",
       "  /* unfitted */\n",
       "  background: var(--sklearn-color-unfitted-level-0);\n",
       "  border: .5pt solid var(--sklearn-color-unfitted-level-3);\n",
       "}\n",
       "\n",
       ".sk-estimator-doc-link.fitted span {\n",
       "  /* fitted */\n",
       "  background: var(--sklearn-color-fitted-level-0);\n",
       "  border: var(--sklearn-color-fitted-level-3);\n",
       "}\n",
       "\n",
       ".sk-estimator-doc-link:hover span {\n",
       "  display: block;\n",
       "}\n",
       "\n",
       "/* \"?\"-specific style due to the `<a>` HTML tag */\n",
       "\n",
       "#sk-container-id-2 a.estimator_doc_link {\n",
       "  float: right;\n",
       "  font-size: 1rem;\n",
       "  line-height: 1em;\n",
       "  font-family: monospace;\n",
       "  background-color: var(--sklearn-color-background);\n",
       "  border-radius: 1rem;\n",
       "  height: 1rem;\n",
       "  width: 1rem;\n",
       "  text-decoration: none;\n",
       "  /* unfitted */\n",
       "  color: var(--sklearn-color-unfitted-level-1);\n",
       "  border: var(--sklearn-color-unfitted-level-1) 1pt solid;\n",
       "}\n",
       "\n",
       "#sk-container-id-2 a.estimator_doc_link.fitted {\n",
       "  /* fitted */\n",
       "  border: var(--sklearn-color-fitted-level-1) 1pt solid;\n",
       "  color: var(--sklearn-color-fitted-level-1);\n",
       "}\n",
       "\n",
       "/* On hover */\n",
       "#sk-container-id-2 a.estimator_doc_link:hover {\n",
       "  /* unfitted */\n",
       "  background-color: var(--sklearn-color-unfitted-level-3);\n",
       "  color: var(--sklearn-color-background);\n",
       "  text-decoration: none;\n",
       "}\n",
       "\n",
       "#sk-container-id-2 a.estimator_doc_link.fitted:hover {\n",
       "  /* fitted */\n",
       "  background-color: var(--sklearn-color-fitted-level-3);\n",
       "}\n",
       "</style><div id=\"sk-container-id-2\" class=\"sk-top-container\"><div class=\"sk-text-repr-fallback\"><pre>SVC(kernel=&#x27;linear&#x27;, probability=True)</pre><b>In a Jupyter environment, please rerun this cell to show the HTML representation or trust the notebook. <br />On GitHub, the HTML representation is unable to render, please try loading this page with nbviewer.org.</b></div><div class=\"sk-container\" hidden><div class=\"sk-item\"><div class=\"sk-estimator fitted sk-toggleable\"><input class=\"sk-toggleable__control sk-hidden--visually\" id=\"sk-estimator-id-2\" type=\"checkbox\" checked><label for=\"sk-estimator-id-2\" class=\"sk-toggleable__label fitted sk-toggleable__label-arrow fitted\">&nbsp;&nbsp;SVC<a class=\"sk-estimator-doc-link fitted\" rel=\"noreferrer\" target=\"_blank\" href=\"https://scikit-learn.org/1.4/modules/generated/sklearn.svm.SVC.html\">?<span>Documentation for SVC</span></a><span class=\"sk-estimator-doc-link fitted\">i<span>Fitted</span></span></label><div class=\"sk-toggleable__content fitted\"><pre>SVC(kernel=&#x27;linear&#x27;, probability=True)</pre></div> </div></div></div></div>"
      ],
      "text/plain": [
       "SVC(kernel='linear', probability=True)"
      ]
     },
     "execution_count": 32,
     "metadata": {},
     "output_type": "execute_result"
    }
   ],
   "source": [
    "from sklearn.linear_model import LogisticRegression\n",
    "from sklearn.svm import SVC\n",
    "\n",
    "lr = LogisticRegression()\n",
    "lr.fit(x_train, y_train)\n",
    "\n",
    "svc = SVC(kernel='linear', probability=True)\n",
    "svc.fit(x_train, y_train)"
   ]
  },
  {
   "cell_type": "markdown",
   "metadata": {
    "id": "HZszTXSb110B"
   },
   "source": [
    "С помощью обученных моделей сделайте предсказание на тестовых данных. Вычислите значение метрики roc-auc на тесте. \n",
    "\n",
    "Не забудьте, что для корректного вычисления roc-auc необходимо предсказывать не сами классы, а их вероятности (чтобы SVC мог это сделать, при объявлении модели поставьте probability=True)."
   ]
  },
  {
   "cell_type": "code",
   "execution_count": 33,
   "metadata": {
    "id": "W9IUlgV011PP"
   },
   "outputs": [
    {
     "name": "stdout",
     "output_type": "stream",
     "text": [
      "roc_auc lr = 0.8277043842971497\n",
      "roc_auc svc = 0.7991448458192917\n"
     ]
    }
   ],
   "source": [
    "from sklearn.metrics import roc_auc_score\n",
    "\n",
    "print(f'roc_auc lr = {roc_auc_score(y_test, lr.predict_proba(x_test)[:, 1])}')\n",
    "\n",
    "print(f'roc_auc svc = {roc_auc_score(y_test, svc.predict_proba(x_test)[:, 1])}')"
   ]
  },
  {
   "cell_type": "markdown",
   "metadata": {
    "id": "mVgXsdO02iVG"
   },
   "source": [
    "Теперь обучите решающее дерево с параметрами по умолчанию на тренировочных данных, сделайте предсказание на тесте и вычислите на тесте roc-auc."
   ]
  },
  {
   "cell_type": "code",
   "execution_count": 23,
   "metadata": {
    "id": "yc822SQa2Zsc"
   },
   "outputs": [
    {
     "name": "stdout",
     "output_type": "stream",
     "text": [
      "roc_auc dtc = 0.8385447691165311\n"
     ]
    }
   ],
   "source": [
    "from sklearn.tree import DecisionTreeClassifier\n",
    "\n",
    "dtc = DecisionTreeClassifier(random_state=42)\n",
    "dtc.fit(x_train, y_train)\n",
    "\n",
    "print(f'roc_auc dtc = {roc_auc_score(y_test, dtc.predict_proba(x_test)[:, 1])}')"
   ]
  },
  {
   "cell_type": "markdown",
   "metadata": {
    "id": "wNSwPGPl22zf"
   },
   "source": [
    "Нужно ли масшабировать признаки для обучения решающего дерева? Проверьте это, заново разбив данные на тренировочную и тестовую части (назовите новые полученные объекты новыми названиями), и проведите обучение, предсказание и оценку метрики до масштабирования и после."
   ]
  },
  {
   "cell_type": "code",
   "execution_count": 10,
   "metadata": {
    "id": "t0tjFrP02yIR"
   },
   "outputs": [],
   "source": [
    "Xtrain, Xtest, ytrain, ytest = train_test_split(X, y, test_size=0.3, random_state=42)"
   ]
  },
  {
   "cell_type": "code",
   "execution_count": 19,
   "metadata": {},
   "outputs": [
    {
     "name": "stdout",
     "output_type": "stream",
     "text": [
      "roc_auc dtc_s = 0.8414619219753408\n"
     ]
    }
   ],
   "source": [
    "dtc_s = DecisionTreeClassifier(random_state=42)\n",
    "dtc_s.fit(Xtrain, ytrain)\n",
    "\n",
    "print(f'roc_auc dtc_s = {roc_auc_score(ytest, dtc_s.predict_proba(Xtest)[:, 1])}')"
   ]
  },
  {
   "cell_type": "markdown",
   "metadata": {
    "id": "QpPU2fxH3kta"
   },
   "source": [
    "Какой вывод про масштабирование признаков для обучения дерева можно сделать?"
   ]
  },
  {
   "cell_type": "code",
   "execution_count": null,
   "metadata": {},
   "outputs": [],
   "source": [
    "# Изменения roc auc при маштабировании признаков минимальные. Для решаюющего дерева в маштабировании нет необходимости"
   ]
  },
  {
   "cell_type": "markdown",
   "metadata": {
    "id": "Bof-nFO-3pp7"
   },
   "source": [
    "Теперь ваша цель — максимально улучшить модели. Для этого:\n",
    "\n",
    "1) у линейных моделей подберите гиперпараметр С (переберите 20 значений C в диапазоне от 0.1 до 10 с равным шагом);\n",
    "\n",
    "2) у решающего дерева подберите max_depth (переберите глубину от 1 до 10 с шагом 1) и criterion — gini или entropy (см. [документацию](https://scikit-learn.org/stable/modules/generated/sklearn.tree.DecisionTreeClassifier.html)).\n",
    "\n",
    "Для подбора параметров используйте [GridSearchCV](https://scikit-learn.org/stable/modules/generated/sklearn.model_selection.GridSearchCV.html) с пятью фолдами и метрикой roc-auc или обычные циклы.\n",
    "\n",
    "Подбор параметров осуществляется только по тренировочным данным!"
   ]
  },
  {
   "cell_type": "markdown",
   "metadata": {
    "id": "fOpaM-hq44uW"
   },
   "source": [
    "После подбора гиперпараметров обучите модели с найденными гиперпараметрами на тренировочных данных, сделайте предсказания на тесте и оцените их качество (roc_auc)."
   ]
  },
  {
   "cell_type": "code",
   "execution_count": 25,
   "metadata": {
    "id": "hk9rxc993bRu"
   },
   "outputs": [
    {
     "name": "stdout",
     "output_type": "stream",
     "text": [
      "Fitting 5 folds for each of 200 candidates, totalling 1000 fits\n",
      "{'C': 2.9000000000000004, 'class_weight': 'balanced'}\n",
      "0.807120280008327\n"
     ]
    }
   ],
   "source": [
    "from sklearn.model_selection import GridSearchCV\n",
    "import numpy as np\n",
    "\n",
    "param_grid = {\n",
    "   'C': list(np.arange(0.1, 10.1, 0.1)),\n",
    "   'class_weight': [None, 'balanced'],\n",
    "}\n",
    "lr_g = LogisticRegression(random_state=42)\n",
    "\n",
    "grid_search_lr = GridSearchCV(\n",
    "   estimator=lr_g,\n",
    "   param_grid=param_grid,\n",
    "   scoring='roc_auc',\n",
    "   cv=5,\n",
    "   n_jobs=-1,\n",
    "   verbose=True,\n",
    ")\n",
    "\n",
    "grid_search_lr.fit(x_train, y_train)\n",
    "\n",
    "print(grid_search_lr.best_params_)\n",
    "\n",
    "print(grid_search_lr.best_score_)"
   ]
  },
  {
   "cell_type": "code",
   "execution_count": 26,
   "metadata": {},
   "outputs": [
    {
     "name": "stdout",
     "output_type": "stream",
     "text": [
      "roc_auc best_lr = 0.8328451012231642\n"
     ]
    }
   ],
   "source": [
    "best_lr = LogisticRegression(C=2.9, class_weight='balanced', random_state=42)\n",
    "best_lr.fit(x_train, y_train)\n",
    "\n",
    "print(f'roc_auc best_lr = {roc_auc_score(y_test, best_lr.predict_proba(x_test)[:, 1])}')"
   ]
  },
  {
   "cell_type": "code",
   "execution_count": 27,
   "metadata": {},
   "outputs": [
    {
     "name": "stdout",
     "output_type": "stream",
     "text": [
      "{'C': 1.1, 'class_weight': 'balanced'}\n",
      "0.8844884899212264\n"
     ]
    }
   ],
   "source": [
    "param_grid = {\n",
    "   'C': list(np.arange(0.1, 10.1, 0.1)),\n",
    "   'class_weight': [None, 'balanced'],\n",
    "}\n",
    "svc_g = SVC()\n",
    "\n",
    "grid_search_svc = GridSearchCV(\n",
    "   estimator=svc,\n",
    "   param_grid=param_grid,\n",
    "   scoring='roc_auc',\n",
    "   cv=5,\n",
    "   n_jobs=-1,\n",
    ")\n",
    "\n",
    "grid_search_svc.fit(x_train, y_train)\n",
    "\n",
    "print(grid_search_svc.best_params_)\n",
    "\n",
    "print(grid_search_svc.best_score_)"
   ]
  },
  {
   "cell_type": "code",
   "execution_count": 31,
   "metadata": {},
   "outputs": [
    {
     "name": "stdout",
     "output_type": "stream",
     "text": [
      "roc_auc best_svc = 0.9199027343718125\n"
     ]
    }
   ],
   "source": [
    "best_svc = SVC(C=1.1, class_weight='balanced', probability=True, random_state=42)\n",
    "best_svc.fit(x_train, y_train)\n",
    "\n",
    "print(f'roc_auc best_svc = {roc_auc_score(y_test, best_svc.predict_proba(x_test)[:, 1])}')"
   ]
  },
  {
   "cell_type": "code",
   "execution_count": 38,
   "metadata": {},
   "outputs": [
    {
     "name": "stdout",
     "output_type": "stream",
     "text": [
      "{'criterion': 'gini', 'max_depth': 5}\n",
      "0.8755815788362422\n"
     ]
    }
   ],
   "source": [
    "param_grid = {\n",
    "   'max_depth': list(range(1, 11)),\n",
    "   'criterion': ['gini', 'entropy'],\n",
    "}\n",
    "dtc_g = DecisionTreeClassifier(random_state=42)\n",
    "\n",
    "grid_search_dtc_g = GridSearchCV(\n",
    "   estimator=dtc_g,\n",
    "   param_grid=param_grid,\n",
    "   scoring='roc_auc',\n",
    "   cv=5,\n",
    "   n_jobs=-1,\n",
    ")\n",
    "\n",
    "grid_search_dtc_g.fit(x_train, y_train)\n",
    "\n",
    "print(grid_search_dtc_g.best_params_)\n",
    "\n",
    "print(grid_search_dtc_g.best_score_)"
   ]
  },
  {
   "cell_type": "code",
   "execution_count": 39,
   "metadata": {},
   "outputs": [
    {
     "name": "stdout",
     "output_type": "stream",
     "text": [
      "roc_auc best_dtc = 0.9072998180349405\n"
     ]
    }
   ],
   "source": [
    "best_dtc = DecisionTreeClassifier(max_depth=5, criterion='gini', random_state=42)\n",
    "best_dtc.fit(x_train, y_train)\n",
    "\n",
    "print(f'roc_auc best_dtc = {roc_auc_score(y_test, best_dtc.predict_proba(x_test)[:, 1])}')"
   ]
  },
  {
   "cell_type": "markdown",
   "metadata": {
    "id": "LJdQGP5B6UuT"
   },
   "source": [
    "Какая модель справилась с решением задачи лучше всего по метрике roc-auc?"
   ]
  },
  {
   "cell_type": "markdown",
   "metadata": {
    "id": "9QqqeHyP6Y4o"
   },
   "source": [
    "Нарисуйте roc-кривую для наилучшей модели."
   ]
  },
  {
   "cell_type": "code",
   "execution_count": 41,
   "metadata": {
    "id": "xzrjnbQB6YMA"
   },
   "outputs": [
    {
     "name": "stdout",
     "output_type": "stream",
     "text": [
      "DecisionTreeClassifier: ROC AUC=0.907\n"
     ]
    },
    {
     "data": {
      "image/png": "[encoded data removed]",
      "text/plain": [
       "<Figure size 640x480 with 1 Axes>"
      ]
     },
     "metadata": {},
     "output_type": "display_data"
    }
   ],
   "source": [
    "from sklearn.metrics import roc_curve, auc\n",
    "from matplotlib import pyplot as plt\n",
    "\n",
    "plt.figure(0).clf ()\n",
    "dtc_probs = best_dtc.predict_proba(x_test)\n",
    "dtc_probs = dtc_probs[:, 1]\n",
    "dtc_auc = roc_auc_score(y_test, dtc_probs)\n",
    "print('DecisionTreeClassifier: ROC AUC=%.3f' % (dtc_auc))\n",
    "\n",
    "fpr, tpr, treshold = roc_curve(y_test, dtc_probs)\n",
    "roc_auc = auc(fpr, tpr)\n",
    "\n",
    "plt.plot(fpr, tpr, color='darkorange',\n",
    "         label='ROC кривая (area = %0.2f)' % roc_auc)\n",
    "plt.plot([0, 1], [0, 1], color='navy', linestyle='--')\n",
    "plt.xlim([0.0, 1.0])\n",
    "plt.ylim([0.0, 1.05])\n",
    "plt.xlabel('False Positive Rate')\n",
    "plt.ylabel('True Positive Rate')\n",
    "plt.title('ROC-кривая')\n",
    "plt.legend(loc=\"lower right\")\n",
    "plt.show()"
   ]
  },
  {
   "cell_type": "markdown",
   "metadata": {
    "id": "mKaWSPa_6vvk"
   },
   "source": [
    "Сравните между собой две лучшие модели:\n",
    "\n",
    "1. Насколько сильно отличается качество предсказания на тестовых данных?\n",
    "(Вычислите разность значений roc-auc.)\n",
    "\n",
    "2. Постройте гистограммы важности признаков (для линейных моделей берите модуль значений весов) для каждой из этих моделей. Сравните между собой списки из трёх самых важных признаков. Совпадают ли они?"
   ]
  },
  {
   "cell_type": "code",
   "execution_count": null,
   "metadata": {
    "id": "cc0q1_XL7QT0"
   },
   "outputs": [],
   "source": [
    "# ваш код здесь"
   ]
  },
  {
   "cell_type": "code",
   "execution_count": 44,
   "metadata": {
    "id": "lz_y6FjJ7Kol"
   },
   "outputs": [
    {
     "data": {
      "text/plain": [
       "([0, 1, 2, 3, 4, 5, 6, 7, 8, 9, 10, 11, 12, 13, 14, 15, 16, 17],\n",
       " [Text(0, 0, 'International plan'),\n",
       "  Text(1, 0, 'Voice mail plan'),\n",
       "  Text(2, 0, 'Account length_std'),\n",
       "  Text(3, 0, 'Area code_std'),\n",
       "  Text(4, 0, 'Number vmail messages_std'),\n",
       "  Text(5, 0, 'Total day minutes_std'),\n",
       "  Text(6, 0, 'Total day calls_std'),\n",
       "  Text(7, 0, 'Total day charge_std'),\n",
       "  Text(8, 0, 'Total eve minutes_std'),\n",
       "  Text(9, 0, 'Total eve calls_std'),\n",
       "  Text(10, 0, 'Total eve charge_std'),\n",
       "  Text(11, 0, 'Total night minutes_std'),\n",
       "  Text(12, 0, 'Total night calls_std'),\n",
       "  Text(13, 0, 'Total night charge_std'),\n",
       "  Text(14, 0, 'Total intl minutes_std'),\n",
       "  Text(15, 0, 'Total intl calls_std'),\n",
       "  Text(16, 0, 'Total intl charge_std'),\n",
       "  Text(17, 0, 'Customer service calls_std')])"
      ]
     },
     "execution_count": 44,
     "metadata": {},
     "output_type": "execute_result"
    },
    {
     "data": {
      "image/png": "[encoded data removed]",
      "text/plain": [
       "<Figure size 1200x800 with 1 Axes>"
      ]
     },
     "metadata": {},
     "output_type": "display_data"
    }
   ],
   "source": [
    "plt.figure(figsize=(12,8))\n",
    "plt.bar(x_train.columns, best_dtc.feature_importances_)\n",
    "plt.xticks(rotation=45)"
   ]
  },
  {
   "cell_type": "markdown",
   "metadata": {
    "id": "beRXM0lT8MUp"
   },
   "source": [
    "Сделайте выводы:\n",
    "\n",
    "1. Являются ли данные сбалансированными? Что это означает?\n",
    "\n",
    "2. Какая модель после подбора гиперпараметров лучше всего решает задачу с точки зрения метрики roc-auc?\n",
    "\n",
    "3. Одинаковые ли признаки важны для работы двух наилучших моделей? Почему?"
   ]
  }
 ],
 "metadata": {
  "colab": {
   "collapsed_sections": [],
   "provenance": []
  },
  "kernelspec": {
   "display_name": "Python 3",
   "name": "python3"
  },
  "language_info": {
   "codemirror_mode": {
    "name": "ipython",
    "version": 3
   },
   "file_extension": ".py",
   "mimetype": "text/x-python",
   "name": "python",
   "nbconvert_exporter": "python",
   "pygments_lexer": "ipython3",
   "version": "3.10.12"
  }
 },
 "nbformat": 4,
 "nbformat_minor": 0
}
